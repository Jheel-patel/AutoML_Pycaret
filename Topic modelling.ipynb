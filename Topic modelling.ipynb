{
 "cells": [
  {
   "cell_type": "markdown",
   "metadata": {},
   "source": [
    "# Getting the Data"
   ]
  },
  {
   "cell_type": "code",
   "execution_count": 2,
   "metadata": {},
   "outputs": [
    {
     "data": {
      "text/html": [
       "<div>\n",
       "<style scoped>\n",
       "    .dataframe tbody tr th:only-of-type {\n",
       "        vertical-align: middle;\n",
       "    }\n",
       "\n",
       "    .dataframe tbody tr th {\n",
       "        vertical-align: top;\n",
       "    }\n",
       "\n",
       "    .dataframe thead th {\n",
       "        text-align: right;\n",
       "    }\n",
       "</style>\n",
       "<table border=\"1\" class=\"dataframe\">\n",
       "  <thead>\n",
       "    <tr style=\"text-align: right;\">\n",
       "      <th></th>\n",
       "      <th>country</th>\n",
       "      <th>en</th>\n",
       "      <th>gender</th>\n",
       "      <th>loan_amount</th>\n",
       "      <th>nonpayment</th>\n",
       "      <th>sector</th>\n",
       "      <th>status</th>\n",
       "    </tr>\n",
       "  </thead>\n",
       "  <tbody>\n",
       "    <tr>\n",
       "      <th>0</th>\n",
       "      <td>Dominican Republic</td>\n",
       "      <td>\"Banco Esperanza\" is a group of 10 women looki...</td>\n",
       "      <td>F</td>\n",
       "      <td>1225</td>\n",
       "      <td>partner</td>\n",
       "      <td>Retail</td>\n",
       "      <td>0</td>\n",
       "    </tr>\n",
       "    <tr>\n",
       "      <th>1</th>\n",
       "      <td>Dominican Republic</td>\n",
       "      <td>\"Caminemos Hacia Adelante\" or \"Walking Forward...</td>\n",
       "      <td>F</td>\n",
       "      <td>1975</td>\n",
       "      <td>lender</td>\n",
       "      <td>Clothing</td>\n",
       "      <td>0</td>\n",
       "    </tr>\n",
       "    <tr>\n",
       "      <th>2</th>\n",
       "      <td>Dominican Republic</td>\n",
       "      <td>\"Creciendo Por La Union\" is a group of 10 peop...</td>\n",
       "      <td>F</td>\n",
       "      <td>2175</td>\n",
       "      <td>partner</td>\n",
       "      <td>Clothing</td>\n",
       "      <td>0</td>\n",
       "    </tr>\n",
       "    <tr>\n",
       "      <th>3</th>\n",
       "      <td>Dominican Republic</td>\n",
       "      <td>\"Cristo Vive\" (\"Christ lives\" is a group of 10...</td>\n",
       "      <td>F</td>\n",
       "      <td>1425</td>\n",
       "      <td>partner</td>\n",
       "      <td>Clothing</td>\n",
       "      <td>0</td>\n",
       "    </tr>\n",
       "    <tr>\n",
       "      <th>4</th>\n",
       "      <td>Dominican Republic</td>\n",
       "      <td>\"Cristo Vive\" is a large group of 35 people, 2...</td>\n",
       "      <td>F</td>\n",
       "      <td>4025</td>\n",
       "      <td>partner</td>\n",
       "      <td>Food</td>\n",
       "      <td>0</td>\n",
       "    </tr>\n",
       "  </tbody>\n",
       "</table>\n",
       "</div>"
      ],
      "text/plain": [
       "              country                                                 en  \\\n",
       "0  Dominican Republic  \"Banco Esperanza\" is a group of 10 women looki...   \n",
       "1  Dominican Republic  \"Caminemos Hacia Adelante\" or \"Walking Forward...   \n",
       "2  Dominican Republic  \"Creciendo Por La Union\" is a group of 10 peop...   \n",
       "3  Dominican Republic  \"Cristo Vive\" (\"Christ lives\" is a group of 10...   \n",
       "4  Dominican Republic  \"Cristo Vive\" is a large group of 35 people, 2...   \n",
       "\n",
       "  gender  loan_amount nonpayment    sector  status  \n",
       "0      F         1225    partner    Retail       0  \n",
       "1      F         1975     lender  Clothing       0  \n",
       "2      F         2175    partner  Clothing       0  \n",
       "3      F         1425    partner  Clothing       0  \n",
       "4      F         4025    partner      Food       0  "
      ]
     },
     "metadata": {},
     "output_type": "display_data"
    }
   ],
   "source": [
    "from pycaret.datasets import get_data\n",
    "data = get_data('kiva')"
   ]
  },
  {
   "cell_type": "code",
   "execution_count": 3,
   "metadata": {},
   "outputs": [
    {
     "data": {
      "text/plain": [
       "(6818, 7)"
      ]
     },
     "execution_count": 3,
     "metadata": {},
     "output_type": "execute_result"
    }
   ],
   "source": [
    "#check the shape of data\n",
    "data.shape"
   ]
  },
  {
   "cell_type": "code",
   "execution_count": 5,
   "metadata": {},
   "outputs": [
    {
     "data": {
      "text/plain": [
       "(1000, 7)"
      ]
     },
     "execution_count": 5,
     "metadata": {},
     "output_type": "execute_result"
    }
   ],
   "source": [
    "# sampling the data to select only 1000 documents\n",
    "data = data.sample(1000, random_state=786).reset_index(drop=True)\n",
    "data.shape"
   ]
  },
  {
   "cell_type": "markdown",
   "metadata": {},
   "source": [
    "# Setting up Environment in PyCaret\n",
    "\n",
    "It takes two parameters: pandas dataframe and name of the text column passed as target parameter. You can also pass a list containing text, in which case you don't need to pass target parameter. When setup is executed, following pre-processing steps are applied automatically:\n",
    "\n",
    "Removing Numeric Characters: All numeric characters are removed from the text. They are replaced with blanks.\n",
    "\n",
    "Removing Special Characters: All non-alphanumeric special characters are removed from the text. They are also replaced with blanks.\n",
    "\n",
    "Word Tokenization: Word tokenization is the process of splitting a large sample of text into words. This is the core requirement in natural language processing tasks where each word needs to be captured separately for further analysis. Read More\n",
    "\n",
    "Stopword Removal: A stop word (or stopword) is a word that is often removed from text because it is common and provides little value for information retrieval, even though it might be linguistically meaningful. Example of such words in english language are: \"the\", \"a\", \"an\", \"in\" etc. Read More\n",
    "\n",
    "Bigram Extraction: A bigram is a sequence of two adjacent elements from a string of tokens, which are typically letters, syllables, or words. For example: word New York is captured as two different words \"New\" and \"York\" when tokenization is performed but if it is repeated enough times, Bigram Extraction will represent the word as one i.e. \"New_York\" Read More\n",
    "\n",
    "Trigram Extraction: Similar to bigram extraction, trigram is a sequence of three adjacent elements from a string of tokens. Read More\n",
    "\n",
    "Lemmatizing: Lemmatization is the process of grouping together the inflected forms of a word so they can be analysed as a single word, identified by the word's lemma, or dictionary form. In English language, word appears in several inflected forms. For example the verb 'to walk' may appear as 'walk', 'walked', 'walks', 'walking'. The base form, 'walk', that one might look up in a dictionary, is called the lemma for the word. Read More\n",
    "\n",
    "Custom Stopwords: Many times text contains words that are not stopwords by the rule of language but they add no or very little information. For example, in this tutorial we are using the loan dataset. As such, words like \"loan\", \"bank\", \"money\", \"business\" are too obvious and adds no value. More often than not, they also add a lot of noise in the topic model. You can remove those words from corpus by using custom_stopwords parameter. In next tutorial, Natural Language Processing Tutorial (NLP102) - Level Intermediate we will demonstrate the use of custom_stopwords parameter inside setup().\n"
   ]
  },
  {
   "cell_type": "code",
   "execution_count": 8,
   "metadata": {},
   "outputs": [
    {
     "data": {
      "text/html": [
       "<style  type=\"text/css\" >\n",
       "</style><table id=\"T_25c14c30_16d1_11eb_99e9_a3f1e79ab97b\" ><thead>    <tr>        <th class=\"col_heading level0 col0\" >Description</th>        <th class=\"col_heading level0 col1\" >Value</th>    </tr></thead><tbody>\n",
       "                <tr>\n",
       "                                <td id=\"T_25c14c30_16d1_11eb_99e9_a3f1e79ab97brow0_col0\" class=\"data row0 col0\" >session_id</td>\n",
       "                        <td id=\"T_25c14c30_16d1_11eb_99e9_a3f1e79ab97brow0_col1\" class=\"data row0 col1\" >123</td>\n",
       "            </tr>\n",
       "            <tr>\n",
       "                                <td id=\"T_25c14c30_16d1_11eb_99e9_a3f1e79ab97brow1_col0\" class=\"data row1 col0\" >Documents</td>\n",
       "                        <td id=\"T_25c14c30_16d1_11eb_99e9_a3f1e79ab97brow1_col1\" class=\"data row1 col1\" >1000</td>\n",
       "            </tr>\n",
       "            <tr>\n",
       "                                <td id=\"T_25c14c30_16d1_11eb_99e9_a3f1e79ab97brow2_col0\" class=\"data row2 col0\" >Vocab Size</td>\n",
       "                        <td id=\"T_25c14c30_16d1_11eb_99e9_a3f1e79ab97brow2_col1\" class=\"data row2 col1\" >4615</td>\n",
       "            </tr>\n",
       "            <tr>\n",
       "                                <td id=\"T_25c14c30_16d1_11eb_99e9_a3f1e79ab97brow3_col0\" class=\"data row3 col0\" >Custom Stopwords</td>\n",
       "                        <td id=\"T_25c14c30_16d1_11eb_99e9_a3f1e79ab97brow3_col1\" class=\"data row3 col1\" >False</td>\n",
       "            </tr>\n",
       "    </tbody></table>"
      ],
      "text/plain": [
       "<pandas.io.formats.style.Styler at 0x20213a625e0>"
      ]
     },
     "metadata": {},
     "output_type": "display_data"
    }
   ],
   "source": [
    "from pycaret.nlp import *\n",
    "exp_nlp101 = setup(data = data, target = 'en', session_id = 123)"
   ]
  },
  {
   "cell_type": "markdown",
   "metadata": {},
   "source": [
    " Documents : Number of documents (or samples in dataset if dataframe is passed).\n",
    "\n",
    "Vocab Size : Size of vocabulary in the corpus after applying all text pre-processing such as removal of stopwords, bigram/trigram extraction, lemmatization etc.\n",
    "\n",
    "all text pre-processing steps are performed automatically when you execute setup()"
   ]
  },
  {
   "cell_type": "markdown",
   "metadata": {},
   "source": [
    "# Create a Topic Model\n",
    "\n",
    " In machine learning and natural language processing, a topic model is a type of statistical model for discovering the abstract \"topics\" that occur in a collection of documents. Topic modeling is a frequently used text-mining tool for discovery of hidden semantic structures in a text body. Intuitively, given that a document is about a particular topic, one would expect particular words to appear in the document more or less frequently: \"dog\" and \"bone\" will appear more often in documents about dogs, \"cat\" and \"meow\" will appear in documents about cats, and \"the\" and \"is\" will appear equally in both. A document typically concerns multiple topics in different proportions; thus, in a document that is 10% about cats and 90% about dogs, there would probably be about 9 times more dog words than cat words. The \"topics\" produced by topic modeling techniques are clusters of similar words.\n",
    " \n",
    " \n",
    " Creating a topic model in PyCaret is simple and similar to how you would have created a model in supervised modules of pycaret. A topic model is created using create_model() function which takes one mandatory parameter i.e. name of model as a string. This function returns a trained model object. There are 5 topic models available in PyCaret. see the docstring of create_model() for complete list of models. See an example below where we create Latent Dirichlet Allocation (LDA) model:"
   ]
  },
  {
   "cell_type": "code",
   "execution_count": 9,
   "metadata": {},
   "outputs": [],
   "source": [
    "lda = create_model('lda')"
   ]
  },
  {
   "cell_type": "code",
   "execution_count": 10,
   "metadata": {},
   "outputs": [
    {
     "name": "stdout",
     "output_type": "stream",
     "text": [
      "LdaModel(num_terms=4615, num_topics=4, decay=0.5, chunksize=100)\n"
     ]
    }
   ],
   "source": [
    "print(lda)"
   ]
  },
  {
   "cell_type": "code",
   "execution_count": 12,
   "metadata": {},
   "outputs": [
    {
     "name": "stdout",
     "output_type": "stream",
     "text": [
      "LdaModel(num_terms=4615, num_topics=6, decay=0.5, chunksize=100)\n"
     ]
    }
   ],
   "source": [
    "lda2 = create_model('lda', num_topics = 6, multi_core = True)\n",
    "print(lda2)"
   ]
  },
  {
   "cell_type": "markdown",
   "metadata": {},
   "source": [
    "# Assign a Model\n",
    "\n",
    "assign the topic proportions to our dataset (6818 documents / samples) to analyze the results. We will achieve this by using assign_model() function."
   ]
  },
  {
   "cell_type": "code",
   "execution_count": 14,
   "metadata": {},
   "outputs": [
    {
     "data": {
      "text/html": [
       "<div>\n",
       "<style scoped>\n",
       "    .dataframe tbody tr th:only-of-type {\n",
       "        vertical-align: middle;\n",
       "    }\n",
       "\n",
       "    .dataframe tbody tr th {\n",
       "        vertical-align: top;\n",
       "    }\n",
       "\n",
       "    .dataframe thead th {\n",
       "        text-align: right;\n",
       "    }\n",
       "</style>\n",
       "<table border=\"1\" class=\"dataframe\">\n",
       "  <thead>\n",
       "    <tr style=\"text-align: right;\">\n",
       "      <th></th>\n",
       "      <th>country</th>\n",
       "      <th>en</th>\n",
       "      <th>gender</th>\n",
       "      <th>loan_amount</th>\n",
       "      <th>nonpayment</th>\n",
       "      <th>sector</th>\n",
       "      <th>status</th>\n",
       "      <th>Topic_0</th>\n",
       "      <th>Topic_1</th>\n",
       "      <th>Topic_2</th>\n",
       "      <th>Topic_3</th>\n",
       "      <th>Dominant_Topic</th>\n",
       "      <th>Perc_Dominant_Topic</th>\n",
       "    </tr>\n",
       "  </thead>\n",
       "  <tbody>\n",
       "    <tr>\n",
       "      <th>0</th>\n",
       "      <td>Ecuador</td>\n",
       "      <td>store sell article necessity school supply sto...</td>\n",
       "      <td>M</td>\n",
       "      <td>1050</td>\n",
       "      <td>partner</td>\n",
       "      <td>Retail</td>\n",
       "      <td>0</td>\n",
       "      <td>0.000378</td>\n",
       "      <td>0.004196</td>\n",
       "      <td>0.990430</td>\n",
       "      <td>0.004997</td>\n",
       "      <td>Topic 2</td>\n",
       "      <td>0.99</td>\n",
       "    </tr>\n",
       "    <tr>\n",
       "      <th>1</th>\n",
       "      <td>Ecuador</td>\n",
       "      <td>year old married mother child child still stil...</td>\n",
       "      <td>F</td>\n",
       "      <td>550</td>\n",
       "      <td>lender</td>\n",
       "      <td>Food</td>\n",
       "      <td>1</td>\n",
       "      <td>0.000240</td>\n",
       "      <td>0.002589</td>\n",
       "      <td>0.568185</td>\n",
       "      <td>0.428987</td>\n",
       "      <td>Topic 2</td>\n",
       "      <td>0.57</td>\n",
       "    </tr>\n",
       "    <tr>\n",
       "      <th>2</th>\n",
       "      <td>Kenya</td>\n",
       "      <td>year old marry kid grade young child still bab...</td>\n",
       "      <td>F</td>\n",
       "      <td>1000</td>\n",
       "      <td>lender</td>\n",
       "      <td>Services</td>\n",
       "      <td>1</td>\n",
       "      <td>0.000474</td>\n",
       "      <td>0.594569</td>\n",
       "      <td>0.347255</td>\n",
       "      <td>0.057702</td>\n",
       "      <td>Topic 1</td>\n",
       "      <td>0.59</td>\n",
       "    </tr>\n",
       "    <tr>\n",
       "      <th>3</th>\n",
       "      <td>Dominican Republic</td>\n",
       "      <td>year old son daughter twentie make curtain dec...</td>\n",
       "      <td>F</td>\n",
       "      <td>250</td>\n",
       "      <td>partner</td>\n",
       "      <td>Retail</td>\n",
       "      <td>0</td>\n",
       "      <td>0.000579</td>\n",
       "      <td>0.006191</td>\n",
       "      <td>0.718684</td>\n",
       "      <td>0.274545</td>\n",
       "      <td>Topic 2</td>\n",
       "      <td>0.72</td>\n",
       "    </tr>\n",
       "    <tr>\n",
       "      <th>4</th>\n",
       "      <td>Kenya</td>\n",
       "      <td>year old live life purity good moral founder g...</td>\n",
       "      <td>F</td>\n",
       "      <td>150</td>\n",
       "      <td>lender</td>\n",
       "      <td>Agriculture</td>\n",
       "      <td>1</td>\n",
       "      <td>0.000482</td>\n",
       "      <td>0.977193</td>\n",
       "      <td>0.015058</td>\n",
       "      <td>0.007267</td>\n",
       "      <td>Topic 1</td>\n",
       "      <td>0.98</td>\n",
       "    </tr>\n",
       "  </tbody>\n",
       "</table>\n",
       "</div>"
      ],
      "text/plain": [
       "              country                                                 en  \\\n",
       "0             Ecuador  store sell article necessity school supply sto...   \n",
       "1             Ecuador  year old married mother child child still stil...   \n",
       "2               Kenya  year old marry kid grade young child still bab...   \n",
       "3  Dominican Republic  year old son daughter twentie make curtain dec...   \n",
       "4               Kenya  year old live life purity good moral founder g...   \n",
       "\n",
       "  gender  loan_amount nonpayment       sector  status   Topic_0   Topic_1  \\\n",
       "0      M         1050    partner       Retail       0  0.000378  0.004196   \n",
       "1      F          550     lender         Food       1  0.000240  0.002589   \n",
       "2      F         1000     lender     Services       1  0.000474  0.594569   \n",
       "3      F          250    partner       Retail       0  0.000579  0.006191   \n",
       "4      F          150     lender  Agriculture       1  0.000482  0.977193   \n",
       "\n",
       "    Topic_2   Topic_3 Dominant_Topic  Perc_Dominant_Topic  \n",
       "0  0.990430  0.004997        Topic 2                 0.99  \n",
       "1  0.568185  0.428987        Topic 2                 0.57  \n",
       "2  0.347255  0.057702        Topic 1                 0.59  \n",
       "3  0.718684  0.274545        Topic 2                 0.72  \n",
       "4  0.015058  0.007267        Topic 1                 0.98  "
      ]
     },
     "execution_count": 14,
     "metadata": {},
     "output_type": "execute_result"
    }
   ],
   "source": [
    "lda_results = assign_model(lda)\n",
    "lda_results.head()"
   ]
  },
  {
   "cell_type": "markdown",
   "metadata": {},
   "source": [
    " 6 additional columns are now added to the dataframe. en is the text after all pre-processing. Topic_0 ... Topic_3 are the topic proportions and represents the distribution of topics for each document. Dominant_Topic is the topic number with highest proportion and Perc_Dominant_Topic is the percentage of dominant topic over 1 (only shown when models are stochastic i.e. sum of all proportions equal to 1) ."
   ]
  },
  {
   "cell_type": "markdown",
   "metadata": {},
   "source": [
    "# Plot a Model"
   ]
  },
  {
   "cell_type": "markdown",
   "metadata": {},
   "source": [
    "plot_model() function can be used to analyze the overall corpus or only specific topics extracted through topic model. Hence the function plot_model() can also work without passing any trained model object. \n",
    "\n",
    "## Frequency Distribution of Entire Corpus"
   ]
  },
  {
   "cell_type": "code",
   "execution_count": 16,
   "metadata": {},
   "outputs": [
    {
     "data": {
      "text/html": [
       "        <script type=\"text/javascript\">\n",
       "        window.PlotlyConfig = {MathJaxConfig: 'local'};\n",
       "        if (window.MathJax) {MathJax.Hub.Config({SVG: {font: \"STIX-Web\"}});}\n",
       "        if (typeof require !== 'undefined') {\n",
       "        require.undef(\"plotly\");\n",
       "        requirejs.config({\n",
       "            paths: {\n",
       "                'plotly': ['https://cdn.plot.ly/plotly-latest.min']\n",
       "            }\n",
       "        });\n",
       "        require(['plotly'], function(Plotly) {\n",
       "            window._Plotly = Plotly;\n",
       "        });\n",
       "        }\n",
       "        </script>\n",
       "        "
      ]
     },
     "metadata": {},
     "output_type": "display_data"
    },
    {
     "data": {
      "application/vnd.plotly.v1+json": {
       "config": {
        "linkText": "Export to plot.ly",
        "plotlyServerURL": "https://plot.ly",
        "showLink": true
       },
       "data": [
        {
         "marker": {
          "color": "rgba(255, 153, 51, 0.6)",
          "line": {
           "color": "rgba(255, 153, 51, 1.0)",
           "width": 1
          }
         },
         "name": "count",
         "orientation": "v",
         "text": "",
         "type": "bar",
         "x": [
          "business",
          "loan",
          "child",
          "year",
          "sell",
          "buy",
          "school",
          "also",
          "work",
          "use",
          "old",
          "family",
          "make",
          "able",
          "start",
          "small",
          "help",
          "group",
          "husband",
          "live",
          "product",
          "purchase",
          "well",
          "income",
          "increase",
          "woman",
          "home",
          "customer",
          "good",
          "community",
          "need",
          "order",
          "member",
          "request",
          "pay",
          "expand",
          "hope",
          "stock",
          "grow",
          "want",
          "new",
          "time",
          "people",
          "provide",
          "farmer",
          "store",
          "marry",
          "many",
          "client",
          "money",
          "go",
          "area",
          "get",
          "entrepreneur",
          "rice",
          "support",
          "improve",
          "market",
          "give",
          "life",
          "hard",
          "sale",
          "clothing",
          "repay",
          "mother",
          "ago",
          "food",
          "shop",
          "run",
          "take",
          "profit",
          "plan",
          "clothe",
          "invest",
          "capital",
          "service",
          "first",
          "high",
          "continue",
          "farm",
          "education",
          "local",
          "young",
          "item",
          "house",
          "demand",
          "fee",
          "married",
          "large",
          "wife",
          "operate",
          "enable",
          "meet",
          "receive",
          "say",
          "day",
          "month",
          "age",
          "still",
          "offer"
         ],
         "y": [
          1913,
          1781,
          1201,
          1169,
          1078,
          780,
          647,
          646,
          605,
          604,
          583,
          560,
          530,
          523,
          486,
          469,
          467,
          462,
          418,
          411,
          390,
          375,
          361,
          360,
          351,
          329,
          320,
          316,
          312,
          305,
          298,
          285,
          269,
          268,
          264,
          260,
          259,
          255,
          247,
          246,
          244,
          238,
          235,
          234,
          232,
          232,
          221,
          217,
          215,
          212,
          212,
          212,
          209,
          208,
          204,
          203,
          202,
          200,
          200,
          196,
          191,
          187,
          186,
          185,
          183,
          181,
          181,
          177,
          175,
          171,
          171,
          168,
          165,
          164,
          163,
          162,
          161,
          159,
          158,
          156,
          156,
          146,
          142,
          142,
          140,
          139,
          139,
          138,
          136,
          133,
          133,
          133,
          133,
          132,
          132,
          131,
          128,
          127,
          126,
          125
         ]
        }
       ],
       "layout": {
        "legend": {
         "bgcolor": "#F5F6F9",
         "font": {
          "color": "#4D5663"
         }
        },
        "paper_bgcolor": "#F5F6F9",
        "plot_bgcolor": "#F5F6F9",
        "template": {
         "data": {
          "bar": [
           {
            "error_x": {
             "color": "#2a3f5f"
            },
            "error_y": {
             "color": "#2a3f5f"
            },
            "marker": {
             "line": {
              "color": "#E5ECF6",
              "width": 0.5
             }
            },
            "type": "bar"
           }
          ],
          "barpolar": [
           {
            "marker": {
             "line": {
              "color": "#E5ECF6",
              "width": 0.5
             }
            },
            "type": "barpolar"
           }
          ],
          "carpet": [
           {
            "aaxis": {
             "endlinecolor": "#2a3f5f",
             "gridcolor": "white",
             "linecolor": "white",
             "minorgridcolor": "white",
             "startlinecolor": "#2a3f5f"
            },
            "baxis": {
             "endlinecolor": "#2a3f5f",
             "gridcolor": "white",
             "linecolor": "white",
             "minorgridcolor": "white",
             "startlinecolor": "#2a3f5f"
            },
            "type": "carpet"
           }
          ],
          "choropleth": [
           {
            "colorbar": {
             "outlinewidth": 0,
             "ticks": ""
            },
            "type": "choropleth"
           }
          ],
          "contour": [
           {
            "colorbar": {
             "outlinewidth": 0,
             "ticks": ""
            },
            "colorscale": [
             [
              0,
              "#0d0887"
             ],
             [
              0.1111111111111111,
              "#46039f"
             ],
             [
              0.2222222222222222,
              "#7201a8"
             ],
             [
              0.3333333333333333,
              "#9c179e"
             ],
             [
              0.4444444444444444,
              "#bd3786"
             ],
             [
              0.5555555555555556,
              "#d8576b"
             ],
             [
              0.6666666666666666,
              "#ed7953"
             ],
             [
              0.7777777777777778,
              "#fb9f3a"
             ],
             [
              0.8888888888888888,
              "#fdca26"
             ],
             [
              1,
              "#f0f921"
             ]
            ],
            "type": "contour"
           }
          ],
          "contourcarpet": [
           {
            "colorbar": {
             "outlinewidth": 0,
             "ticks": ""
            },
            "type": "contourcarpet"
           }
          ],
          "heatmap": [
           {
            "colorbar": {
             "outlinewidth": 0,
             "ticks": ""
            },
            "colorscale": [
             [
              0,
              "#0d0887"
             ],
             [
              0.1111111111111111,
              "#46039f"
             ],
             [
              0.2222222222222222,
              "#7201a8"
             ],
             [
              0.3333333333333333,
              "#9c179e"
             ],
             [
              0.4444444444444444,
              "#bd3786"
             ],
             [
              0.5555555555555556,
              "#d8576b"
             ],
             [
              0.6666666666666666,
              "#ed7953"
             ],
             [
              0.7777777777777778,
              "#fb9f3a"
             ],
             [
              0.8888888888888888,
              "#fdca26"
             ],
             [
              1,
              "#f0f921"
             ]
            ],
            "type": "heatmap"
           }
          ],
          "heatmapgl": [
           {
            "colorbar": {
             "outlinewidth": 0,
             "ticks": ""
            },
            "colorscale": [
             [
              0,
              "#0d0887"
             ],
             [
              0.1111111111111111,
              "#46039f"
             ],
             [
              0.2222222222222222,
              "#7201a8"
             ],
             [
              0.3333333333333333,
              "#9c179e"
             ],
             [
              0.4444444444444444,
              "#bd3786"
             ],
             [
              0.5555555555555556,
              "#d8576b"
             ],
             [
              0.6666666666666666,
              "#ed7953"
             ],
             [
              0.7777777777777778,
              "#fb9f3a"
             ],
             [
              0.8888888888888888,
              "#fdca26"
             ],
             [
              1,
              "#f0f921"
             ]
            ],
            "type": "heatmapgl"
           }
          ],
          "histogram": [
           {
            "marker": {
             "colorbar": {
              "outlinewidth": 0,
              "ticks": ""
             }
            },
            "type": "histogram"
           }
          ],
          "histogram2d": [
           {
            "colorbar": {
             "outlinewidth": 0,
             "ticks": ""
            },
            "colorscale": [
             [
              0,
              "#0d0887"
             ],
             [
              0.1111111111111111,
              "#46039f"
             ],
             [
              0.2222222222222222,
              "#7201a8"
             ],
             [
              0.3333333333333333,
              "#9c179e"
             ],
             [
              0.4444444444444444,
              "#bd3786"
             ],
             [
              0.5555555555555556,
              "#d8576b"
             ],
             [
              0.6666666666666666,
              "#ed7953"
             ],
             [
              0.7777777777777778,
              "#fb9f3a"
             ],
             [
              0.8888888888888888,
              "#fdca26"
             ],
             [
              1,
              "#f0f921"
             ]
            ],
            "type": "histogram2d"
           }
          ],
          "histogram2dcontour": [
           {
            "colorbar": {
             "outlinewidth": 0,
             "ticks": ""
            },
            "colorscale": [
             [
              0,
              "#0d0887"
             ],
             [
              0.1111111111111111,
              "#46039f"
             ],
             [
              0.2222222222222222,
              "#7201a8"
             ],
             [
              0.3333333333333333,
              "#9c179e"
             ],
             [
              0.4444444444444444,
              "#bd3786"
             ],
             [
              0.5555555555555556,
              "#d8576b"
             ],
             [
              0.6666666666666666,
              "#ed7953"
             ],
             [
              0.7777777777777778,
              "#fb9f3a"
             ],
             [
              0.8888888888888888,
              "#fdca26"
             ],
             [
              1,
              "#f0f921"
             ]
            ],
            "type": "histogram2dcontour"
           }
          ],
          "mesh3d": [
           {
            "colorbar": {
             "outlinewidth": 0,
             "ticks": ""
            },
            "type": "mesh3d"
           }
          ],
          "parcoords": [
           {
            "line": {
             "colorbar": {
              "outlinewidth": 0,
              "ticks": ""
             }
            },
            "type": "parcoords"
           }
          ],
          "pie": [
           {
            "automargin": true,
            "type": "pie"
           }
          ],
          "scatter": [
           {
            "marker": {
             "colorbar": {
              "outlinewidth": 0,
              "ticks": ""
             }
            },
            "type": "scatter"
           }
          ],
          "scatter3d": [
           {
            "line": {
             "colorbar": {
              "outlinewidth": 0,
              "ticks": ""
             }
            },
            "marker": {
             "colorbar": {
              "outlinewidth": 0,
              "ticks": ""
             }
            },
            "type": "scatter3d"
           }
          ],
          "scattercarpet": [
           {
            "marker": {
             "colorbar": {
              "outlinewidth": 0,
              "ticks": ""
             }
            },
            "type": "scattercarpet"
           }
          ],
          "scattergeo": [
           {
            "marker": {
             "colorbar": {
              "outlinewidth": 0,
              "ticks": ""
             }
            },
            "type": "scattergeo"
           }
          ],
          "scattergl": [
           {
            "marker": {
             "colorbar": {
              "outlinewidth": 0,
              "ticks": ""
             }
            },
            "type": "scattergl"
           }
          ],
          "scattermapbox": [
           {
            "marker": {
             "colorbar": {
              "outlinewidth": 0,
              "ticks": ""
             }
            },
            "type": "scattermapbox"
           }
          ],
          "scatterpolar": [
           {
            "marker": {
             "colorbar": {
              "outlinewidth": 0,
              "ticks": ""
             }
            },
            "type": "scatterpolar"
           }
          ],
          "scatterpolargl": [
           {
            "marker": {
             "colorbar": {
              "outlinewidth": 0,
              "ticks": ""
             }
            },
            "type": "scatterpolargl"
           }
          ],
          "scatterternary": [
           {
            "marker": {
             "colorbar": {
              "outlinewidth": 0,
              "ticks": ""
             }
            },
            "type": "scatterternary"
           }
          ],
          "surface": [
           {
            "colorbar": {
             "outlinewidth": 0,
             "ticks": ""
            },
            "colorscale": [
             [
              0,
              "#0d0887"
             ],
             [
              0.1111111111111111,
              "#46039f"
             ],
             [
              0.2222222222222222,
              "#7201a8"
             ],
             [
              0.3333333333333333,
              "#9c179e"
             ],
             [
              0.4444444444444444,
              "#bd3786"
             ],
             [
              0.5555555555555556,
              "#d8576b"
             ],
             [
              0.6666666666666666,
              "#ed7953"
             ],
             [
              0.7777777777777778,
              "#fb9f3a"
             ],
             [
              0.8888888888888888,
              "#fdca26"
             ],
             [
              1,
              "#f0f921"
             ]
            ],
            "type": "surface"
           }
          ],
          "table": [
           {
            "cells": {
             "fill": {
              "color": "#EBF0F8"
             },
             "line": {
              "color": "white"
             }
            },
            "header": {
             "fill": {
              "color": "#C8D4E3"
             },
             "line": {
              "color": "white"
             }
            },
            "type": "table"
           }
          ]
         },
         "layout": {
          "annotationdefaults": {
           "arrowcolor": "#2a3f5f",
           "arrowhead": 0,
           "arrowwidth": 1
          },
          "coloraxis": {
           "colorbar": {
            "outlinewidth": 0,
            "ticks": ""
           }
          },
          "colorscale": {
           "diverging": [
            [
             0,
             "#8e0152"
            ],
            [
             0.1,
             "#c51b7d"
            ],
            [
             0.2,
             "#de77ae"
            ],
            [
             0.3,
             "#f1b6da"
            ],
            [
             0.4,
             "#fde0ef"
            ],
            [
             0.5,
             "#f7f7f7"
            ],
            [
             0.6,
             "#e6f5d0"
            ],
            [
             0.7,
             "#b8e186"
            ],
            [
             0.8,
             "#7fbc41"
            ],
            [
             0.9,
             "#4d9221"
            ],
            [
             1,
             "#276419"
            ]
           ],
           "sequential": [
            [
             0,
             "#0d0887"
            ],
            [
             0.1111111111111111,
             "#46039f"
            ],
            [
             0.2222222222222222,
             "#7201a8"
            ],
            [
             0.3333333333333333,
             "#9c179e"
            ],
            [
             0.4444444444444444,
             "#bd3786"
            ],
            [
             0.5555555555555556,
             "#d8576b"
            ],
            [
             0.6666666666666666,
             "#ed7953"
            ],
            [
             0.7777777777777778,
             "#fb9f3a"
            ],
            [
             0.8888888888888888,
             "#fdca26"
            ],
            [
             1,
             "#f0f921"
            ]
           ],
           "sequentialminus": [
            [
             0,
             "#0d0887"
            ],
            [
             0.1111111111111111,
             "#46039f"
            ],
            [
             0.2222222222222222,
             "#7201a8"
            ],
            [
             0.3333333333333333,
             "#9c179e"
            ],
            [
             0.4444444444444444,
             "#bd3786"
            ],
            [
             0.5555555555555556,
             "#d8576b"
            ],
            [
             0.6666666666666666,
             "#ed7953"
            ],
            [
             0.7777777777777778,
             "#fb9f3a"
            ],
            [
             0.8888888888888888,
             "#fdca26"
            ],
            [
             1,
             "#f0f921"
            ]
           ]
          },
          "colorway": [
           "#636efa",
           "#EF553B",
           "#00cc96",
           "#ab63fa",
           "#FFA15A",
           "#19d3f3",
           "#FF6692",
           "#B6E880",
           "#FF97FF",
           "#FECB52"
          ],
          "font": {
           "color": "#2a3f5f"
          },
          "geo": {
           "bgcolor": "white",
           "lakecolor": "white",
           "landcolor": "#E5ECF6",
           "showlakes": true,
           "showland": true,
           "subunitcolor": "white"
          },
          "hoverlabel": {
           "align": "left"
          },
          "hovermode": "closest",
          "mapbox": {
           "style": "light"
          },
          "paper_bgcolor": "white",
          "plot_bgcolor": "#E5ECF6",
          "polar": {
           "angularaxis": {
            "gridcolor": "white",
            "linecolor": "white",
            "ticks": ""
           },
           "bgcolor": "#E5ECF6",
           "radialaxis": {
            "gridcolor": "white",
            "linecolor": "white",
            "ticks": ""
           }
          },
          "scene": {
           "xaxis": {
            "backgroundcolor": "#E5ECF6",
            "gridcolor": "white",
            "gridwidth": 2,
            "linecolor": "white",
            "showbackground": true,
            "ticks": "",
            "zerolinecolor": "white"
           },
           "yaxis": {
            "backgroundcolor": "#E5ECF6",
            "gridcolor": "white",
            "gridwidth": 2,
            "linecolor": "white",
            "showbackground": true,
            "ticks": "",
            "zerolinecolor": "white"
           },
           "zaxis": {
            "backgroundcolor": "#E5ECF6",
            "gridcolor": "white",
            "gridwidth": 2,
            "linecolor": "white",
            "showbackground": true,
            "ticks": "",
            "zerolinecolor": "white"
           }
          },
          "shapedefaults": {
           "line": {
            "color": "#2a3f5f"
           }
          },
          "ternary": {
           "aaxis": {
            "gridcolor": "white",
            "linecolor": "white",
            "ticks": ""
           },
           "baxis": {
            "gridcolor": "white",
            "linecolor": "white",
            "ticks": ""
           },
           "bgcolor": "#E5ECF6",
           "caxis": {
            "gridcolor": "white",
            "linecolor": "white",
            "ticks": ""
           }
          },
          "title": {
           "x": 0.05
          },
          "xaxis": {
           "automargin": true,
           "gridcolor": "white",
           "linecolor": "white",
           "ticks": "",
           "title": {
            "standoff": 15
           },
           "zerolinecolor": "white",
           "zerolinewidth": 2
          },
          "yaxis": {
           "automargin": true,
           "gridcolor": "white",
           "linecolor": "white",
           "ticks": "",
           "title": {
            "standoff": 15
           },
           "zerolinecolor": "white",
           "zerolinewidth": 2
          }
         }
        },
        "title": {
         "font": {
          "color": "#4D5663"
         },
         "text": "Top 100 words after removing stop words"
        },
        "xaxis": {
         "gridcolor": "#E1E5ED",
         "linecolor": "black",
         "showgrid": true,
         "tickfont": {
          "color": "#4D5663"
         },
         "title": {
          "font": {
           "color": "#4D5663"
          },
          "text": ""
         },
         "zerolinecolor": "#E1E5ED"
        },
        "yaxis": {
         "gridcolor": "#E1E5ED",
         "linecolor": "black",
         "showgrid": true,
         "tickfont": {
          "color": "#4D5663"
         },
         "title": {
          "font": {
           "color": "#4D5663"
          },
          "text": "Count"
         },
         "zerolinecolor": "#E1E5ED"
        }
       }
      },
      "text/html": [
       "<div>                            <div id=\"0af28f59-acd2-4365-aed5-044160532534\" class=\"plotly-graph-div\" style=\"height:525px; width:100%;\"></div>            <script type=\"text/javascript\">                require([\"plotly\"], function(Plotly) {                    window.PLOTLYENV=window.PLOTLYENV || {};\n",
       "                    window.PLOTLYENV.BASE_URL='https://plot.ly';                                    if (document.getElementById(\"0af28f59-acd2-4365-aed5-044160532534\")) {                    Plotly.newPlot(                        \"0af28f59-acd2-4365-aed5-044160532534\",                        [{\"marker\": {\"color\": \"rgba(255, 153, 51, 0.6)\", \"line\": {\"color\": \"rgba(255, 153, 51, 1.0)\", \"width\": 1}}, \"name\": \"count\", \"orientation\": \"v\", \"text\": \"\", \"type\": \"bar\", \"x\": [\"business\", \"loan\", \"child\", \"year\", \"sell\", \"buy\", \"school\", \"also\", \"work\", \"use\", \"old\", \"family\", \"make\", \"able\", \"start\", \"small\", \"help\", \"group\", \"husband\", \"live\", \"product\", \"purchase\", \"well\", \"income\", \"increase\", \"woman\", \"home\", \"customer\", \"good\", \"community\", \"need\", \"order\", \"member\", \"request\", \"pay\", \"expand\", \"hope\", \"stock\", \"grow\", \"want\", \"new\", \"time\", \"people\", \"provide\", \"farmer\", \"store\", \"marry\", \"many\", \"client\", \"money\", \"go\", \"area\", \"get\", \"entrepreneur\", \"rice\", \"support\", \"improve\", \"market\", \"give\", \"life\", \"hard\", \"sale\", \"clothing\", \"repay\", \"mother\", \"ago\", \"food\", \"shop\", \"run\", \"take\", \"profit\", \"plan\", \"clothe\", \"invest\", \"capital\", \"service\", \"first\", \"high\", \"continue\", \"farm\", \"education\", \"local\", \"young\", \"item\", \"house\", \"demand\", \"fee\", \"married\", \"large\", \"wife\", \"operate\", \"enable\", \"meet\", \"receive\", \"say\", \"day\", \"month\", \"age\", \"still\", \"offer\"], \"y\": [1913, 1781, 1201, 1169, 1078, 780, 647, 646, 605, 604, 583, 560, 530, 523, 486, 469, 467, 462, 418, 411, 390, 375, 361, 360, 351, 329, 320, 316, 312, 305, 298, 285, 269, 268, 264, 260, 259, 255, 247, 246, 244, 238, 235, 234, 232, 232, 221, 217, 215, 212, 212, 212, 209, 208, 204, 203, 202, 200, 200, 196, 191, 187, 186, 185, 183, 181, 181, 177, 175, 171, 171, 168, 165, 164, 163, 162, 161, 159, 158, 156, 156, 146, 142, 142, 140, 139, 139, 138, 136, 133, 133, 133, 133, 132, 132, 131, 128, 127, 126, 125]}],                        {\"legend\": {\"bgcolor\": \"#F5F6F9\", \"font\": {\"color\": \"#4D5663\"}}, \"paper_bgcolor\": \"#F5F6F9\", \"plot_bgcolor\": \"#F5F6F9\", \"template\": {\"data\": {\"bar\": [{\"error_x\": {\"color\": \"#2a3f5f\"}, \"error_y\": {\"color\": \"#2a3f5f\"}, \"marker\": {\"line\": {\"color\": \"#E5ECF6\", \"width\": 0.5}}, \"type\": \"bar\"}], \"barpolar\": [{\"marker\": {\"line\": {\"color\": \"#E5ECF6\", \"width\": 0.5}}, \"type\": \"barpolar\"}], \"carpet\": [{\"aaxis\": {\"endlinecolor\": \"#2a3f5f\", \"gridcolor\": \"white\", \"linecolor\": \"white\", \"minorgridcolor\": \"white\", \"startlinecolor\": \"#2a3f5f\"}, \"baxis\": {\"endlinecolor\": \"#2a3f5f\", \"gridcolor\": \"white\", \"linecolor\": \"white\", \"minorgridcolor\": \"white\", \"startlinecolor\": \"#2a3f5f\"}, \"type\": \"carpet\"}], \"choropleth\": [{\"colorbar\": {\"outlinewidth\": 0, \"ticks\": \"\"}, \"type\": \"choropleth\"}], \"contour\": [{\"colorbar\": {\"outlinewidth\": 0, \"ticks\": \"\"}, \"colorscale\": [[0.0, \"#0d0887\"], [0.1111111111111111, \"#46039f\"], [0.2222222222222222, \"#7201a8\"], [0.3333333333333333, \"#9c179e\"], [0.4444444444444444, \"#bd3786\"], [0.5555555555555556, \"#d8576b\"], [0.6666666666666666, \"#ed7953\"], [0.7777777777777778, \"#fb9f3a\"], [0.8888888888888888, \"#fdca26\"], [1.0, \"#f0f921\"]], \"type\": \"contour\"}], \"contourcarpet\": [{\"colorbar\": {\"outlinewidth\": 0, \"ticks\": \"\"}, \"type\": \"contourcarpet\"}], \"heatmap\": [{\"colorbar\": {\"outlinewidth\": 0, \"ticks\": \"\"}, \"colorscale\": [[0.0, \"#0d0887\"], [0.1111111111111111, \"#46039f\"], [0.2222222222222222, \"#7201a8\"], [0.3333333333333333, \"#9c179e\"], [0.4444444444444444, \"#bd3786\"], [0.5555555555555556, \"#d8576b\"], [0.6666666666666666, \"#ed7953\"], [0.7777777777777778, \"#fb9f3a\"], [0.8888888888888888, \"#fdca26\"], [1.0, \"#f0f921\"]], \"type\": \"heatmap\"}], \"heatmapgl\": [{\"colorbar\": {\"outlinewidth\": 0, \"ticks\": \"\"}, \"colorscale\": [[0.0, \"#0d0887\"], [0.1111111111111111, \"#46039f\"], [0.2222222222222222, \"#7201a8\"], [0.3333333333333333, \"#9c179e\"], [0.4444444444444444, \"#bd3786\"], [0.5555555555555556, \"#d8576b\"], [0.6666666666666666, \"#ed7953\"], [0.7777777777777778, \"#fb9f3a\"], [0.8888888888888888, \"#fdca26\"], [1.0, \"#f0f921\"]], \"type\": \"heatmapgl\"}], \"histogram\": [{\"marker\": {\"colorbar\": {\"outlinewidth\": 0, \"ticks\": \"\"}}, \"type\": \"histogram\"}], \"histogram2d\": [{\"colorbar\": {\"outlinewidth\": 0, \"ticks\": \"\"}, \"colorscale\": [[0.0, \"#0d0887\"], [0.1111111111111111, \"#46039f\"], [0.2222222222222222, \"#7201a8\"], [0.3333333333333333, \"#9c179e\"], [0.4444444444444444, \"#bd3786\"], [0.5555555555555556, \"#d8576b\"], [0.6666666666666666, \"#ed7953\"], [0.7777777777777778, \"#fb9f3a\"], [0.8888888888888888, \"#fdca26\"], [1.0, \"#f0f921\"]], \"type\": \"histogram2d\"}], \"histogram2dcontour\": [{\"colorbar\": {\"outlinewidth\": 0, \"ticks\": \"\"}, \"colorscale\": [[0.0, \"#0d0887\"], [0.1111111111111111, \"#46039f\"], [0.2222222222222222, \"#7201a8\"], [0.3333333333333333, \"#9c179e\"], [0.4444444444444444, \"#bd3786\"], [0.5555555555555556, \"#d8576b\"], [0.6666666666666666, \"#ed7953\"], [0.7777777777777778, \"#fb9f3a\"], [0.8888888888888888, \"#fdca26\"], [1.0, \"#f0f921\"]], \"type\": \"histogram2dcontour\"}], \"mesh3d\": [{\"colorbar\": {\"outlinewidth\": 0, \"ticks\": \"\"}, \"type\": \"mesh3d\"}], \"parcoords\": [{\"line\": {\"colorbar\": {\"outlinewidth\": 0, \"ticks\": \"\"}}, \"type\": \"parcoords\"}], \"pie\": [{\"automargin\": true, \"type\": \"pie\"}], \"scatter\": [{\"marker\": {\"colorbar\": {\"outlinewidth\": 0, \"ticks\": \"\"}}, \"type\": \"scatter\"}], \"scatter3d\": [{\"line\": {\"colorbar\": {\"outlinewidth\": 0, \"ticks\": \"\"}}, \"marker\": {\"colorbar\": {\"outlinewidth\": 0, \"ticks\": \"\"}}, \"type\": \"scatter3d\"}], \"scattercarpet\": [{\"marker\": {\"colorbar\": {\"outlinewidth\": 0, \"ticks\": \"\"}}, \"type\": \"scattercarpet\"}], \"scattergeo\": [{\"marker\": {\"colorbar\": {\"outlinewidth\": 0, \"ticks\": \"\"}}, \"type\": \"scattergeo\"}], \"scattergl\": [{\"marker\": {\"colorbar\": {\"outlinewidth\": 0, \"ticks\": \"\"}}, \"type\": \"scattergl\"}], \"scattermapbox\": [{\"marker\": {\"colorbar\": {\"outlinewidth\": 0, \"ticks\": \"\"}}, \"type\": \"scattermapbox\"}], \"scatterpolar\": [{\"marker\": {\"colorbar\": {\"outlinewidth\": 0, \"ticks\": \"\"}}, \"type\": \"scatterpolar\"}], \"scatterpolargl\": [{\"marker\": {\"colorbar\": {\"outlinewidth\": 0, \"ticks\": \"\"}}, \"type\": \"scatterpolargl\"}], \"scatterternary\": [{\"marker\": {\"colorbar\": {\"outlinewidth\": 0, \"ticks\": \"\"}}, \"type\": \"scatterternary\"}], \"surface\": [{\"colorbar\": {\"outlinewidth\": 0, \"ticks\": \"\"}, \"colorscale\": [[0.0, \"#0d0887\"], [0.1111111111111111, \"#46039f\"], [0.2222222222222222, \"#7201a8\"], [0.3333333333333333, \"#9c179e\"], [0.4444444444444444, \"#bd3786\"], [0.5555555555555556, \"#d8576b\"], [0.6666666666666666, \"#ed7953\"], [0.7777777777777778, \"#fb9f3a\"], [0.8888888888888888, \"#fdca26\"], [1.0, \"#f0f921\"]], \"type\": \"surface\"}], \"table\": [{\"cells\": {\"fill\": {\"color\": \"#EBF0F8\"}, \"line\": {\"color\": \"white\"}}, \"header\": {\"fill\": {\"color\": \"#C8D4E3\"}, \"line\": {\"color\": \"white\"}}, \"type\": \"table\"}]}, \"layout\": {\"annotationdefaults\": {\"arrowcolor\": \"#2a3f5f\", \"arrowhead\": 0, \"arrowwidth\": 1}, \"coloraxis\": {\"colorbar\": {\"outlinewidth\": 0, \"ticks\": \"\"}}, \"colorscale\": {\"diverging\": [[0, \"#8e0152\"], [0.1, \"#c51b7d\"], [0.2, \"#de77ae\"], [0.3, \"#f1b6da\"], [0.4, \"#fde0ef\"], [0.5, \"#f7f7f7\"], [0.6, \"#e6f5d0\"], [0.7, \"#b8e186\"], [0.8, \"#7fbc41\"], [0.9, \"#4d9221\"], [1, \"#276419\"]], \"sequential\": [[0.0, \"#0d0887\"], [0.1111111111111111, \"#46039f\"], [0.2222222222222222, \"#7201a8\"], [0.3333333333333333, \"#9c179e\"], [0.4444444444444444, \"#bd3786\"], [0.5555555555555556, \"#d8576b\"], [0.6666666666666666, \"#ed7953\"], [0.7777777777777778, \"#fb9f3a\"], [0.8888888888888888, \"#fdca26\"], [1.0, \"#f0f921\"]], \"sequentialminus\": [[0.0, \"#0d0887\"], [0.1111111111111111, \"#46039f\"], [0.2222222222222222, \"#7201a8\"], [0.3333333333333333, \"#9c179e\"], [0.4444444444444444, \"#bd3786\"], [0.5555555555555556, \"#d8576b\"], [0.6666666666666666, \"#ed7953\"], [0.7777777777777778, \"#fb9f3a\"], [0.8888888888888888, \"#fdca26\"], [1.0, \"#f0f921\"]]}, \"colorway\": [\"#636efa\", \"#EF553B\", \"#00cc96\", \"#ab63fa\", \"#FFA15A\", \"#19d3f3\", \"#FF6692\", \"#B6E880\", \"#FF97FF\", \"#FECB52\"], \"font\": {\"color\": \"#2a3f5f\"}, \"geo\": {\"bgcolor\": \"white\", \"lakecolor\": \"white\", \"landcolor\": \"#E5ECF6\", \"showlakes\": true, \"showland\": true, \"subunitcolor\": \"white\"}, \"hoverlabel\": {\"align\": \"left\"}, \"hovermode\": \"closest\", \"mapbox\": {\"style\": \"light\"}, \"paper_bgcolor\": \"white\", \"plot_bgcolor\": \"#E5ECF6\", \"polar\": {\"angularaxis\": {\"gridcolor\": \"white\", \"linecolor\": \"white\", \"ticks\": \"\"}, \"bgcolor\": \"#E5ECF6\", \"radialaxis\": {\"gridcolor\": \"white\", \"linecolor\": \"white\", \"ticks\": \"\"}}, \"scene\": {\"xaxis\": {\"backgroundcolor\": \"#E5ECF6\", \"gridcolor\": \"white\", \"gridwidth\": 2, \"linecolor\": \"white\", \"showbackground\": true, \"ticks\": \"\", \"zerolinecolor\": \"white\"}, \"yaxis\": {\"backgroundcolor\": \"#E5ECF6\", \"gridcolor\": \"white\", \"gridwidth\": 2, \"linecolor\": \"white\", \"showbackground\": true, \"ticks\": \"\", \"zerolinecolor\": \"white\"}, \"zaxis\": {\"backgroundcolor\": \"#E5ECF6\", \"gridcolor\": \"white\", \"gridwidth\": 2, \"linecolor\": \"white\", \"showbackground\": true, \"ticks\": \"\", \"zerolinecolor\": \"white\"}}, \"shapedefaults\": {\"line\": {\"color\": \"#2a3f5f\"}}, \"ternary\": {\"aaxis\": {\"gridcolor\": \"white\", \"linecolor\": \"white\", \"ticks\": \"\"}, \"baxis\": {\"gridcolor\": \"white\", \"linecolor\": \"white\", \"ticks\": \"\"}, \"bgcolor\": \"#E5ECF6\", \"caxis\": {\"gridcolor\": \"white\", \"linecolor\": \"white\", \"ticks\": \"\"}}, \"title\": {\"x\": 0.05}, \"xaxis\": {\"automargin\": true, \"gridcolor\": \"white\", \"linecolor\": \"white\", \"ticks\": \"\", \"title\": {\"standoff\": 15}, \"zerolinecolor\": \"white\", \"zerolinewidth\": 2}, \"yaxis\": {\"automargin\": true, \"gridcolor\": \"white\", \"linecolor\": \"white\", \"ticks\": \"\", \"title\": {\"standoff\": 15}, \"zerolinecolor\": \"white\", \"zerolinewidth\": 2}}}, \"title\": {\"font\": {\"color\": \"#4D5663\"}, \"text\": \"Top 100 words after removing stop words\"}, \"xaxis\": {\"gridcolor\": \"#E1E5ED\", \"linecolor\": \"black\", \"showgrid\": true, \"tickfont\": {\"color\": \"#4D5663\"}, \"title\": {\"font\": {\"color\": \"#4D5663\"}, \"text\": \"\"}, \"zerolinecolor\": \"#E1E5ED\"}, \"yaxis\": {\"gridcolor\": \"#E1E5ED\", \"linecolor\": \"black\", \"showgrid\": true, \"tickfont\": {\"color\": \"#4D5663\"}, \"title\": {\"font\": {\"color\": \"#4D5663\"}, \"text\": \"Count\"}, \"zerolinecolor\": \"#E1E5ED\"}},                        {\"showLink\": true, \"linkText\": \"Export to plot.ly\", \"plotlyServerURL\": \"https://plot.ly\", \"responsive\": true}                    ).then(function(){\n",
       "                            \n",
       "var gd = document.getElementById('0af28f59-acd2-4365-aed5-044160532534');\n",
       "var x = new MutationObserver(function (mutations, observer) {{\n",
       "        var display = window.getComputedStyle(gd).display;\n",
       "        if (!display || display === 'none') {{\n",
       "            console.log([gd, 'removed!']);\n",
       "            Plotly.purge(gd);\n",
       "            observer.disconnect();\n",
       "        }}\n",
       "}});\n",
       "\n",
       "// Listen for the removal of the full notebook cells\n",
       "var notebookContainer = gd.closest('#notebook-container');\n",
       "if (notebookContainer) {{\n",
       "    x.observe(notebookContainer, {childList: true});\n",
       "}}\n",
       "\n",
       "// Listen for the clearing of the current output cell\n",
       "var outputEl = gd.closest('.output');\n",
       "if (outputEl) {{\n",
       "    x.observe(outputEl, {childList: true});\n",
       "}}\n",
       "\n",
       "                        })                };                });            </script>        </div>"
      ]
     },
     "metadata": {},
     "output_type": "display_data"
    }
   ],
   "source": [
    "plot_model()\n"
   ]
  },
  {
   "cell_type": "markdown",
   "metadata": {},
   "source": [
    "## Top 100 Bigrams on Entire Corpus"
   ]
  },
  {
   "cell_type": "code",
   "execution_count": 18,
   "metadata": {},
   "outputs": [
    {
     "data": {
      "text/html": [
       "        <script type=\"text/javascript\">\n",
       "        window.PlotlyConfig = {MathJaxConfig: 'local'};\n",
       "        if (window.MathJax) {MathJax.Hub.Config({SVG: {font: \"STIX-Web\"}});}\n",
       "        if (typeof require !== 'undefined') {\n",
       "        require.undef(\"plotly\");\n",
       "        requirejs.config({\n",
       "            paths: {\n",
       "                'plotly': ['https://cdn.plot.ly/plotly-latest.min']\n",
       "            }\n",
       "        });\n",
       "        require(['plotly'], function(Plotly) {\n",
       "            window._Plotly = Plotly;\n",
       "        });\n",
       "        }\n",
       "        </script>\n",
       "        "
      ]
     },
     "metadata": {},
     "output_type": "display_data"
    },
    {
     "data": {
      "application/vnd.plotly.v1+json": {
       "config": {
        "linkText": "Export to plot.ly",
        "plotlyServerURL": "https://plot.ly",
        "showLink": true
       },
       "data": [
        {
         "marker": {
          "color": "rgba(255, 153, 51, 0.6)",
          "line": {
           "color": "rgba(255, 153, 51, 1.0)",
           "width": 1
          }
         },
         "name": "count",
         "orientation": "v",
         "text": "",
         "type": "bar",
         "x": [
          "year old",
          "request loan",
          "start business",
          "year ago",
          "loan buy",
          "expand business",
          "marry child",
          "use loan",
          "repay loan",
          "business year",
          "school fee",
          "child school",
          "loan use",
          "business sell",
          "old married",
          "old child",
          "second loan",
          "married child",
          "work hard",
          "loan purchase",
          "first loan",
          "primary school",
          "mother child",
          "small business",
          "educate child",
          "hard work",
          "business able",
          "pay school",
          "use buy",
          "old marry",
          "increase stock",
          "secondary school",
          "increase income",
          "child live",
          "loan able",
          "loan order",
          "last year",
          "need loan",
          "business grow",
          "start small",
          "husband work",
          "training_educational_programs_information microfinance_ecuador_services_please",
          "business training_educational_programs_information",
          "woman group",
          "support family",
          "mifex_org_www_mifex org",
          "microfinance_ecuador_services_please mifex_org_www_mifex",
          "group member",
          "start sell",
          "help business",
          "year experience",
          "husband child",
          "able buy",
          "farmer also",
          "run business",
          "operate business",
          "also sell",
          "sell product",
          "business help",
          "able repay",
          "sell clothing",
          "child age",
          "child child",
          "begin business",
          "live husband",
          "loan usd",
          "provide family",
          "loan help",
          "high school",
          "give loan",
          "receive loan",
          "apply loan",
          "go school",
          "loan intend",
          "member group",
          "rice farmer",
          "risk_making loan",
          "attend school",
          "person group",
          "kenya_security_situation_many communities_remains_unsettled_affecte",
          "communities_remains_unsettled_affecte many",
          "risk_willing_accept_additional risk_making",
          "loan risk_willing_accept_additional",
          "local_businesses_lender loan",
          "many local_businesses_lender",
          "child primary",
          "fee child",
          "able provide",
          "loan month",
          "loan invest",
          "business well",
          "grow business",
          "old mother",
          "run small",
          "high demand",
          "well life",
          "child also",
          "plan use",
          "loan together",
          "business loan"
         ],
         "y": [
          491,
          182,
          171,
          160,
          150,
          148,
          148,
          140,
          123,
          112,
          105,
          99,
          95,
          93,
          93,
          92,
          74,
          70,
          70,
          69,
          68,
          66,
          65,
          63,
          60,
          60,
          59,
          58,
          56,
          54,
          53,
          52,
          52,
          51,
          51,
          50,
          47,
          47,
          47,
          46,
          46,
          46,
          46,
          46,
          45,
          44,
          44,
          44,
          44,
          44,
          44,
          43,
          43,
          42,
          42,
          42,
          41,
          41,
          40,
          40,
          40,
          40,
          39,
          38,
          37,
          37,
          37,
          36,
          36,
          36,
          35,
          35,
          35,
          34,
          34,
          33,
          32,
          32,
          32,
          32,
          32,
          32,
          32,
          32,
          32,
          31,
          31,
          31,
          30,
          30,
          30,
          29,
          29,
          29,
          28,
          28,
          28,
          27,
          27,
          27
         ]
        }
       ],
       "layout": {
        "legend": {
         "bgcolor": "#F5F6F9",
         "font": {
          "color": "#4D5663"
         }
        },
        "paper_bgcolor": "#F5F6F9",
        "plot_bgcolor": "#F5F6F9",
        "template": {
         "data": {
          "bar": [
           {
            "error_x": {
             "color": "#2a3f5f"
            },
            "error_y": {
             "color": "#2a3f5f"
            },
            "marker": {
             "line": {
              "color": "#E5ECF6",
              "width": 0.5
             }
            },
            "type": "bar"
           }
          ],
          "barpolar": [
           {
            "marker": {
             "line": {
              "color": "#E5ECF6",
              "width": 0.5
             }
            },
            "type": "barpolar"
           }
          ],
          "carpet": [
           {
            "aaxis": {
             "endlinecolor": "#2a3f5f",
             "gridcolor": "white",
             "linecolor": "white",
             "minorgridcolor": "white",
             "startlinecolor": "#2a3f5f"
            },
            "baxis": {
             "endlinecolor": "#2a3f5f",
             "gridcolor": "white",
             "linecolor": "white",
             "minorgridcolor": "white",
             "startlinecolor": "#2a3f5f"
            },
            "type": "carpet"
           }
          ],
          "choropleth": [
           {
            "colorbar": {
             "outlinewidth": 0,
             "ticks": ""
            },
            "type": "choropleth"
           }
          ],
          "contour": [
           {
            "colorbar": {
             "outlinewidth": 0,
             "ticks": ""
            },
            "colorscale": [
             [
              0,
              "#0d0887"
             ],
             [
              0.1111111111111111,
              "#46039f"
             ],
             [
              0.2222222222222222,
              "#7201a8"
             ],
             [
              0.3333333333333333,
              "#9c179e"
             ],
             [
              0.4444444444444444,
              "#bd3786"
             ],
             [
              0.5555555555555556,
              "#d8576b"
             ],
             [
              0.6666666666666666,
              "#ed7953"
             ],
             [
              0.7777777777777778,
              "#fb9f3a"
             ],
             [
              0.8888888888888888,
              "#fdca26"
             ],
             [
              1,
              "#f0f921"
             ]
            ],
            "type": "contour"
           }
          ],
          "contourcarpet": [
           {
            "colorbar": {
             "outlinewidth": 0,
             "ticks": ""
            },
            "type": "contourcarpet"
           }
          ],
          "heatmap": [
           {
            "colorbar": {
             "outlinewidth": 0,
             "ticks": ""
            },
            "colorscale": [
             [
              0,
              "#0d0887"
             ],
             [
              0.1111111111111111,
              "#46039f"
             ],
             [
              0.2222222222222222,
              "#7201a8"
             ],
             [
              0.3333333333333333,
              "#9c179e"
             ],
             [
              0.4444444444444444,
              "#bd3786"
             ],
             [
              0.5555555555555556,
              "#d8576b"
             ],
             [
              0.6666666666666666,
              "#ed7953"
             ],
             [
              0.7777777777777778,
              "#fb9f3a"
             ],
             [
              0.8888888888888888,
              "#fdca26"
             ],
             [
              1,
              "#f0f921"
             ]
            ],
            "type": "heatmap"
           }
          ],
          "heatmapgl": [
           {
            "colorbar": {
             "outlinewidth": 0,
             "ticks": ""
            },
            "colorscale": [
             [
              0,
              "#0d0887"
             ],
             [
              0.1111111111111111,
              "#46039f"
             ],
             [
              0.2222222222222222,
              "#7201a8"
             ],
             [
              0.3333333333333333,
              "#9c179e"
             ],
             [
              0.4444444444444444,
              "#bd3786"
             ],
             [
              0.5555555555555556,
              "#d8576b"
             ],
             [
              0.6666666666666666,
              "#ed7953"
             ],
             [
              0.7777777777777778,
              "#fb9f3a"
             ],
             [
              0.8888888888888888,
              "#fdca26"
             ],
             [
              1,
              "#f0f921"
             ]
            ],
            "type": "heatmapgl"
           }
          ],
          "histogram": [
           {
            "marker": {
             "colorbar": {
              "outlinewidth": 0,
              "ticks": ""
             }
            },
            "type": "histogram"
           }
          ],
          "histogram2d": [
           {
            "colorbar": {
             "outlinewidth": 0,
             "ticks": ""
            },
            "colorscale": [
             [
              0,
              "#0d0887"
             ],
             [
              0.1111111111111111,
              "#46039f"
             ],
             [
              0.2222222222222222,
              "#7201a8"
             ],
             [
              0.3333333333333333,
              "#9c179e"
             ],
             [
              0.4444444444444444,
              "#bd3786"
             ],
             [
              0.5555555555555556,
              "#d8576b"
             ],
             [
              0.6666666666666666,
              "#ed7953"
             ],
             [
              0.7777777777777778,
              "#fb9f3a"
             ],
             [
              0.8888888888888888,
              "#fdca26"
             ],
             [
              1,
              "#f0f921"
             ]
            ],
            "type": "histogram2d"
           }
          ],
          "histogram2dcontour": [
           {
            "colorbar": {
             "outlinewidth": 0,
             "ticks": ""
            },
            "colorscale": [
             [
              0,
              "#0d0887"
             ],
             [
              0.1111111111111111,
              "#46039f"
             ],
             [
              0.2222222222222222,
              "#7201a8"
             ],
             [
              0.3333333333333333,
              "#9c179e"
             ],
             [
              0.4444444444444444,
              "#bd3786"
             ],
             [
              0.5555555555555556,
              "#d8576b"
             ],
             [
              0.6666666666666666,
              "#ed7953"
             ],
             [
              0.7777777777777778,
              "#fb9f3a"
             ],
             [
              0.8888888888888888,
              "#fdca26"
             ],
             [
              1,
              "#f0f921"
             ]
            ],
            "type": "histogram2dcontour"
           }
          ],
          "mesh3d": [
           {
            "colorbar": {
             "outlinewidth": 0,
             "ticks": ""
            },
            "type": "mesh3d"
           }
          ],
          "parcoords": [
           {
            "line": {
             "colorbar": {
              "outlinewidth": 0,
              "ticks": ""
             }
            },
            "type": "parcoords"
           }
          ],
          "pie": [
           {
            "automargin": true,
            "type": "pie"
           }
          ],
          "scatter": [
           {
            "marker": {
             "colorbar": {
              "outlinewidth": 0,
              "ticks": ""
             }
            },
            "type": "scatter"
           }
          ],
          "scatter3d": [
           {
            "line": {
             "colorbar": {
              "outlinewidth": 0,
              "ticks": ""
             }
            },
            "marker": {
             "colorbar": {
              "outlinewidth": 0,
              "ticks": ""
             }
            },
            "type": "scatter3d"
           }
          ],
          "scattercarpet": [
           {
            "marker": {
             "colorbar": {
              "outlinewidth": 0,
              "ticks": ""
             }
            },
            "type": "scattercarpet"
           }
          ],
          "scattergeo": [
           {
            "marker": {
             "colorbar": {
              "outlinewidth": 0,
              "ticks": ""
             }
            },
            "type": "scattergeo"
           }
          ],
          "scattergl": [
           {
            "marker": {
             "colorbar": {
              "outlinewidth": 0,
              "ticks": ""
             }
            },
            "type": "scattergl"
           }
          ],
          "scattermapbox": [
           {
            "marker": {
             "colorbar": {
              "outlinewidth": 0,
              "ticks": ""
             }
            },
            "type": "scattermapbox"
           }
          ],
          "scatterpolar": [
           {
            "marker": {
             "colorbar": {
              "outlinewidth": 0,
              "ticks": ""
             }
            },
            "type": "scatterpolar"
           }
          ],
          "scatterpolargl": [
           {
            "marker": {
             "colorbar": {
              "outlinewidth": 0,
              "ticks": ""
             }
            },
            "type": "scatterpolargl"
           }
          ],
          "scatterternary": [
           {
            "marker": {
             "colorbar": {
              "outlinewidth": 0,
              "ticks": ""
             }
            },
            "type": "scatterternary"
           }
          ],
          "surface": [
           {
            "colorbar": {
             "outlinewidth": 0,
             "ticks": ""
            },
            "colorscale": [
             [
              0,
              "#0d0887"
             ],
             [
              0.1111111111111111,
              "#46039f"
             ],
             [
              0.2222222222222222,
              "#7201a8"
             ],
             [
              0.3333333333333333,
              "#9c179e"
             ],
             [
              0.4444444444444444,
              "#bd3786"
             ],
             [
              0.5555555555555556,
              "#d8576b"
             ],
             [
              0.6666666666666666,
              "#ed7953"
             ],
             [
              0.7777777777777778,
              "#fb9f3a"
             ],
             [
              0.8888888888888888,
              "#fdca26"
             ],
             [
              1,
              "#f0f921"
             ]
            ],
            "type": "surface"
           }
          ],
          "table": [
           {
            "cells": {
             "fill": {
              "color": "#EBF0F8"
             },
             "line": {
              "color": "white"
             }
            },
            "header": {
             "fill": {
              "color": "#C8D4E3"
             },
             "line": {
              "color": "white"
             }
            },
            "type": "table"
           }
          ]
         },
         "layout": {
          "annotationdefaults": {
           "arrowcolor": "#2a3f5f",
           "arrowhead": 0,
           "arrowwidth": 1
          },
          "coloraxis": {
           "colorbar": {
            "outlinewidth": 0,
            "ticks": ""
           }
          },
          "colorscale": {
           "diverging": [
            [
             0,
             "#8e0152"
            ],
            [
             0.1,
             "#c51b7d"
            ],
            [
             0.2,
             "#de77ae"
            ],
            [
             0.3,
             "#f1b6da"
            ],
            [
             0.4,
             "#fde0ef"
            ],
            [
             0.5,
             "#f7f7f7"
            ],
            [
             0.6,
             "#e6f5d0"
            ],
            [
             0.7,
             "#b8e186"
            ],
            [
             0.8,
             "#7fbc41"
            ],
            [
             0.9,
             "#4d9221"
            ],
            [
             1,
             "#276419"
            ]
           ],
           "sequential": [
            [
             0,
             "#0d0887"
            ],
            [
             0.1111111111111111,
             "#46039f"
            ],
            [
             0.2222222222222222,
             "#7201a8"
            ],
            [
             0.3333333333333333,
             "#9c179e"
            ],
            [
             0.4444444444444444,
             "#bd3786"
            ],
            [
             0.5555555555555556,
             "#d8576b"
            ],
            [
             0.6666666666666666,
             "#ed7953"
            ],
            [
             0.7777777777777778,
             "#fb9f3a"
            ],
            [
             0.8888888888888888,
             "#fdca26"
            ],
            [
             1,
             "#f0f921"
            ]
           ],
           "sequentialminus": [
            [
             0,
             "#0d0887"
            ],
            [
             0.1111111111111111,
             "#46039f"
            ],
            [
             0.2222222222222222,
             "#7201a8"
            ],
            [
             0.3333333333333333,
             "#9c179e"
            ],
            [
             0.4444444444444444,
             "#bd3786"
            ],
            [
             0.5555555555555556,
             "#d8576b"
            ],
            [
             0.6666666666666666,
             "#ed7953"
            ],
            [
             0.7777777777777778,
             "#fb9f3a"
            ],
            [
             0.8888888888888888,
             "#fdca26"
            ],
            [
             1,
             "#f0f921"
            ]
           ]
          },
          "colorway": [
           "#636efa",
           "#EF553B",
           "#00cc96",
           "#ab63fa",
           "#FFA15A",
           "#19d3f3",
           "#FF6692",
           "#B6E880",
           "#FF97FF",
           "#FECB52"
          ],
          "font": {
           "color": "#2a3f5f"
          },
          "geo": {
           "bgcolor": "white",
           "lakecolor": "white",
           "landcolor": "#E5ECF6",
           "showlakes": true,
           "showland": true,
           "subunitcolor": "white"
          },
          "hoverlabel": {
           "align": "left"
          },
          "hovermode": "closest",
          "mapbox": {
           "style": "light"
          },
          "paper_bgcolor": "white",
          "plot_bgcolor": "#E5ECF6",
          "polar": {
           "angularaxis": {
            "gridcolor": "white",
            "linecolor": "white",
            "ticks": ""
           },
           "bgcolor": "#E5ECF6",
           "radialaxis": {
            "gridcolor": "white",
            "linecolor": "white",
            "ticks": ""
           }
          },
          "scene": {
           "xaxis": {
            "backgroundcolor": "#E5ECF6",
            "gridcolor": "white",
            "gridwidth": 2,
            "linecolor": "white",
            "showbackground": true,
            "ticks": "",
            "zerolinecolor": "white"
           },
           "yaxis": {
            "backgroundcolor": "#E5ECF6",
            "gridcolor": "white",
            "gridwidth": 2,
            "linecolor": "white",
            "showbackground": true,
            "ticks": "",
            "zerolinecolor": "white"
           },
           "zaxis": {
            "backgroundcolor": "#E5ECF6",
            "gridcolor": "white",
            "gridwidth": 2,
            "linecolor": "white",
            "showbackground": true,
            "ticks": "",
            "zerolinecolor": "white"
           }
          },
          "shapedefaults": {
           "line": {
            "color": "#2a3f5f"
           }
          },
          "ternary": {
           "aaxis": {
            "gridcolor": "white",
            "linecolor": "white",
            "ticks": ""
           },
           "baxis": {
            "gridcolor": "white",
            "linecolor": "white",
            "ticks": ""
           },
           "bgcolor": "#E5ECF6",
           "caxis": {
            "gridcolor": "white",
            "linecolor": "white",
            "ticks": ""
           }
          },
          "title": {
           "x": 0.05
          },
          "xaxis": {
           "automargin": true,
           "gridcolor": "white",
           "linecolor": "white",
           "ticks": "",
           "title": {
            "standoff": 15
           },
           "zerolinecolor": "white",
           "zerolinewidth": 2
          },
          "yaxis": {
           "automargin": true,
           "gridcolor": "white",
           "linecolor": "white",
           "ticks": "",
           "title": {
            "standoff": 15
           },
           "zerolinecolor": "white",
           "zerolinewidth": 2
          }
         }
        },
        "title": {
         "font": {
          "color": "#4D5663"
         },
         "text": "Top 100 bigrams after removing stop words"
        },
        "xaxis": {
         "gridcolor": "#E1E5ED",
         "linecolor": "black",
         "showgrid": true,
         "tickfont": {
          "color": "#4D5663"
         },
         "title": {
          "font": {
           "color": "#4D5663"
          },
          "text": ""
         },
         "zerolinecolor": "#E1E5ED"
        },
        "yaxis": {
         "gridcolor": "#E1E5ED",
         "linecolor": "black",
         "showgrid": true,
         "tickfont": {
          "color": "#4D5663"
         },
         "title": {
          "font": {
           "color": "#4D5663"
          },
          "text": "Count"
         },
         "zerolinecolor": "#E1E5ED"
        }
       }
      },
      "text/html": [
       "<div>                            <div id=\"d1293bf8-09bb-496f-825d-166e39962e55\" class=\"plotly-graph-div\" style=\"height:525px; width:100%;\"></div>            <script type=\"text/javascript\">                require([\"plotly\"], function(Plotly) {                    window.PLOTLYENV=window.PLOTLYENV || {};\n",
       "                    window.PLOTLYENV.BASE_URL='https://plot.ly';                                    if (document.getElementById(\"d1293bf8-09bb-496f-825d-166e39962e55\")) {                    Plotly.newPlot(                        \"d1293bf8-09bb-496f-825d-166e39962e55\",                        [{\"marker\": {\"color\": \"rgba(255, 153, 51, 0.6)\", \"line\": {\"color\": \"rgba(255, 153, 51, 1.0)\", \"width\": 1}}, \"name\": \"count\", \"orientation\": \"v\", \"text\": \"\", \"type\": \"bar\", \"x\": [\"year old\", \"request loan\", \"start business\", \"year ago\", \"loan buy\", \"expand business\", \"marry child\", \"use loan\", \"repay loan\", \"business year\", \"school fee\", \"child school\", \"loan use\", \"business sell\", \"old married\", \"old child\", \"second loan\", \"married child\", \"work hard\", \"loan purchase\", \"first loan\", \"primary school\", \"mother child\", \"small business\", \"educate child\", \"hard work\", \"business able\", \"pay school\", \"use buy\", \"old marry\", \"increase stock\", \"secondary school\", \"increase income\", \"child live\", \"loan able\", \"loan order\", \"last year\", \"need loan\", \"business grow\", \"start small\", \"husband work\", \"training_educational_programs_information microfinance_ecuador_services_please\", \"business training_educational_programs_information\", \"woman group\", \"support family\", \"mifex_org_www_mifex org\", \"microfinance_ecuador_services_please mifex_org_www_mifex\", \"group member\", \"start sell\", \"help business\", \"year experience\", \"husband child\", \"able buy\", \"farmer also\", \"run business\", \"operate business\", \"also sell\", \"sell product\", \"business help\", \"able repay\", \"sell clothing\", \"child age\", \"child child\", \"begin business\", \"live husband\", \"loan usd\", \"provide family\", \"loan help\", \"high school\", \"give loan\", \"receive loan\", \"apply loan\", \"go school\", \"loan intend\", \"member group\", \"rice farmer\", \"risk_making loan\", \"attend school\", \"person group\", \"kenya_security_situation_many communities_remains_unsettled_affecte\", \"communities_remains_unsettled_affecte many\", \"risk_willing_accept_additional risk_making\", \"loan risk_willing_accept_additional\", \"local_businesses_lender loan\", \"many local_businesses_lender\", \"child primary\", \"fee child\", \"able provide\", \"loan month\", \"loan invest\", \"business well\", \"grow business\", \"old mother\", \"run small\", \"high demand\", \"well life\", \"child also\", \"plan use\", \"loan together\", \"business loan\"], \"y\": [491, 182, 171, 160, 150, 148, 148, 140, 123, 112, 105, 99, 95, 93, 93, 92, 74, 70, 70, 69, 68, 66, 65, 63, 60, 60, 59, 58, 56, 54, 53, 52, 52, 51, 51, 50, 47, 47, 47, 46, 46, 46, 46, 46, 45, 44, 44, 44, 44, 44, 44, 43, 43, 42, 42, 42, 41, 41, 40, 40, 40, 40, 39, 38, 37, 37, 37, 36, 36, 36, 35, 35, 35, 34, 34, 33, 32, 32, 32, 32, 32, 32, 32, 32, 32, 31, 31, 31, 30, 30, 30, 29, 29, 29, 28, 28, 28, 27, 27, 27]}],                        {\"legend\": {\"bgcolor\": \"#F5F6F9\", \"font\": {\"color\": \"#4D5663\"}}, \"paper_bgcolor\": \"#F5F6F9\", \"plot_bgcolor\": \"#F5F6F9\", \"template\": {\"data\": {\"bar\": [{\"error_x\": {\"color\": \"#2a3f5f\"}, \"error_y\": {\"color\": \"#2a3f5f\"}, \"marker\": {\"line\": {\"color\": \"#E5ECF6\", \"width\": 0.5}}, \"type\": \"bar\"}], \"barpolar\": [{\"marker\": {\"line\": {\"color\": \"#E5ECF6\", \"width\": 0.5}}, \"type\": \"barpolar\"}], \"carpet\": [{\"aaxis\": {\"endlinecolor\": \"#2a3f5f\", \"gridcolor\": \"white\", \"linecolor\": \"white\", \"minorgridcolor\": \"white\", \"startlinecolor\": \"#2a3f5f\"}, \"baxis\": {\"endlinecolor\": \"#2a3f5f\", \"gridcolor\": \"white\", \"linecolor\": \"white\", \"minorgridcolor\": \"white\", \"startlinecolor\": \"#2a3f5f\"}, \"type\": \"carpet\"}], \"choropleth\": [{\"colorbar\": {\"outlinewidth\": 0, \"ticks\": \"\"}, \"type\": \"choropleth\"}], \"contour\": [{\"colorbar\": {\"outlinewidth\": 0, \"ticks\": \"\"}, \"colorscale\": [[0.0, \"#0d0887\"], [0.1111111111111111, \"#46039f\"], [0.2222222222222222, \"#7201a8\"], [0.3333333333333333, \"#9c179e\"], [0.4444444444444444, \"#bd3786\"], [0.5555555555555556, \"#d8576b\"], [0.6666666666666666, \"#ed7953\"], [0.7777777777777778, \"#fb9f3a\"], [0.8888888888888888, \"#fdca26\"], [1.0, \"#f0f921\"]], \"type\": \"contour\"}], \"contourcarpet\": [{\"colorbar\": {\"outlinewidth\": 0, \"ticks\": \"\"}, \"type\": \"contourcarpet\"}], \"heatmap\": [{\"colorbar\": {\"outlinewidth\": 0, \"ticks\": \"\"}, \"colorscale\": [[0.0, \"#0d0887\"], [0.1111111111111111, \"#46039f\"], [0.2222222222222222, \"#7201a8\"], [0.3333333333333333, \"#9c179e\"], [0.4444444444444444, \"#bd3786\"], [0.5555555555555556, \"#d8576b\"], [0.6666666666666666, \"#ed7953\"], [0.7777777777777778, \"#fb9f3a\"], [0.8888888888888888, \"#fdca26\"], [1.0, \"#f0f921\"]], \"type\": \"heatmap\"}], \"heatmapgl\": [{\"colorbar\": {\"outlinewidth\": 0, \"ticks\": \"\"}, \"colorscale\": [[0.0, \"#0d0887\"], [0.1111111111111111, \"#46039f\"], [0.2222222222222222, \"#7201a8\"], [0.3333333333333333, \"#9c179e\"], [0.4444444444444444, \"#bd3786\"], [0.5555555555555556, \"#d8576b\"], [0.6666666666666666, \"#ed7953\"], [0.7777777777777778, \"#fb9f3a\"], [0.8888888888888888, \"#fdca26\"], [1.0, \"#f0f921\"]], \"type\": \"heatmapgl\"}], \"histogram\": [{\"marker\": {\"colorbar\": {\"outlinewidth\": 0, \"ticks\": \"\"}}, \"type\": \"histogram\"}], \"histogram2d\": [{\"colorbar\": {\"outlinewidth\": 0, \"ticks\": \"\"}, \"colorscale\": [[0.0, \"#0d0887\"], [0.1111111111111111, \"#46039f\"], [0.2222222222222222, \"#7201a8\"], [0.3333333333333333, \"#9c179e\"], [0.4444444444444444, \"#bd3786\"], [0.5555555555555556, \"#d8576b\"], [0.6666666666666666, \"#ed7953\"], [0.7777777777777778, \"#fb9f3a\"], [0.8888888888888888, \"#fdca26\"], [1.0, \"#f0f921\"]], \"type\": \"histogram2d\"}], \"histogram2dcontour\": [{\"colorbar\": {\"outlinewidth\": 0, \"ticks\": \"\"}, \"colorscale\": [[0.0, \"#0d0887\"], [0.1111111111111111, \"#46039f\"], [0.2222222222222222, \"#7201a8\"], [0.3333333333333333, \"#9c179e\"], [0.4444444444444444, \"#bd3786\"], [0.5555555555555556, \"#d8576b\"], [0.6666666666666666, \"#ed7953\"], [0.7777777777777778, \"#fb9f3a\"], [0.8888888888888888, \"#fdca26\"], [1.0, \"#f0f921\"]], \"type\": \"histogram2dcontour\"}], \"mesh3d\": [{\"colorbar\": {\"outlinewidth\": 0, \"ticks\": \"\"}, \"type\": \"mesh3d\"}], \"parcoords\": [{\"line\": {\"colorbar\": {\"outlinewidth\": 0, \"ticks\": \"\"}}, \"type\": \"parcoords\"}], \"pie\": [{\"automargin\": true, \"type\": \"pie\"}], \"scatter\": [{\"marker\": {\"colorbar\": {\"outlinewidth\": 0, \"ticks\": \"\"}}, \"type\": \"scatter\"}], \"scatter3d\": [{\"line\": {\"colorbar\": {\"outlinewidth\": 0, \"ticks\": \"\"}}, \"marker\": {\"colorbar\": {\"outlinewidth\": 0, \"ticks\": \"\"}}, \"type\": \"scatter3d\"}], \"scattercarpet\": [{\"marker\": {\"colorbar\": {\"outlinewidth\": 0, \"ticks\": \"\"}}, \"type\": \"scattercarpet\"}], \"scattergeo\": [{\"marker\": {\"colorbar\": {\"outlinewidth\": 0, \"ticks\": \"\"}}, \"type\": \"scattergeo\"}], \"scattergl\": [{\"marker\": {\"colorbar\": {\"outlinewidth\": 0, \"ticks\": \"\"}}, \"type\": \"scattergl\"}], \"scattermapbox\": [{\"marker\": {\"colorbar\": {\"outlinewidth\": 0, \"ticks\": \"\"}}, \"type\": \"scattermapbox\"}], \"scatterpolar\": [{\"marker\": {\"colorbar\": {\"outlinewidth\": 0, \"ticks\": \"\"}}, \"type\": \"scatterpolar\"}], \"scatterpolargl\": [{\"marker\": {\"colorbar\": {\"outlinewidth\": 0, \"ticks\": \"\"}}, \"type\": \"scatterpolargl\"}], \"scatterternary\": [{\"marker\": {\"colorbar\": {\"outlinewidth\": 0, \"ticks\": \"\"}}, \"type\": \"scatterternary\"}], \"surface\": [{\"colorbar\": {\"outlinewidth\": 0, \"ticks\": \"\"}, \"colorscale\": [[0.0, \"#0d0887\"], [0.1111111111111111, \"#46039f\"], [0.2222222222222222, \"#7201a8\"], [0.3333333333333333, \"#9c179e\"], [0.4444444444444444, \"#bd3786\"], [0.5555555555555556, \"#d8576b\"], [0.6666666666666666, \"#ed7953\"], [0.7777777777777778, \"#fb9f3a\"], [0.8888888888888888, \"#fdca26\"], [1.0, \"#f0f921\"]], \"type\": \"surface\"}], \"table\": [{\"cells\": {\"fill\": {\"color\": \"#EBF0F8\"}, \"line\": {\"color\": \"white\"}}, \"header\": {\"fill\": {\"color\": \"#C8D4E3\"}, \"line\": {\"color\": \"white\"}}, \"type\": \"table\"}]}, \"layout\": {\"annotationdefaults\": {\"arrowcolor\": \"#2a3f5f\", \"arrowhead\": 0, \"arrowwidth\": 1}, \"coloraxis\": {\"colorbar\": {\"outlinewidth\": 0, \"ticks\": \"\"}}, \"colorscale\": {\"diverging\": [[0, \"#8e0152\"], [0.1, \"#c51b7d\"], [0.2, \"#de77ae\"], [0.3, \"#f1b6da\"], [0.4, \"#fde0ef\"], [0.5, \"#f7f7f7\"], [0.6, \"#e6f5d0\"], [0.7, \"#b8e186\"], [0.8, \"#7fbc41\"], [0.9, \"#4d9221\"], [1, \"#276419\"]], \"sequential\": [[0.0, \"#0d0887\"], [0.1111111111111111, \"#46039f\"], [0.2222222222222222, \"#7201a8\"], [0.3333333333333333, \"#9c179e\"], [0.4444444444444444, \"#bd3786\"], [0.5555555555555556, \"#d8576b\"], [0.6666666666666666, \"#ed7953\"], [0.7777777777777778, \"#fb9f3a\"], [0.8888888888888888, \"#fdca26\"], [1.0, \"#f0f921\"]], \"sequentialminus\": [[0.0, \"#0d0887\"], [0.1111111111111111, \"#46039f\"], [0.2222222222222222, \"#7201a8\"], [0.3333333333333333, \"#9c179e\"], [0.4444444444444444, \"#bd3786\"], [0.5555555555555556, \"#d8576b\"], [0.6666666666666666, \"#ed7953\"], [0.7777777777777778, \"#fb9f3a\"], [0.8888888888888888, \"#fdca26\"], [1.0, \"#f0f921\"]]}, \"colorway\": [\"#636efa\", \"#EF553B\", \"#00cc96\", \"#ab63fa\", \"#FFA15A\", \"#19d3f3\", \"#FF6692\", \"#B6E880\", \"#FF97FF\", \"#FECB52\"], \"font\": {\"color\": \"#2a3f5f\"}, \"geo\": {\"bgcolor\": \"white\", \"lakecolor\": \"white\", \"landcolor\": \"#E5ECF6\", \"showlakes\": true, \"showland\": true, \"subunitcolor\": \"white\"}, \"hoverlabel\": {\"align\": \"left\"}, \"hovermode\": \"closest\", \"mapbox\": {\"style\": \"light\"}, \"paper_bgcolor\": \"white\", \"plot_bgcolor\": \"#E5ECF6\", \"polar\": {\"angularaxis\": {\"gridcolor\": \"white\", \"linecolor\": \"white\", \"ticks\": \"\"}, \"bgcolor\": \"#E5ECF6\", \"radialaxis\": {\"gridcolor\": \"white\", \"linecolor\": \"white\", \"ticks\": \"\"}}, \"scene\": {\"xaxis\": {\"backgroundcolor\": \"#E5ECF6\", \"gridcolor\": \"white\", \"gridwidth\": 2, \"linecolor\": \"white\", \"showbackground\": true, \"ticks\": \"\", \"zerolinecolor\": \"white\"}, \"yaxis\": {\"backgroundcolor\": \"#E5ECF6\", \"gridcolor\": \"white\", \"gridwidth\": 2, \"linecolor\": \"white\", \"showbackground\": true, \"ticks\": \"\", \"zerolinecolor\": \"white\"}, \"zaxis\": {\"backgroundcolor\": \"#E5ECF6\", \"gridcolor\": \"white\", \"gridwidth\": 2, \"linecolor\": \"white\", \"showbackground\": true, \"ticks\": \"\", \"zerolinecolor\": \"white\"}}, \"shapedefaults\": {\"line\": {\"color\": \"#2a3f5f\"}}, \"ternary\": {\"aaxis\": {\"gridcolor\": \"white\", \"linecolor\": \"white\", \"ticks\": \"\"}, \"baxis\": {\"gridcolor\": \"white\", \"linecolor\": \"white\", \"ticks\": \"\"}, \"bgcolor\": \"#E5ECF6\", \"caxis\": {\"gridcolor\": \"white\", \"linecolor\": \"white\", \"ticks\": \"\"}}, \"title\": {\"x\": 0.05}, \"xaxis\": {\"automargin\": true, \"gridcolor\": \"white\", \"linecolor\": \"white\", \"ticks\": \"\", \"title\": {\"standoff\": 15}, \"zerolinecolor\": \"white\", \"zerolinewidth\": 2}, \"yaxis\": {\"automargin\": true, \"gridcolor\": \"white\", \"linecolor\": \"white\", \"ticks\": \"\", \"title\": {\"standoff\": 15}, \"zerolinecolor\": \"white\", \"zerolinewidth\": 2}}}, \"title\": {\"font\": {\"color\": \"#4D5663\"}, \"text\": \"Top 100 bigrams after removing stop words\"}, \"xaxis\": {\"gridcolor\": \"#E1E5ED\", \"linecolor\": \"black\", \"showgrid\": true, \"tickfont\": {\"color\": \"#4D5663\"}, \"title\": {\"font\": {\"color\": \"#4D5663\"}, \"text\": \"\"}, \"zerolinecolor\": \"#E1E5ED\"}, \"yaxis\": {\"gridcolor\": \"#E1E5ED\", \"linecolor\": \"black\", \"showgrid\": true, \"tickfont\": {\"color\": \"#4D5663\"}, \"title\": {\"font\": {\"color\": \"#4D5663\"}, \"text\": \"Count\"}, \"zerolinecolor\": \"#E1E5ED\"}},                        {\"showLink\": true, \"linkText\": \"Export to plot.ly\", \"plotlyServerURL\": \"https://plot.ly\", \"responsive\": true}                    ).then(function(){\n",
       "                            \n",
       "var gd = document.getElementById('d1293bf8-09bb-496f-825d-166e39962e55');\n",
       "var x = new MutationObserver(function (mutations, observer) {{\n",
       "        var display = window.getComputedStyle(gd).display;\n",
       "        if (!display || display === 'none') {{\n",
       "            console.log([gd, 'removed!']);\n",
       "            Plotly.purge(gd);\n",
       "            observer.disconnect();\n",
       "        }}\n",
       "}});\n",
       "\n",
       "// Listen for the removal of the full notebook cells\n",
       "var notebookContainer = gd.closest('#notebook-container');\n",
       "if (notebookContainer) {{\n",
       "    x.observe(notebookContainer, {childList: true});\n",
       "}}\n",
       "\n",
       "// Listen for the clearing of the current output cell\n",
       "var outputEl = gd.closest('.output');\n",
       "if (outputEl) {{\n",
       "    x.observe(outputEl, {childList: true});\n",
       "}}\n",
       "\n",
       "                        })                };                });            </script>        </div>"
      ]
     },
     "metadata": {},
     "output_type": "display_data"
    }
   ],
   "source": [
    "plot_model(plot = 'bigram')"
   ]
  },
  {
   "cell_type": "markdown",
   "metadata": {},
   "source": [
    "## Frequency distrubtion of topic 1"
   ]
  },
  {
   "cell_type": "code",
   "execution_count": 19,
   "metadata": {},
   "outputs": [
    {
     "data": {
      "text/html": [
       "        <script type=\"text/javascript\">\n",
       "        window.PlotlyConfig = {MathJaxConfig: 'local'};\n",
       "        if (window.MathJax) {MathJax.Hub.Config({SVG: {font: \"STIX-Web\"}});}\n",
       "        if (typeof require !== 'undefined') {\n",
       "        require.undef(\"plotly\");\n",
       "        requirejs.config({\n",
       "            paths: {\n",
       "                'plotly': ['https://cdn.plot.ly/plotly-latest.min']\n",
       "            }\n",
       "        });\n",
       "        require(['plotly'], function(Plotly) {\n",
       "            window._Plotly = Plotly;\n",
       "        });\n",
       "        }\n",
       "        </script>\n",
       "        "
      ]
     },
     "metadata": {},
     "output_type": "display_data"
    },
    {
     "data": {
      "application/vnd.plotly.v1+json": {
       "config": {
        "linkText": "Export to plot.ly",
        "plotlyServerURL": "https://plot.ly",
        "showLink": true
       },
       "data": [
        {
         "marker": {
          "color": "rgba(255, 153, 51, 0.6)",
          "line": {
           "color": "rgba(255, 153, 51, 1.0)",
           "width": 1
          }
         },
         "name": "count",
         "orientation": "v",
         "text": "",
         "type": "bar",
         "x": [
          "loan",
          "business",
          "child",
          "school",
          "year",
          "buy",
          "sell",
          "able",
          "family",
          "old",
          "group",
          "also",
          "stock",
          "income",
          "pay",
          "start",
          "increase",
          "use",
          "marry",
          "request",
          "fee",
          "get",
          "repay",
          "member",
          "purchase",
          "make",
          "expand",
          "market",
          "work",
          "woman",
          "enable",
          "milk",
          "farm",
          "need",
          "small",
          "farmer",
          "live",
          "intend",
          "high",
          "meet",
          "married",
          "good",
          "shop",
          "local",
          "primary",
          "help",
          "time",
          "give",
          "husband",
          "well",
          "customer",
          "grow",
          "area",
          "maize",
          "go",
          "want",
          "demand",
          "young",
          "provide",
          "educate",
          "plan",
          "vegetable",
          "profit",
          "earn",
          "usd",
          "supply",
          "support",
          "secondary",
          "mother",
          "last",
          "due",
          "many",
          "sale",
          "transport",
          "education",
          "cow",
          "take",
          "improve",
          "water",
          "community",
          "hard",
          "still",
          "therefore",
          "money",
          "ago",
          "enough",
          "dairy_cow",
          "life",
          "produce",
          "operate",
          "parent",
          "capital",
          "bear",
          "join",
          "month",
          "fruit",
          "wife",
          "apply",
          "age",
          "run"
         ],
         "y": [
          562,
          547,
          480,
          407,
          368,
          277,
          240,
          212,
          202,
          195,
          186,
          180,
          154,
          152,
          152,
          150,
          142,
          140,
          131,
          128,
          125,
          124,
          123,
          122,
          116,
          115,
          113,
          110,
          109,
          109,
          101,
          100,
          98,
          95,
          94,
          86,
          86,
          85,
          83,
          82,
          82,
          80,
          79,
          78,
          78,
          78,
          76,
          76,
          75,
          75,
          74,
          73,
          72,
          71,
          71,
          64,
          64,
          64,
          62,
          61,
          59,
          59,
          57,
          57,
          56,
          54,
          53,
          52,
          52,
          51,
          51,
          50,
          49,
          48,
          48,
          47,
          47,
          47,
          46,
          46,
          45,
          45,
          44,
          44,
          43,
          43,
          42,
          42,
          42,
          42,
          41,
          41,
          41,
          40,
          40,
          40,
          39,
          39,
          39,
          39
         ]
        }
       ],
       "layout": {
        "legend": {
         "bgcolor": "#F5F6F9",
         "font": {
          "color": "#4D5663"
         }
        },
        "paper_bgcolor": "#F5F6F9",
        "plot_bgcolor": "#F5F6F9",
        "template": {
         "data": {
          "bar": [
           {
            "error_x": {
             "color": "#2a3f5f"
            },
            "error_y": {
             "color": "#2a3f5f"
            },
            "marker": {
             "line": {
              "color": "#E5ECF6",
              "width": 0.5
             }
            },
            "type": "bar"
           }
          ],
          "barpolar": [
           {
            "marker": {
             "line": {
              "color": "#E5ECF6",
              "width": 0.5
             }
            },
            "type": "barpolar"
           }
          ],
          "carpet": [
           {
            "aaxis": {
             "endlinecolor": "#2a3f5f",
             "gridcolor": "white",
             "linecolor": "white",
             "minorgridcolor": "white",
             "startlinecolor": "#2a3f5f"
            },
            "baxis": {
             "endlinecolor": "#2a3f5f",
             "gridcolor": "white",
             "linecolor": "white",
             "minorgridcolor": "white",
             "startlinecolor": "#2a3f5f"
            },
            "type": "carpet"
           }
          ],
          "choropleth": [
           {
            "colorbar": {
             "outlinewidth": 0,
             "ticks": ""
            },
            "type": "choropleth"
           }
          ],
          "contour": [
           {
            "colorbar": {
             "outlinewidth": 0,
             "ticks": ""
            },
            "colorscale": [
             [
              0,
              "#0d0887"
             ],
             [
              0.1111111111111111,
              "#46039f"
             ],
             [
              0.2222222222222222,
              "#7201a8"
             ],
             [
              0.3333333333333333,
              "#9c179e"
             ],
             [
              0.4444444444444444,
              "#bd3786"
             ],
             [
              0.5555555555555556,
              "#d8576b"
             ],
             [
              0.6666666666666666,
              "#ed7953"
             ],
             [
              0.7777777777777778,
              "#fb9f3a"
             ],
             [
              0.8888888888888888,
              "#fdca26"
             ],
             [
              1,
              "#f0f921"
             ]
            ],
            "type": "contour"
           }
          ],
          "contourcarpet": [
           {
            "colorbar": {
             "outlinewidth": 0,
             "ticks": ""
            },
            "type": "contourcarpet"
           }
          ],
          "heatmap": [
           {
            "colorbar": {
             "outlinewidth": 0,
             "ticks": ""
            },
            "colorscale": [
             [
              0,
              "#0d0887"
             ],
             [
              0.1111111111111111,
              "#46039f"
             ],
             [
              0.2222222222222222,
              "#7201a8"
             ],
             [
              0.3333333333333333,
              "#9c179e"
             ],
             [
              0.4444444444444444,
              "#bd3786"
             ],
             [
              0.5555555555555556,
              "#d8576b"
             ],
             [
              0.6666666666666666,
              "#ed7953"
             ],
             [
              0.7777777777777778,
              "#fb9f3a"
             ],
             [
              0.8888888888888888,
              "#fdca26"
             ],
             [
              1,
              "#f0f921"
             ]
            ],
            "type": "heatmap"
           }
          ],
          "heatmapgl": [
           {
            "colorbar": {
             "outlinewidth": 0,
             "ticks": ""
            },
            "colorscale": [
             [
              0,
              "#0d0887"
             ],
             [
              0.1111111111111111,
              "#46039f"
             ],
             [
              0.2222222222222222,
              "#7201a8"
             ],
             [
              0.3333333333333333,
              "#9c179e"
             ],
             [
              0.4444444444444444,
              "#bd3786"
             ],
             [
              0.5555555555555556,
              "#d8576b"
             ],
             [
              0.6666666666666666,
              "#ed7953"
             ],
             [
              0.7777777777777778,
              "#fb9f3a"
             ],
             [
              0.8888888888888888,
              "#fdca26"
             ],
             [
              1,
              "#f0f921"
             ]
            ],
            "type": "heatmapgl"
           }
          ],
          "histogram": [
           {
            "marker": {
             "colorbar": {
              "outlinewidth": 0,
              "ticks": ""
             }
            },
            "type": "histogram"
           }
          ],
          "histogram2d": [
           {
            "colorbar": {
             "outlinewidth": 0,
             "ticks": ""
            },
            "colorscale": [
             [
              0,
              "#0d0887"
             ],
             [
              0.1111111111111111,
              "#46039f"
             ],
             [
              0.2222222222222222,
              "#7201a8"
             ],
             [
              0.3333333333333333,
              "#9c179e"
             ],
             [
              0.4444444444444444,
              "#bd3786"
             ],
             [
              0.5555555555555556,
              "#d8576b"
             ],
             [
              0.6666666666666666,
              "#ed7953"
             ],
             [
              0.7777777777777778,
              "#fb9f3a"
             ],
             [
              0.8888888888888888,
              "#fdca26"
             ],
             [
              1,
              "#f0f921"
             ]
            ],
            "type": "histogram2d"
           }
          ],
          "histogram2dcontour": [
           {
            "colorbar": {
             "outlinewidth": 0,
             "ticks": ""
            },
            "colorscale": [
             [
              0,
              "#0d0887"
             ],
             [
              0.1111111111111111,
              "#46039f"
             ],
             [
              0.2222222222222222,
              "#7201a8"
             ],
             [
              0.3333333333333333,
              "#9c179e"
             ],
             [
              0.4444444444444444,
              "#bd3786"
             ],
             [
              0.5555555555555556,
              "#d8576b"
             ],
             [
              0.6666666666666666,
              "#ed7953"
             ],
             [
              0.7777777777777778,
              "#fb9f3a"
             ],
             [
              0.8888888888888888,
              "#fdca26"
             ],
             [
              1,
              "#f0f921"
             ]
            ],
            "type": "histogram2dcontour"
           }
          ],
          "mesh3d": [
           {
            "colorbar": {
             "outlinewidth": 0,
             "ticks": ""
            },
            "type": "mesh3d"
           }
          ],
          "parcoords": [
           {
            "line": {
             "colorbar": {
              "outlinewidth": 0,
              "ticks": ""
             }
            },
            "type": "parcoords"
           }
          ],
          "pie": [
           {
            "automargin": true,
            "type": "pie"
           }
          ],
          "scatter": [
           {
            "marker": {
             "colorbar": {
              "outlinewidth": 0,
              "ticks": ""
             }
            },
            "type": "scatter"
           }
          ],
          "scatter3d": [
           {
            "line": {
             "colorbar": {
              "outlinewidth": 0,
              "ticks": ""
             }
            },
            "marker": {
             "colorbar": {
              "outlinewidth": 0,
              "ticks": ""
             }
            },
            "type": "scatter3d"
           }
          ],
          "scattercarpet": [
           {
            "marker": {
             "colorbar": {
              "outlinewidth": 0,
              "ticks": ""
             }
            },
            "type": "scattercarpet"
           }
          ],
          "scattergeo": [
           {
            "marker": {
             "colorbar": {
              "outlinewidth": 0,
              "ticks": ""
             }
            },
            "type": "scattergeo"
           }
          ],
          "scattergl": [
           {
            "marker": {
             "colorbar": {
              "outlinewidth": 0,
              "ticks": ""
             }
            },
            "type": "scattergl"
           }
          ],
          "scattermapbox": [
           {
            "marker": {
             "colorbar": {
              "outlinewidth": 0,
              "ticks": ""
             }
            },
            "type": "scattermapbox"
           }
          ],
          "scatterpolar": [
           {
            "marker": {
             "colorbar": {
              "outlinewidth": 0,
              "ticks": ""
             }
            },
            "type": "scatterpolar"
           }
          ],
          "scatterpolargl": [
           {
            "marker": {
             "colorbar": {
              "outlinewidth": 0,
              "ticks": ""
             }
            },
            "type": "scatterpolargl"
           }
          ],
          "scatterternary": [
           {
            "marker": {
             "colorbar": {
              "outlinewidth": 0,
              "ticks": ""
             }
            },
            "type": "scatterternary"
           }
          ],
          "surface": [
           {
            "colorbar": {
             "outlinewidth": 0,
             "ticks": ""
            },
            "colorscale": [
             [
              0,
              "#0d0887"
             ],
             [
              0.1111111111111111,
              "#46039f"
             ],
             [
              0.2222222222222222,
              "#7201a8"
             ],
             [
              0.3333333333333333,
              "#9c179e"
             ],
             [
              0.4444444444444444,
              "#bd3786"
             ],
             [
              0.5555555555555556,
              "#d8576b"
             ],
             [
              0.6666666666666666,
              "#ed7953"
             ],
             [
              0.7777777777777778,
              "#fb9f3a"
             ],
             [
              0.8888888888888888,
              "#fdca26"
             ],
             [
              1,
              "#f0f921"
             ]
            ],
            "type": "surface"
           }
          ],
          "table": [
           {
            "cells": {
             "fill": {
              "color": "#EBF0F8"
             },
             "line": {
              "color": "white"
             }
            },
            "header": {
             "fill": {
              "color": "#C8D4E3"
             },
             "line": {
              "color": "white"
             }
            },
            "type": "table"
           }
          ]
         },
         "layout": {
          "annotationdefaults": {
           "arrowcolor": "#2a3f5f",
           "arrowhead": 0,
           "arrowwidth": 1
          },
          "coloraxis": {
           "colorbar": {
            "outlinewidth": 0,
            "ticks": ""
           }
          },
          "colorscale": {
           "diverging": [
            [
             0,
             "#8e0152"
            ],
            [
             0.1,
             "#c51b7d"
            ],
            [
             0.2,
             "#de77ae"
            ],
            [
             0.3,
             "#f1b6da"
            ],
            [
             0.4,
             "#fde0ef"
            ],
            [
             0.5,
             "#f7f7f7"
            ],
            [
             0.6,
             "#e6f5d0"
            ],
            [
             0.7,
             "#b8e186"
            ],
            [
             0.8,
             "#7fbc41"
            ],
            [
             0.9,
             "#4d9221"
            ],
            [
             1,
             "#276419"
            ]
           ],
           "sequential": [
            [
             0,
             "#0d0887"
            ],
            [
             0.1111111111111111,
             "#46039f"
            ],
            [
             0.2222222222222222,
             "#7201a8"
            ],
            [
             0.3333333333333333,
             "#9c179e"
            ],
            [
             0.4444444444444444,
             "#bd3786"
            ],
            [
             0.5555555555555556,
             "#d8576b"
            ],
            [
             0.6666666666666666,
             "#ed7953"
            ],
            [
             0.7777777777777778,
             "#fb9f3a"
            ],
            [
             0.8888888888888888,
             "#fdca26"
            ],
            [
             1,
             "#f0f921"
            ]
           ],
           "sequentialminus": [
            [
             0,
             "#0d0887"
            ],
            [
             0.1111111111111111,
             "#46039f"
            ],
            [
             0.2222222222222222,
             "#7201a8"
            ],
            [
             0.3333333333333333,
             "#9c179e"
            ],
            [
             0.4444444444444444,
             "#bd3786"
            ],
            [
             0.5555555555555556,
             "#d8576b"
            ],
            [
             0.6666666666666666,
             "#ed7953"
            ],
            [
             0.7777777777777778,
             "#fb9f3a"
            ],
            [
             0.8888888888888888,
             "#fdca26"
            ],
            [
             1,
             "#f0f921"
            ]
           ]
          },
          "colorway": [
           "#636efa",
           "#EF553B",
           "#00cc96",
           "#ab63fa",
           "#FFA15A",
           "#19d3f3",
           "#FF6692",
           "#B6E880",
           "#FF97FF",
           "#FECB52"
          ],
          "font": {
           "color": "#2a3f5f"
          },
          "geo": {
           "bgcolor": "white",
           "lakecolor": "white",
           "landcolor": "#E5ECF6",
           "showlakes": true,
           "showland": true,
           "subunitcolor": "white"
          },
          "hoverlabel": {
           "align": "left"
          },
          "hovermode": "closest",
          "mapbox": {
           "style": "light"
          },
          "paper_bgcolor": "white",
          "plot_bgcolor": "#E5ECF6",
          "polar": {
           "angularaxis": {
            "gridcolor": "white",
            "linecolor": "white",
            "ticks": ""
           },
           "bgcolor": "#E5ECF6",
           "radialaxis": {
            "gridcolor": "white",
            "linecolor": "white",
            "ticks": ""
           }
          },
          "scene": {
           "xaxis": {
            "backgroundcolor": "#E5ECF6",
            "gridcolor": "white",
            "gridwidth": 2,
            "linecolor": "white",
            "showbackground": true,
            "ticks": "",
            "zerolinecolor": "white"
           },
           "yaxis": {
            "backgroundcolor": "#E5ECF6",
            "gridcolor": "white",
            "gridwidth": 2,
            "linecolor": "white",
            "showbackground": true,
            "ticks": "",
            "zerolinecolor": "white"
           },
           "zaxis": {
            "backgroundcolor": "#E5ECF6",
            "gridcolor": "white",
            "gridwidth": 2,
            "linecolor": "white",
            "showbackground": true,
            "ticks": "",
            "zerolinecolor": "white"
           }
          },
          "shapedefaults": {
           "line": {
            "color": "#2a3f5f"
           }
          },
          "ternary": {
           "aaxis": {
            "gridcolor": "white",
            "linecolor": "white",
            "ticks": ""
           },
           "baxis": {
            "gridcolor": "white",
            "linecolor": "white",
            "ticks": ""
           },
           "bgcolor": "#E5ECF6",
           "caxis": {
            "gridcolor": "white",
            "linecolor": "white",
            "ticks": ""
           }
          },
          "title": {
           "x": 0.05
          },
          "xaxis": {
           "automargin": true,
           "gridcolor": "white",
           "linecolor": "white",
           "ticks": "",
           "title": {
            "standoff": 15
           },
           "zerolinecolor": "white",
           "zerolinewidth": 2
          },
          "yaxis": {
           "automargin": true,
           "gridcolor": "white",
           "linecolor": "white",
           "ticks": "",
           "title": {
            "standoff": 15
           },
           "zerolinecolor": "white",
           "zerolinewidth": 2
          }
         }
        },
        "title": {
         "font": {
          "color": "#4D5663"
         },
         "text": "Topic 1: Top 100 words after removing stop words"
        },
        "xaxis": {
         "gridcolor": "#E1E5ED",
         "linecolor": "black",
         "showgrid": true,
         "tickfont": {
          "color": "#4D5663"
         },
         "title": {
          "font": {
           "color": "#4D5663"
          },
          "text": ""
         },
         "zerolinecolor": "#E1E5ED"
        },
        "yaxis": {
         "gridcolor": "#E1E5ED",
         "linecolor": "black",
         "showgrid": true,
         "tickfont": {
          "color": "#4D5663"
         },
         "title": {
          "font": {
           "color": "#4D5663"
          },
          "text": "Count"
         },
         "zerolinecolor": "#E1E5ED"
        }
       }
      },
      "text/html": [
       "<div>                            <div id=\"323bbfc3-0666-4160-9561-bfa27eea2d23\" class=\"plotly-graph-div\" style=\"height:525px; width:100%;\"></div>            <script type=\"text/javascript\">                require([\"plotly\"], function(Plotly) {                    window.PLOTLYENV=window.PLOTLYENV || {};\n",
       "                    window.PLOTLYENV.BASE_URL='https://plot.ly';                                    if (document.getElementById(\"323bbfc3-0666-4160-9561-bfa27eea2d23\")) {                    Plotly.newPlot(                        \"323bbfc3-0666-4160-9561-bfa27eea2d23\",                        [{\"marker\": {\"color\": \"rgba(255, 153, 51, 0.6)\", \"line\": {\"color\": \"rgba(255, 153, 51, 1.0)\", \"width\": 1}}, \"name\": \"count\", \"orientation\": \"v\", \"text\": \"\", \"type\": \"bar\", \"x\": [\"loan\", \"business\", \"child\", \"school\", \"year\", \"buy\", \"sell\", \"able\", \"family\", \"old\", \"group\", \"also\", \"stock\", \"income\", \"pay\", \"start\", \"increase\", \"use\", \"marry\", \"request\", \"fee\", \"get\", \"repay\", \"member\", \"purchase\", \"make\", \"expand\", \"market\", \"work\", \"woman\", \"enable\", \"milk\", \"farm\", \"need\", \"small\", \"farmer\", \"live\", \"intend\", \"high\", \"meet\", \"married\", \"good\", \"shop\", \"local\", \"primary\", \"help\", \"time\", \"give\", \"husband\", \"well\", \"customer\", \"grow\", \"area\", \"maize\", \"go\", \"want\", \"demand\", \"young\", \"provide\", \"educate\", \"plan\", \"vegetable\", \"profit\", \"earn\", \"usd\", \"supply\", \"support\", \"secondary\", \"mother\", \"last\", \"due\", \"many\", \"sale\", \"transport\", \"education\", \"cow\", \"take\", \"improve\", \"water\", \"community\", \"hard\", \"still\", \"therefore\", \"money\", \"ago\", \"enough\", \"dairy_cow\", \"life\", \"produce\", \"operate\", \"parent\", \"capital\", \"bear\", \"join\", \"month\", \"fruit\", \"wife\", \"apply\", \"age\", \"run\"], \"y\": [562, 547, 480, 407, 368, 277, 240, 212, 202, 195, 186, 180, 154, 152, 152, 150, 142, 140, 131, 128, 125, 124, 123, 122, 116, 115, 113, 110, 109, 109, 101, 100, 98, 95, 94, 86, 86, 85, 83, 82, 82, 80, 79, 78, 78, 78, 76, 76, 75, 75, 74, 73, 72, 71, 71, 64, 64, 64, 62, 61, 59, 59, 57, 57, 56, 54, 53, 52, 52, 51, 51, 50, 49, 48, 48, 47, 47, 47, 46, 46, 45, 45, 44, 44, 43, 43, 42, 42, 42, 42, 41, 41, 41, 40, 40, 40, 39, 39, 39, 39]}],                        {\"legend\": {\"bgcolor\": \"#F5F6F9\", \"font\": {\"color\": \"#4D5663\"}}, \"paper_bgcolor\": \"#F5F6F9\", \"plot_bgcolor\": \"#F5F6F9\", \"template\": {\"data\": {\"bar\": [{\"error_x\": {\"color\": \"#2a3f5f\"}, \"error_y\": {\"color\": \"#2a3f5f\"}, \"marker\": {\"line\": {\"color\": \"#E5ECF6\", \"width\": 0.5}}, \"type\": \"bar\"}], \"barpolar\": [{\"marker\": {\"line\": {\"color\": \"#E5ECF6\", \"width\": 0.5}}, \"type\": \"barpolar\"}], \"carpet\": [{\"aaxis\": {\"endlinecolor\": \"#2a3f5f\", \"gridcolor\": \"white\", \"linecolor\": \"white\", \"minorgridcolor\": \"white\", \"startlinecolor\": \"#2a3f5f\"}, \"baxis\": {\"endlinecolor\": \"#2a3f5f\", \"gridcolor\": \"white\", \"linecolor\": \"white\", \"minorgridcolor\": \"white\", \"startlinecolor\": \"#2a3f5f\"}, \"type\": \"carpet\"}], \"choropleth\": [{\"colorbar\": {\"outlinewidth\": 0, \"ticks\": \"\"}, \"type\": \"choropleth\"}], \"contour\": [{\"colorbar\": {\"outlinewidth\": 0, \"ticks\": \"\"}, \"colorscale\": [[0.0, \"#0d0887\"], [0.1111111111111111, \"#46039f\"], [0.2222222222222222, \"#7201a8\"], [0.3333333333333333, \"#9c179e\"], [0.4444444444444444, \"#bd3786\"], [0.5555555555555556, \"#d8576b\"], [0.6666666666666666, \"#ed7953\"], [0.7777777777777778, \"#fb9f3a\"], [0.8888888888888888, \"#fdca26\"], [1.0, \"#f0f921\"]], \"type\": \"contour\"}], \"contourcarpet\": [{\"colorbar\": {\"outlinewidth\": 0, \"ticks\": \"\"}, \"type\": \"contourcarpet\"}], \"heatmap\": [{\"colorbar\": {\"outlinewidth\": 0, \"ticks\": \"\"}, \"colorscale\": [[0.0, \"#0d0887\"], [0.1111111111111111, \"#46039f\"], [0.2222222222222222, \"#7201a8\"], [0.3333333333333333, \"#9c179e\"], [0.4444444444444444, \"#bd3786\"], [0.5555555555555556, \"#d8576b\"], [0.6666666666666666, \"#ed7953\"], [0.7777777777777778, \"#fb9f3a\"], [0.8888888888888888, \"#fdca26\"], [1.0, \"#f0f921\"]], \"type\": \"heatmap\"}], \"heatmapgl\": [{\"colorbar\": {\"outlinewidth\": 0, \"ticks\": \"\"}, \"colorscale\": [[0.0, \"#0d0887\"], [0.1111111111111111, \"#46039f\"], [0.2222222222222222, \"#7201a8\"], [0.3333333333333333, \"#9c179e\"], [0.4444444444444444, \"#bd3786\"], [0.5555555555555556, \"#d8576b\"], [0.6666666666666666, \"#ed7953\"], [0.7777777777777778, \"#fb9f3a\"], [0.8888888888888888, \"#fdca26\"], [1.0, \"#f0f921\"]], \"type\": \"heatmapgl\"}], \"histogram\": [{\"marker\": {\"colorbar\": {\"outlinewidth\": 0, \"ticks\": \"\"}}, \"type\": \"histogram\"}], \"histogram2d\": [{\"colorbar\": {\"outlinewidth\": 0, \"ticks\": \"\"}, \"colorscale\": [[0.0, \"#0d0887\"], [0.1111111111111111, \"#46039f\"], [0.2222222222222222, \"#7201a8\"], [0.3333333333333333, \"#9c179e\"], [0.4444444444444444, \"#bd3786\"], [0.5555555555555556, \"#d8576b\"], [0.6666666666666666, \"#ed7953\"], [0.7777777777777778, \"#fb9f3a\"], [0.8888888888888888, \"#fdca26\"], [1.0, \"#f0f921\"]], \"type\": \"histogram2d\"}], \"histogram2dcontour\": [{\"colorbar\": {\"outlinewidth\": 0, \"ticks\": \"\"}, \"colorscale\": [[0.0, \"#0d0887\"], [0.1111111111111111, \"#46039f\"], [0.2222222222222222, \"#7201a8\"], [0.3333333333333333, \"#9c179e\"], [0.4444444444444444, \"#bd3786\"], [0.5555555555555556, \"#d8576b\"], [0.6666666666666666, \"#ed7953\"], [0.7777777777777778, \"#fb9f3a\"], [0.8888888888888888, \"#fdca26\"], [1.0, \"#f0f921\"]], \"type\": \"histogram2dcontour\"}], \"mesh3d\": [{\"colorbar\": {\"outlinewidth\": 0, \"ticks\": \"\"}, \"type\": \"mesh3d\"}], \"parcoords\": [{\"line\": {\"colorbar\": {\"outlinewidth\": 0, \"ticks\": \"\"}}, \"type\": \"parcoords\"}], \"pie\": [{\"automargin\": true, \"type\": \"pie\"}], \"scatter\": [{\"marker\": {\"colorbar\": {\"outlinewidth\": 0, \"ticks\": \"\"}}, \"type\": \"scatter\"}], \"scatter3d\": [{\"line\": {\"colorbar\": {\"outlinewidth\": 0, \"ticks\": \"\"}}, \"marker\": {\"colorbar\": {\"outlinewidth\": 0, \"ticks\": \"\"}}, \"type\": \"scatter3d\"}], \"scattercarpet\": [{\"marker\": {\"colorbar\": {\"outlinewidth\": 0, \"ticks\": \"\"}}, \"type\": \"scattercarpet\"}], \"scattergeo\": [{\"marker\": {\"colorbar\": {\"outlinewidth\": 0, \"ticks\": \"\"}}, \"type\": \"scattergeo\"}], \"scattergl\": [{\"marker\": {\"colorbar\": {\"outlinewidth\": 0, \"ticks\": \"\"}}, \"type\": \"scattergl\"}], \"scattermapbox\": [{\"marker\": {\"colorbar\": {\"outlinewidth\": 0, \"ticks\": \"\"}}, \"type\": \"scattermapbox\"}], \"scatterpolar\": [{\"marker\": {\"colorbar\": {\"outlinewidth\": 0, \"ticks\": \"\"}}, \"type\": \"scatterpolar\"}], \"scatterpolargl\": [{\"marker\": {\"colorbar\": {\"outlinewidth\": 0, \"ticks\": \"\"}}, \"type\": \"scatterpolargl\"}], \"scatterternary\": [{\"marker\": {\"colorbar\": {\"outlinewidth\": 0, \"ticks\": \"\"}}, \"type\": \"scatterternary\"}], \"surface\": [{\"colorbar\": {\"outlinewidth\": 0, \"ticks\": \"\"}, \"colorscale\": [[0.0, \"#0d0887\"], [0.1111111111111111, \"#46039f\"], [0.2222222222222222, \"#7201a8\"], [0.3333333333333333, \"#9c179e\"], [0.4444444444444444, \"#bd3786\"], [0.5555555555555556, \"#d8576b\"], [0.6666666666666666, \"#ed7953\"], [0.7777777777777778, \"#fb9f3a\"], [0.8888888888888888, \"#fdca26\"], [1.0, \"#f0f921\"]], \"type\": \"surface\"}], \"table\": [{\"cells\": {\"fill\": {\"color\": \"#EBF0F8\"}, \"line\": {\"color\": \"white\"}}, \"header\": {\"fill\": {\"color\": \"#C8D4E3\"}, \"line\": {\"color\": \"white\"}}, \"type\": \"table\"}]}, \"layout\": {\"annotationdefaults\": {\"arrowcolor\": \"#2a3f5f\", \"arrowhead\": 0, \"arrowwidth\": 1}, \"coloraxis\": {\"colorbar\": {\"outlinewidth\": 0, \"ticks\": \"\"}}, \"colorscale\": {\"diverging\": [[0, \"#8e0152\"], [0.1, \"#c51b7d\"], [0.2, \"#de77ae\"], [0.3, \"#f1b6da\"], [0.4, \"#fde0ef\"], [0.5, \"#f7f7f7\"], [0.6, \"#e6f5d0\"], [0.7, \"#b8e186\"], [0.8, \"#7fbc41\"], [0.9, \"#4d9221\"], [1, \"#276419\"]], \"sequential\": [[0.0, \"#0d0887\"], [0.1111111111111111, \"#46039f\"], [0.2222222222222222, \"#7201a8\"], [0.3333333333333333, \"#9c179e\"], [0.4444444444444444, \"#bd3786\"], [0.5555555555555556, \"#d8576b\"], [0.6666666666666666, \"#ed7953\"], [0.7777777777777778, \"#fb9f3a\"], [0.8888888888888888, \"#fdca26\"], [1.0, \"#f0f921\"]], \"sequentialminus\": [[0.0, \"#0d0887\"], [0.1111111111111111, \"#46039f\"], [0.2222222222222222, \"#7201a8\"], [0.3333333333333333, \"#9c179e\"], [0.4444444444444444, \"#bd3786\"], [0.5555555555555556, \"#d8576b\"], [0.6666666666666666, \"#ed7953\"], [0.7777777777777778, \"#fb9f3a\"], [0.8888888888888888, \"#fdca26\"], [1.0, \"#f0f921\"]]}, \"colorway\": [\"#636efa\", \"#EF553B\", \"#00cc96\", \"#ab63fa\", \"#FFA15A\", \"#19d3f3\", \"#FF6692\", \"#B6E880\", \"#FF97FF\", \"#FECB52\"], \"font\": {\"color\": \"#2a3f5f\"}, \"geo\": {\"bgcolor\": \"white\", \"lakecolor\": \"white\", \"landcolor\": \"#E5ECF6\", \"showlakes\": true, \"showland\": true, \"subunitcolor\": \"white\"}, \"hoverlabel\": {\"align\": \"left\"}, \"hovermode\": \"closest\", \"mapbox\": {\"style\": \"light\"}, \"paper_bgcolor\": \"white\", \"plot_bgcolor\": \"#E5ECF6\", \"polar\": {\"angularaxis\": {\"gridcolor\": \"white\", \"linecolor\": \"white\", \"ticks\": \"\"}, \"bgcolor\": \"#E5ECF6\", \"radialaxis\": {\"gridcolor\": \"white\", \"linecolor\": \"white\", \"ticks\": \"\"}}, \"scene\": {\"xaxis\": {\"backgroundcolor\": \"#E5ECF6\", \"gridcolor\": \"white\", \"gridwidth\": 2, \"linecolor\": \"white\", \"showbackground\": true, \"ticks\": \"\", \"zerolinecolor\": \"white\"}, \"yaxis\": {\"backgroundcolor\": \"#E5ECF6\", \"gridcolor\": \"white\", \"gridwidth\": 2, \"linecolor\": \"white\", \"showbackground\": true, \"ticks\": \"\", \"zerolinecolor\": \"white\"}, \"zaxis\": {\"backgroundcolor\": \"#E5ECF6\", \"gridcolor\": \"white\", \"gridwidth\": 2, \"linecolor\": \"white\", \"showbackground\": true, \"ticks\": \"\", \"zerolinecolor\": \"white\"}}, \"shapedefaults\": {\"line\": {\"color\": \"#2a3f5f\"}}, \"ternary\": {\"aaxis\": {\"gridcolor\": \"white\", \"linecolor\": \"white\", \"ticks\": \"\"}, \"baxis\": {\"gridcolor\": \"white\", \"linecolor\": \"white\", \"ticks\": \"\"}, \"bgcolor\": \"#E5ECF6\", \"caxis\": {\"gridcolor\": \"white\", \"linecolor\": \"white\", \"ticks\": \"\"}}, \"title\": {\"x\": 0.05}, \"xaxis\": {\"automargin\": true, \"gridcolor\": \"white\", \"linecolor\": \"white\", \"ticks\": \"\", \"title\": {\"standoff\": 15}, \"zerolinecolor\": \"white\", \"zerolinewidth\": 2}, \"yaxis\": {\"automargin\": true, \"gridcolor\": \"white\", \"linecolor\": \"white\", \"ticks\": \"\", \"title\": {\"standoff\": 15}, \"zerolinecolor\": \"white\", \"zerolinewidth\": 2}}}, \"title\": {\"font\": {\"color\": \"#4D5663\"}, \"text\": \"Topic 1: Top 100 words after removing stop words\"}, \"xaxis\": {\"gridcolor\": \"#E1E5ED\", \"linecolor\": \"black\", \"showgrid\": true, \"tickfont\": {\"color\": \"#4D5663\"}, \"title\": {\"font\": {\"color\": \"#4D5663\"}, \"text\": \"\"}, \"zerolinecolor\": \"#E1E5ED\"}, \"yaxis\": {\"gridcolor\": \"#E1E5ED\", \"linecolor\": \"black\", \"showgrid\": true, \"tickfont\": {\"color\": \"#4D5663\"}, \"title\": {\"font\": {\"color\": \"#4D5663\"}, \"text\": \"Count\"}, \"zerolinecolor\": \"#E1E5ED\"}},                        {\"showLink\": true, \"linkText\": \"Export to plot.ly\", \"plotlyServerURL\": \"https://plot.ly\", \"responsive\": true}                    ).then(function(){\n",
       "                            \n",
       "var gd = document.getElementById('323bbfc3-0666-4160-9561-bfa27eea2d23');\n",
       "var x = new MutationObserver(function (mutations, observer) {{\n",
       "        var display = window.getComputedStyle(gd).display;\n",
       "        if (!display || display === 'none') {{\n",
       "            console.log([gd, 'removed!']);\n",
       "            Plotly.purge(gd);\n",
       "            observer.disconnect();\n",
       "        }}\n",
       "}});\n",
       "\n",
       "// Listen for the removal of the full notebook cells\n",
       "var notebookContainer = gd.closest('#notebook-container');\n",
       "if (notebookContainer) {{\n",
       "    x.observe(notebookContainer, {childList: true});\n",
       "}}\n",
       "\n",
       "// Listen for the clearing of the current output cell\n",
       "var outputEl = gd.closest('.output');\n",
       "if (outputEl) {{\n",
       "    x.observe(outputEl, {childList: true});\n",
       "}}\n",
       "\n",
       "                        })                };                });            </script>        </div>"
      ]
     },
     "metadata": {},
     "output_type": "display_data"
    }
   ],
   "source": [
    "plot_model(lda, plot='frequency', topic_num = 'Topic 1')"
   ]
  },
  {
   "cell_type": "markdown",
   "metadata": {},
   "source": [
    "## Topic Distribution"
   ]
  },
  {
   "cell_type": "code",
   "execution_count": 21,
   "metadata": {},
   "outputs": [
    {
     "data": {
      "text/html": [
       "        <script type=\"text/javascript\">\n",
       "        window.PlotlyConfig = {MathJaxConfig: 'local'};\n",
       "        if (window.MathJax) {MathJax.Hub.Config({SVG: {font: \"STIX-Web\"}});}\n",
       "        if (typeof require !== 'undefined') {\n",
       "        require.undef(\"plotly\");\n",
       "        requirejs.config({\n",
       "            paths: {\n",
       "                'plotly': ['https://cdn.plot.ly/plotly-latest.min']\n",
       "            }\n",
       "        });\n",
       "        require(['plotly'], function(Plotly) {\n",
       "            window._Plotly = Plotly;\n",
       "        });\n",
       "        }\n",
       "        </script>\n",
       "        "
      ]
     },
     "metadata": {},
     "output_type": "display_data"
    },
    {
     "data": {
      "application/vnd.plotly.v1+json": {
       "config": {
        "plotlyServerURL": "https://plot.ly"
       },
       "data": [
        {
         "alignmentgroup": "True",
         "customdata": [
          [
           "rice, loan, farmer, also, use, small, land, area, many, sector"
          ],
          [
           "loan, child, school, business, year, buy, able, stock, family, pay"
          ],
          [
           "business, year, loan, sell, child, work, product, use, old, help"
          ],
          [
           "loan, business, group, sell, child, woman, community, small, entrepreneur, member"
          ]
         ],
         "hovertemplate": "Topic=%{x}<br>Documents=%{y}<br>Keyword=%{customdata[0]}<extra></extra>",
         "legendgroup": "",
         "marker": {
          "color": "#636efa"
         },
         "name": "",
         "offsetgroup": "",
         "orientation": "v",
         "showlegend": false,
         "textposition": "auto",
         "type": "bar",
         "x": [
          "Topic 0",
          "Topic 1",
          "Topic 2",
          "Topic 3"
         ],
         "xaxis": "x",
         "y": [
          27,
          330,
          404,
          239
         ],
         "yaxis": "y"
        }
       ],
       "layout": {
        "barmode": "relative",
        "legend": {
         "tracegroupgap": 0
        },
        "template": {
         "data": {
          "bar": [
           {
            "error_x": {
             "color": "#2a3f5f"
            },
            "error_y": {
             "color": "#2a3f5f"
            },
            "marker": {
             "line": {
              "color": "#E5ECF6",
              "width": 0.5
             }
            },
            "type": "bar"
           }
          ],
          "barpolar": [
           {
            "marker": {
             "line": {
              "color": "#E5ECF6",
              "width": 0.5
             }
            },
            "type": "barpolar"
           }
          ],
          "carpet": [
           {
            "aaxis": {
             "endlinecolor": "#2a3f5f",
             "gridcolor": "white",
             "linecolor": "white",
             "minorgridcolor": "white",
             "startlinecolor": "#2a3f5f"
            },
            "baxis": {
             "endlinecolor": "#2a3f5f",
             "gridcolor": "white",
             "linecolor": "white",
             "minorgridcolor": "white",
             "startlinecolor": "#2a3f5f"
            },
            "type": "carpet"
           }
          ],
          "choropleth": [
           {
            "colorbar": {
             "outlinewidth": 0,
             "ticks": ""
            },
            "type": "choropleth"
           }
          ],
          "contour": [
           {
            "colorbar": {
             "outlinewidth": 0,
             "ticks": ""
            },
            "colorscale": [
             [
              0,
              "#0d0887"
             ],
             [
              0.1111111111111111,
              "#46039f"
             ],
             [
              0.2222222222222222,
              "#7201a8"
             ],
             [
              0.3333333333333333,
              "#9c179e"
             ],
             [
              0.4444444444444444,
              "#bd3786"
             ],
             [
              0.5555555555555556,
              "#d8576b"
             ],
             [
              0.6666666666666666,
              "#ed7953"
             ],
             [
              0.7777777777777778,
              "#fb9f3a"
             ],
             [
              0.8888888888888888,
              "#fdca26"
             ],
             [
              1,
              "#f0f921"
             ]
            ],
            "type": "contour"
           }
          ],
          "contourcarpet": [
           {
            "colorbar": {
             "outlinewidth": 0,
             "ticks": ""
            },
            "type": "contourcarpet"
           }
          ],
          "heatmap": [
           {
            "colorbar": {
             "outlinewidth": 0,
             "ticks": ""
            },
            "colorscale": [
             [
              0,
              "#0d0887"
             ],
             [
              0.1111111111111111,
              "#46039f"
             ],
             [
              0.2222222222222222,
              "#7201a8"
             ],
             [
              0.3333333333333333,
              "#9c179e"
             ],
             [
              0.4444444444444444,
              "#bd3786"
             ],
             [
              0.5555555555555556,
              "#d8576b"
             ],
             [
              0.6666666666666666,
              "#ed7953"
             ],
             [
              0.7777777777777778,
              "#fb9f3a"
             ],
             [
              0.8888888888888888,
              "#fdca26"
             ],
             [
              1,
              "#f0f921"
             ]
            ],
            "type": "heatmap"
           }
          ],
          "heatmapgl": [
           {
            "colorbar": {
             "outlinewidth": 0,
             "ticks": ""
            },
            "colorscale": [
             [
              0,
              "#0d0887"
             ],
             [
              0.1111111111111111,
              "#46039f"
             ],
             [
              0.2222222222222222,
              "#7201a8"
             ],
             [
              0.3333333333333333,
              "#9c179e"
             ],
             [
              0.4444444444444444,
              "#bd3786"
             ],
             [
              0.5555555555555556,
              "#d8576b"
             ],
             [
              0.6666666666666666,
              "#ed7953"
             ],
             [
              0.7777777777777778,
              "#fb9f3a"
             ],
             [
              0.8888888888888888,
              "#fdca26"
             ],
             [
              1,
              "#f0f921"
             ]
            ],
            "type": "heatmapgl"
           }
          ],
          "histogram": [
           {
            "marker": {
             "colorbar": {
              "outlinewidth": 0,
              "ticks": ""
             }
            },
            "type": "histogram"
           }
          ],
          "histogram2d": [
           {
            "colorbar": {
             "outlinewidth": 0,
             "ticks": ""
            },
            "colorscale": [
             [
              0,
              "#0d0887"
             ],
             [
              0.1111111111111111,
              "#46039f"
             ],
             [
              0.2222222222222222,
              "#7201a8"
             ],
             [
              0.3333333333333333,
              "#9c179e"
             ],
             [
              0.4444444444444444,
              "#bd3786"
             ],
             [
              0.5555555555555556,
              "#d8576b"
             ],
             [
              0.6666666666666666,
              "#ed7953"
             ],
             [
              0.7777777777777778,
              "#fb9f3a"
             ],
             [
              0.8888888888888888,
              "#fdca26"
             ],
             [
              1,
              "#f0f921"
             ]
            ],
            "type": "histogram2d"
           }
          ],
          "histogram2dcontour": [
           {
            "colorbar": {
             "outlinewidth": 0,
             "ticks": ""
            },
            "colorscale": [
             [
              0,
              "#0d0887"
             ],
             [
              0.1111111111111111,
              "#46039f"
             ],
             [
              0.2222222222222222,
              "#7201a8"
             ],
             [
              0.3333333333333333,
              "#9c179e"
             ],
             [
              0.4444444444444444,
              "#bd3786"
             ],
             [
              0.5555555555555556,
              "#d8576b"
             ],
             [
              0.6666666666666666,
              "#ed7953"
             ],
             [
              0.7777777777777778,
              "#fb9f3a"
             ],
             [
              0.8888888888888888,
              "#fdca26"
             ],
             [
              1,
              "#f0f921"
             ]
            ],
            "type": "histogram2dcontour"
           }
          ],
          "mesh3d": [
           {
            "colorbar": {
             "outlinewidth": 0,
             "ticks": ""
            },
            "type": "mesh3d"
           }
          ],
          "parcoords": [
           {
            "line": {
             "colorbar": {
              "outlinewidth": 0,
              "ticks": ""
             }
            },
            "type": "parcoords"
           }
          ],
          "pie": [
           {
            "automargin": true,
            "type": "pie"
           }
          ],
          "scatter": [
           {
            "marker": {
             "colorbar": {
              "outlinewidth": 0,
              "ticks": ""
             }
            },
            "type": "scatter"
           }
          ],
          "scatter3d": [
           {
            "line": {
             "colorbar": {
              "outlinewidth": 0,
              "ticks": ""
             }
            },
            "marker": {
             "colorbar": {
              "outlinewidth": 0,
              "ticks": ""
             }
            },
            "type": "scatter3d"
           }
          ],
          "scattercarpet": [
           {
            "marker": {
             "colorbar": {
              "outlinewidth": 0,
              "ticks": ""
             }
            },
            "type": "scattercarpet"
           }
          ],
          "scattergeo": [
           {
            "marker": {
             "colorbar": {
              "outlinewidth": 0,
              "ticks": ""
             }
            },
            "type": "scattergeo"
           }
          ],
          "scattergl": [
           {
            "marker": {
             "colorbar": {
              "outlinewidth": 0,
              "ticks": ""
             }
            },
            "type": "scattergl"
           }
          ],
          "scattermapbox": [
           {
            "marker": {
             "colorbar": {
              "outlinewidth": 0,
              "ticks": ""
             }
            },
            "type": "scattermapbox"
           }
          ],
          "scatterpolar": [
           {
            "marker": {
             "colorbar": {
              "outlinewidth": 0,
              "ticks": ""
             }
            },
            "type": "scatterpolar"
           }
          ],
          "scatterpolargl": [
           {
            "marker": {
             "colorbar": {
              "outlinewidth": 0,
              "ticks": ""
             }
            },
            "type": "scatterpolargl"
           }
          ],
          "scatterternary": [
           {
            "marker": {
             "colorbar": {
              "outlinewidth": 0,
              "ticks": ""
             }
            },
            "type": "scatterternary"
           }
          ],
          "surface": [
           {
            "colorbar": {
             "outlinewidth": 0,
             "ticks": ""
            },
            "colorscale": [
             [
              0,
              "#0d0887"
             ],
             [
              0.1111111111111111,
              "#46039f"
             ],
             [
              0.2222222222222222,
              "#7201a8"
             ],
             [
              0.3333333333333333,
              "#9c179e"
             ],
             [
              0.4444444444444444,
              "#bd3786"
             ],
             [
              0.5555555555555556,
              "#d8576b"
             ],
             [
              0.6666666666666666,
              "#ed7953"
             ],
             [
              0.7777777777777778,
              "#fb9f3a"
             ],
             [
              0.8888888888888888,
              "#fdca26"
             ],
             [
              1,
              "#f0f921"
             ]
            ],
            "type": "surface"
           }
          ],
          "table": [
           {
            "cells": {
             "fill": {
              "color": "#EBF0F8"
             },
             "line": {
              "color": "white"
             }
            },
            "header": {
             "fill": {
              "color": "#C8D4E3"
             },
             "line": {
              "color": "white"
             }
            },
            "type": "table"
           }
          ]
         },
         "layout": {
          "annotationdefaults": {
           "arrowcolor": "#2a3f5f",
           "arrowhead": 0,
           "arrowwidth": 1
          },
          "coloraxis": {
           "colorbar": {
            "outlinewidth": 0,
            "ticks": ""
           }
          },
          "colorscale": {
           "diverging": [
            [
             0,
             "#8e0152"
            ],
            [
             0.1,
             "#c51b7d"
            ],
            [
             0.2,
             "#de77ae"
            ],
            [
             0.3,
             "#f1b6da"
            ],
            [
             0.4,
             "#fde0ef"
            ],
            [
             0.5,
             "#f7f7f7"
            ],
            [
             0.6,
             "#e6f5d0"
            ],
            [
             0.7,
             "#b8e186"
            ],
            [
             0.8,
             "#7fbc41"
            ],
            [
             0.9,
             "#4d9221"
            ],
            [
             1,
             "#276419"
            ]
           ],
           "sequential": [
            [
             0,
             "#0d0887"
            ],
            [
             0.1111111111111111,
             "#46039f"
            ],
            [
             0.2222222222222222,
             "#7201a8"
            ],
            [
             0.3333333333333333,
             "#9c179e"
            ],
            [
             0.4444444444444444,
             "#bd3786"
            ],
            [
             0.5555555555555556,
             "#d8576b"
            ],
            [
             0.6666666666666666,
             "#ed7953"
            ],
            [
             0.7777777777777778,
             "#fb9f3a"
            ],
            [
             0.8888888888888888,
             "#fdca26"
            ],
            [
             1,
             "#f0f921"
            ]
           ],
           "sequentialminus": [
            [
             0,
             "#0d0887"
            ],
            [
             0.1111111111111111,
             "#46039f"
            ],
            [
             0.2222222222222222,
             "#7201a8"
            ],
            [
             0.3333333333333333,
             "#9c179e"
            ],
            [
             0.4444444444444444,
             "#bd3786"
            ],
            [
             0.5555555555555556,
             "#d8576b"
            ],
            [
             0.6666666666666666,
             "#ed7953"
            ],
            [
             0.7777777777777778,
             "#fb9f3a"
            ],
            [
             0.8888888888888888,
             "#fdca26"
            ],
            [
             1,
             "#f0f921"
            ]
           ]
          },
          "colorway": [
           "#636efa",
           "#EF553B",
           "#00cc96",
           "#ab63fa",
           "#FFA15A",
           "#19d3f3",
           "#FF6692",
           "#B6E880",
           "#FF97FF",
           "#FECB52"
          ],
          "font": {
           "color": "#2a3f5f"
          },
          "geo": {
           "bgcolor": "white",
           "lakecolor": "white",
           "landcolor": "#E5ECF6",
           "showlakes": true,
           "showland": true,
           "subunitcolor": "white"
          },
          "hoverlabel": {
           "align": "left"
          },
          "hovermode": "closest",
          "mapbox": {
           "style": "light"
          },
          "paper_bgcolor": "white",
          "plot_bgcolor": "#E5ECF6",
          "polar": {
           "angularaxis": {
            "gridcolor": "white",
            "linecolor": "white",
            "ticks": ""
           },
           "bgcolor": "#E5ECF6",
           "radialaxis": {
            "gridcolor": "white",
            "linecolor": "white",
            "ticks": ""
           }
          },
          "scene": {
           "xaxis": {
            "backgroundcolor": "#E5ECF6",
            "gridcolor": "white",
            "gridwidth": 2,
            "linecolor": "white",
            "showbackground": true,
            "ticks": "",
            "zerolinecolor": "white"
           },
           "yaxis": {
            "backgroundcolor": "#E5ECF6",
            "gridcolor": "white",
            "gridwidth": 2,
            "linecolor": "white",
            "showbackground": true,
            "ticks": "",
            "zerolinecolor": "white"
           },
           "zaxis": {
            "backgroundcolor": "#E5ECF6",
            "gridcolor": "white",
            "gridwidth": 2,
            "linecolor": "white",
            "showbackground": true,
            "ticks": "",
            "zerolinecolor": "white"
           }
          },
          "shapedefaults": {
           "line": {
            "color": "#2a3f5f"
           }
          },
          "ternary": {
           "aaxis": {
            "gridcolor": "white",
            "linecolor": "white",
            "ticks": ""
           },
           "baxis": {
            "gridcolor": "white",
            "linecolor": "white",
            "ticks": ""
           },
           "bgcolor": "#E5ECF6",
           "caxis": {
            "gridcolor": "white",
            "linecolor": "white",
            "ticks": ""
           }
          },
          "title": {
           "x": 0.05
          },
          "xaxis": {
           "automargin": true,
           "gridcolor": "white",
           "linecolor": "white",
           "ticks": "",
           "title": {
            "standoff": 15
           },
           "zerolinecolor": "white",
           "zerolinewidth": 2
          },
          "yaxis": {
           "automargin": true,
           "gridcolor": "white",
           "linecolor": "white",
           "ticks": "",
           "title": {
            "standoff": 15
           },
           "zerolinecolor": "white",
           "zerolinewidth": 2
          }
         }
        },
        "title": {
         "text": "Document Distribution by Topics"
        },
        "xaxis": {
         "anchor": "y",
         "domain": [
          0,
          1
         ],
         "title": {
          "text": "Topic"
         }
        },
        "yaxis": {
         "anchor": "x",
         "domain": [
          0,
          1
         ],
         "title": {
          "text": "Documents"
         }
        }
       }
      },
      "text/html": [
       "<div>                            <div id=\"aaa50775-941e-4f42-9940-edde2b042f5f\" class=\"plotly-graph-div\" style=\"height:525px; width:100%;\"></div>            <script type=\"text/javascript\">                require([\"plotly\"], function(Plotly) {                    window.PLOTLYENV=window.PLOTLYENV || {};                                    if (document.getElementById(\"aaa50775-941e-4f42-9940-edde2b042f5f\")) {                    Plotly.newPlot(                        \"aaa50775-941e-4f42-9940-edde2b042f5f\",                        [{\"alignmentgroup\": \"True\", \"customdata\": [[\"rice, loan, farmer, also, use, small, land, area, many, sector\"], [\"loan, child, school, business, year, buy, able, stock, family, pay\"], [\"business, year, loan, sell, child, work, product, use, old, help\"], [\"loan, business, group, sell, child, woman, community, small, entrepreneur, member\"]], \"hovertemplate\": \"Topic=%{x}<br>Documents=%{y}<br>Keyword=%{customdata[0]}<extra></extra>\", \"legendgroup\": \"\", \"marker\": {\"color\": \"#636efa\"}, \"name\": \"\", \"offsetgroup\": \"\", \"orientation\": \"v\", \"showlegend\": false, \"textposition\": \"auto\", \"type\": \"bar\", \"x\": [\"Topic 0\", \"Topic 1\", \"Topic 2\", \"Topic 3\"], \"xaxis\": \"x\", \"y\": [27, 330, 404, 239], \"yaxis\": \"y\"}],                        {\"barmode\": \"relative\", \"legend\": {\"tracegroupgap\": 0}, \"template\": {\"data\": {\"bar\": [{\"error_x\": {\"color\": \"#2a3f5f\"}, \"error_y\": {\"color\": \"#2a3f5f\"}, \"marker\": {\"line\": {\"color\": \"#E5ECF6\", \"width\": 0.5}}, \"type\": \"bar\"}], \"barpolar\": [{\"marker\": {\"line\": {\"color\": \"#E5ECF6\", \"width\": 0.5}}, \"type\": \"barpolar\"}], \"carpet\": [{\"aaxis\": {\"endlinecolor\": \"#2a3f5f\", \"gridcolor\": \"white\", \"linecolor\": \"white\", \"minorgridcolor\": \"white\", \"startlinecolor\": \"#2a3f5f\"}, \"baxis\": {\"endlinecolor\": \"#2a3f5f\", \"gridcolor\": \"white\", \"linecolor\": \"white\", \"minorgridcolor\": \"white\", \"startlinecolor\": \"#2a3f5f\"}, \"type\": \"carpet\"}], \"choropleth\": [{\"colorbar\": {\"outlinewidth\": 0, \"ticks\": \"\"}, \"type\": \"choropleth\"}], \"contour\": [{\"colorbar\": {\"outlinewidth\": 0, \"ticks\": \"\"}, \"colorscale\": [[0.0, \"#0d0887\"], [0.1111111111111111, \"#46039f\"], [0.2222222222222222, \"#7201a8\"], [0.3333333333333333, \"#9c179e\"], [0.4444444444444444, \"#bd3786\"], [0.5555555555555556, \"#d8576b\"], [0.6666666666666666, \"#ed7953\"], [0.7777777777777778, \"#fb9f3a\"], [0.8888888888888888, \"#fdca26\"], [1.0, \"#f0f921\"]], \"type\": \"contour\"}], \"contourcarpet\": [{\"colorbar\": {\"outlinewidth\": 0, \"ticks\": \"\"}, \"type\": \"contourcarpet\"}], \"heatmap\": [{\"colorbar\": {\"outlinewidth\": 0, \"ticks\": \"\"}, \"colorscale\": [[0.0, \"#0d0887\"], [0.1111111111111111, \"#46039f\"], [0.2222222222222222, \"#7201a8\"], [0.3333333333333333, \"#9c179e\"], [0.4444444444444444, \"#bd3786\"], [0.5555555555555556, \"#d8576b\"], [0.6666666666666666, \"#ed7953\"], [0.7777777777777778, \"#fb9f3a\"], [0.8888888888888888, \"#fdca26\"], [1.0, \"#f0f921\"]], \"type\": \"heatmap\"}], \"heatmapgl\": [{\"colorbar\": {\"outlinewidth\": 0, \"ticks\": \"\"}, \"colorscale\": [[0.0, \"#0d0887\"], [0.1111111111111111, \"#46039f\"], [0.2222222222222222, \"#7201a8\"], [0.3333333333333333, \"#9c179e\"], [0.4444444444444444, \"#bd3786\"], [0.5555555555555556, \"#d8576b\"], [0.6666666666666666, \"#ed7953\"], [0.7777777777777778, \"#fb9f3a\"], [0.8888888888888888, \"#fdca26\"], [1.0, \"#f0f921\"]], \"type\": \"heatmapgl\"}], \"histogram\": [{\"marker\": {\"colorbar\": {\"outlinewidth\": 0, \"ticks\": \"\"}}, \"type\": \"histogram\"}], \"histogram2d\": [{\"colorbar\": {\"outlinewidth\": 0, \"ticks\": \"\"}, \"colorscale\": [[0.0, \"#0d0887\"], [0.1111111111111111, \"#46039f\"], [0.2222222222222222, \"#7201a8\"], [0.3333333333333333, \"#9c179e\"], [0.4444444444444444, \"#bd3786\"], [0.5555555555555556, \"#d8576b\"], [0.6666666666666666, \"#ed7953\"], [0.7777777777777778, \"#fb9f3a\"], [0.8888888888888888, \"#fdca26\"], [1.0, \"#f0f921\"]], \"type\": \"histogram2d\"}], \"histogram2dcontour\": [{\"colorbar\": {\"outlinewidth\": 0, \"ticks\": \"\"}, \"colorscale\": [[0.0, \"#0d0887\"], [0.1111111111111111, \"#46039f\"], [0.2222222222222222, \"#7201a8\"], [0.3333333333333333, \"#9c179e\"], [0.4444444444444444, \"#bd3786\"], [0.5555555555555556, \"#d8576b\"], [0.6666666666666666, \"#ed7953\"], [0.7777777777777778, \"#fb9f3a\"], [0.8888888888888888, \"#fdca26\"], [1.0, \"#f0f921\"]], \"type\": \"histogram2dcontour\"}], \"mesh3d\": [{\"colorbar\": {\"outlinewidth\": 0, \"ticks\": \"\"}, \"type\": \"mesh3d\"}], \"parcoords\": [{\"line\": {\"colorbar\": {\"outlinewidth\": 0, \"ticks\": \"\"}}, \"type\": \"parcoords\"}], \"pie\": [{\"automargin\": true, \"type\": \"pie\"}], \"scatter\": [{\"marker\": {\"colorbar\": {\"outlinewidth\": 0, \"ticks\": \"\"}}, \"type\": \"scatter\"}], \"scatter3d\": [{\"line\": {\"colorbar\": {\"outlinewidth\": 0, \"ticks\": \"\"}}, \"marker\": {\"colorbar\": {\"outlinewidth\": 0, \"ticks\": \"\"}}, \"type\": \"scatter3d\"}], \"scattercarpet\": [{\"marker\": {\"colorbar\": {\"outlinewidth\": 0, \"ticks\": \"\"}}, \"type\": \"scattercarpet\"}], \"scattergeo\": [{\"marker\": {\"colorbar\": {\"outlinewidth\": 0, \"ticks\": \"\"}}, \"type\": \"scattergeo\"}], \"scattergl\": [{\"marker\": {\"colorbar\": {\"outlinewidth\": 0, \"ticks\": \"\"}}, \"type\": \"scattergl\"}], \"scattermapbox\": [{\"marker\": {\"colorbar\": {\"outlinewidth\": 0, \"ticks\": \"\"}}, \"type\": \"scattermapbox\"}], \"scatterpolar\": [{\"marker\": {\"colorbar\": {\"outlinewidth\": 0, \"ticks\": \"\"}}, \"type\": \"scatterpolar\"}], \"scatterpolargl\": [{\"marker\": {\"colorbar\": {\"outlinewidth\": 0, \"ticks\": \"\"}}, \"type\": \"scatterpolargl\"}], \"scatterternary\": [{\"marker\": {\"colorbar\": {\"outlinewidth\": 0, \"ticks\": \"\"}}, \"type\": \"scatterternary\"}], \"surface\": [{\"colorbar\": {\"outlinewidth\": 0, \"ticks\": \"\"}, \"colorscale\": [[0.0, \"#0d0887\"], [0.1111111111111111, \"#46039f\"], [0.2222222222222222, \"#7201a8\"], [0.3333333333333333, \"#9c179e\"], [0.4444444444444444, \"#bd3786\"], [0.5555555555555556, \"#d8576b\"], [0.6666666666666666, \"#ed7953\"], [0.7777777777777778, \"#fb9f3a\"], [0.8888888888888888, \"#fdca26\"], [1.0, \"#f0f921\"]], \"type\": \"surface\"}], \"table\": [{\"cells\": {\"fill\": {\"color\": \"#EBF0F8\"}, \"line\": {\"color\": \"white\"}}, \"header\": {\"fill\": {\"color\": \"#C8D4E3\"}, \"line\": {\"color\": \"white\"}}, \"type\": \"table\"}]}, \"layout\": {\"annotationdefaults\": {\"arrowcolor\": \"#2a3f5f\", \"arrowhead\": 0, \"arrowwidth\": 1}, \"coloraxis\": {\"colorbar\": {\"outlinewidth\": 0, \"ticks\": \"\"}}, \"colorscale\": {\"diverging\": [[0, \"#8e0152\"], [0.1, \"#c51b7d\"], [0.2, \"#de77ae\"], [0.3, \"#f1b6da\"], [0.4, \"#fde0ef\"], [0.5, \"#f7f7f7\"], [0.6, \"#e6f5d0\"], [0.7, \"#b8e186\"], [0.8, \"#7fbc41\"], [0.9, \"#4d9221\"], [1, \"#276419\"]], \"sequential\": [[0.0, \"#0d0887\"], [0.1111111111111111, \"#46039f\"], [0.2222222222222222, \"#7201a8\"], [0.3333333333333333, \"#9c179e\"], [0.4444444444444444, \"#bd3786\"], [0.5555555555555556, \"#d8576b\"], [0.6666666666666666, \"#ed7953\"], [0.7777777777777778, \"#fb9f3a\"], [0.8888888888888888, \"#fdca26\"], [1.0, \"#f0f921\"]], \"sequentialminus\": [[0.0, \"#0d0887\"], [0.1111111111111111, \"#46039f\"], [0.2222222222222222, \"#7201a8\"], [0.3333333333333333, \"#9c179e\"], [0.4444444444444444, \"#bd3786\"], [0.5555555555555556, \"#d8576b\"], [0.6666666666666666, \"#ed7953\"], [0.7777777777777778, \"#fb9f3a\"], [0.8888888888888888, \"#fdca26\"], [1.0, \"#f0f921\"]]}, \"colorway\": [\"#636efa\", \"#EF553B\", \"#00cc96\", \"#ab63fa\", \"#FFA15A\", \"#19d3f3\", \"#FF6692\", \"#B6E880\", \"#FF97FF\", \"#FECB52\"], \"font\": {\"color\": \"#2a3f5f\"}, \"geo\": {\"bgcolor\": \"white\", \"lakecolor\": \"white\", \"landcolor\": \"#E5ECF6\", \"showlakes\": true, \"showland\": true, \"subunitcolor\": \"white\"}, \"hoverlabel\": {\"align\": \"left\"}, \"hovermode\": \"closest\", \"mapbox\": {\"style\": \"light\"}, \"paper_bgcolor\": \"white\", \"plot_bgcolor\": \"#E5ECF6\", \"polar\": {\"angularaxis\": {\"gridcolor\": \"white\", \"linecolor\": \"white\", \"ticks\": \"\"}, \"bgcolor\": \"#E5ECF6\", \"radialaxis\": {\"gridcolor\": \"white\", \"linecolor\": \"white\", \"ticks\": \"\"}}, \"scene\": {\"xaxis\": {\"backgroundcolor\": \"#E5ECF6\", \"gridcolor\": \"white\", \"gridwidth\": 2, \"linecolor\": \"white\", \"showbackground\": true, \"ticks\": \"\", \"zerolinecolor\": \"white\"}, \"yaxis\": {\"backgroundcolor\": \"#E5ECF6\", \"gridcolor\": \"white\", \"gridwidth\": 2, \"linecolor\": \"white\", \"showbackground\": true, \"ticks\": \"\", \"zerolinecolor\": \"white\"}, \"zaxis\": {\"backgroundcolor\": \"#E5ECF6\", \"gridcolor\": \"white\", \"gridwidth\": 2, \"linecolor\": \"white\", \"showbackground\": true, \"ticks\": \"\", \"zerolinecolor\": \"white\"}}, \"shapedefaults\": {\"line\": {\"color\": \"#2a3f5f\"}}, \"ternary\": {\"aaxis\": {\"gridcolor\": \"white\", \"linecolor\": \"white\", \"ticks\": \"\"}, \"baxis\": {\"gridcolor\": \"white\", \"linecolor\": \"white\", \"ticks\": \"\"}, \"bgcolor\": \"#E5ECF6\", \"caxis\": {\"gridcolor\": \"white\", \"linecolor\": \"white\", \"ticks\": \"\"}}, \"title\": {\"x\": 0.05}, \"xaxis\": {\"automargin\": true, \"gridcolor\": \"white\", \"linecolor\": \"white\", \"ticks\": \"\", \"title\": {\"standoff\": 15}, \"zerolinecolor\": \"white\", \"zerolinewidth\": 2}, \"yaxis\": {\"automargin\": true, \"gridcolor\": \"white\", \"linecolor\": \"white\", \"ticks\": \"\", \"title\": {\"standoff\": 15}, \"zerolinecolor\": \"white\", \"zerolinewidth\": 2}}}, \"title\": {\"text\": \"Document Distribution by Topics\"}, \"xaxis\": {\"anchor\": \"y\", \"domain\": [0.0, 1.0], \"title\": {\"text\": \"Topic\"}}, \"yaxis\": {\"anchor\": \"x\", \"domain\": [0.0, 1.0], \"title\": {\"text\": \"Documents\"}}},                        {\"responsive\": true}                    ).then(function(){\n",
       "                            \n",
       "var gd = document.getElementById('aaa50775-941e-4f42-9940-edde2b042f5f');\n",
       "var x = new MutationObserver(function (mutations, observer) {{\n",
       "        var display = window.getComputedStyle(gd).display;\n",
       "        if (!display || display === 'none') {{\n",
       "            console.log([gd, 'removed!']);\n",
       "            Plotly.purge(gd);\n",
       "            observer.disconnect();\n",
       "        }}\n",
       "}});\n",
       "\n",
       "// Listen for the removal of the full notebook cells\n",
       "var notebookContainer = gd.closest('#notebook-container');\n",
       "if (notebookContainer) {{\n",
       "    x.observe(notebookContainer, {childList: true});\n",
       "}}\n",
       "\n",
       "// Listen for the clearing of the current output cell\n",
       "var outputEl = gd.closest('.output');\n",
       "if (outputEl) {{\n",
       "    x.observe(outputEl, {childList: true});\n",
       "}}\n",
       "\n",
       "                        })                };                });            </script>        </div>"
      ]
     },
     "metadata": {},
     "output_type": "display_data"
    }
   ],
   "source": [
    "plot_model(lda, plot = 'topic_distribution')"
   ]
  },
  {
   "cell_type": "markdown",
   "metadata": {},
   "source": [
    "Each document is a distribution of topics and not a single topic. Although, if the task is of categorizing document into specific topics, it wouldn't be wrong to use the topic proportion with highest value to categorize the document into a topic. In above plot, each document is categorized into one topic using the largest proportion of topic weights. We can see most of the documents are in Topic 3 with only few in Topic 1. If you hover over these bars, you will get basic idea of themes in this topic by looking at the keywords. For example if you evaluate Topic 2, you will see keywords words like 'farmer', 'rice', 'land', which probably means that the loan applicants in this category pertains to agricultural/farming loans. However, if you hover over Topic 0 and Topic 3 you will observe lot of repitions and keywords are overlapping in all topics such as word \"loan\" and \"business\" appears both in Topic 0 and Topic 3."
   ]
  },
  {
   "cell_type": "markdown",
   "metadata": {},
   "source": [
    "## T-distributed Stochastic Neighbor Embedding (t-SNE)"
   ]
  },
  {
   "cell_type": "code",
   "execution_count": 22,
   "metadata": {},
   "outputs": [
    {
     "data": {
      "text/html": [
       "        <script type=\"text/javascript\">\n",
       "        window.PlotlyConfig = {MathJaxConfig: 'local'};\n",
       "        if (window.MathJax) {MathJax.Hub.Config({SVG: {font: \"STIX-Web\"}});}\n",
       "        if (typeof require !== 'undefined') {\n",
       "        require.undef(\"plotly\");\n",
       "        requirejs.config({\n",
       "            paths: {\n",
       "                'plotly': ['https://cdn.plot.ly/plotly-latest.min']\n",
       "            }\n",
       "        });\n",
       "        require(['plotly'], function(Plotly) {\n",
       "            window._Plotly = Plotly;\n",
       "        });\n",
       "        }\n",
       "        </script>\n",
       "        "
      ]
     },
     "metadata": {},
     "output_type": "display_data"
    },
    {
     "data": {
      "application/vnd.plotly.v1+json": {
       "config": {
        "plotlyServerURL": "https://plot.ly"
       },
       "data": [
        {
         "hovertemplate": "Dominant_Topic=Topic 0<br>0=%{x}<br>1=%{y}<br>2=%{z}<extra></extra>",
         "legendgroup": "Topic 0",
         "marker": {
          "color": "#636efa",
          "opacity": 0.7,
          "symbol": "circle"
         },
         "mode": "markers",
         "name": "Topic 0",
         "scene": "scene",
         "showlegend": true,
         "type": "scatter3d",
         "x": [
          12.461377143859863,
          13.197938919067383,
          12.971099853515625,
          12.646306991577148,
          12.33555793762207,
          13.097892761230469,
          12.774681091308594,
          13.172595024108887,
          12.614279747009277,
          12.09565544128418,
          13.068900108337402,
          12.577010154724121,
          12.535724639892578,
          13.119537353515625,
          13.000690460205078,
          13.121411323547363,
          12.763254165649414,
          13.254207611083984,
          12.704296112060547,
          13.341286659240723,
          12.618955612182617,
          12.322333335876465,
          13.092679977416992,
          13.124971389770508,
          12.605045318603516,
          12.461071968078613,
          12.766385078430176
         ],
         "y": [
          -8.679792404174805,
          -9.2130765914917,
          -8.819847106933594,
          -9.052971839904785,
          -8.879376411437988,
          -8.633528709411621,
          -9.386626243591309,
          -8.885656356811523,
          -8.645472526550293,
          -9.104392051696777,
          -9.439888000488281,
          -9.001587867736816,
          -9.326566696166992,
          -8.686102867126465,
          -9.128254890441895,
          -9.41100788116455,
          -8.745748519897461,
          -8.745576858520508,
          -9.465909004211426,
          -9.01906681060791,
          -8.554829597473145,
          -9.192741394042969,
          -9.124302864074707,
          -9.223207473754883,
          -8.984557151794434,
          -9.355522155761719,
          -8.537809371948242
         ],
         "z": [
          0.015036768279969692,
          -0.3969058692455292,
          0.30959340929985046,
          -0.6499882340431213,
          -0.35171735286712646,
          -0.30018866062164307,
          0.16649511456489563,
          -0.457234263420105,
          -0.5276069045066833,
          -0.3876572549343109,
          -0.20358003675937653,
          0.27553918957710266,
          -0.4214171767234802,
          0.13260433077812195,
          -0.5813220739364624,
          -0.06348710507154465,
          -0.5892221927642822,
          -0.035910289734601974,
          -0.27952736616134644,
          -0.1361422836780548,
          -0.2295798361301422,
          -0.04543338716030121,
          0.2827959358692169,
          0.21821193397045135,
          0.2908625900745392,
          -0.03992670774459839,
          0.03335133194923401
         ]
        },
        {
         "hovertemplate": "Dominant_Topic=Topic 1<br>0=%{x}<br>1=%{y}<br>2=%{z}<extra></extra>",
         "legendgroup": "Topic 1",
         "marker": {
          "color": "#EF553B",
          "opacity": 0.7,
          "symbol": "circle"
         },
         "mode": "markers",
         "name": "Topic 1",
         "scene": "scene",
         "showlegend": true,
         "type": "scatter3d",
         "x": [
          -11.336559295654297,
          -12.25554370880127,
          -9.125557899475098,
          -10.735450744628906,
          -8.388506889343262,
          -4.4045491218566895,
          -9.788105010986328,
          -10.2904634475708,
          -8.77265739440918,
          -8.610380172729492,
          -9.777464866638184,
          -8.283358573913574,
          -11.265985488891602,
          -3.6913225650787354,
          -10.61862850189209,
          -7.187302589416504,
          -12.653956413269043,
          -9.628410339355469,
          -5.198911190032959,
          -6.876312255859375,
          -7.637598514556885,
          -9.995257377624512,
          -4.648967266082764,
          -6.824005126953125,
          -3.792884588241577,
          -3.5402631759643555,
          -3.5675175189971924,
          -12.923535346984863,
          -3.959918260574341,
          -5.874968528747559,
          -10.128396034240723,
          -7.188383102416992,
          -8.22705078125,
          -8.371088981628418,
          -11.809173583984375,
          -1.8949304819107056,
          -9.112493515014648,
          -5.1493754386901855,
          -4.407698154449463,
          -3.1623690128326416,
          -10.55914306640625,
          -6.053211212158203,
          -10.573103904724121,
          -9.161782264709473,
          -4.121219635009766,
          -4.780694007873535,
          -10.446892738342285,
          -5.447578430175781,
          -12.084698677062988,
          -6.667973041534424,
          -9.718151092529297,
          -5.619321823120117,
          -9.829031944274902,
          -4.938360214233398,
          -10.046738624572754,
          -13.050482749938965,
          -11.257457733154297,
          -10.412423133850098,
          -6.767697334289551,
          -4.538821697235107,
          -2.9092533588409424,
          -6.324926853179932,
          -7.108537673950195,
          -5.6045145988464355,
          -4.201778888702393,
          -6.569887161254883,
          -12.989487648010254,
          -4.175476551055908,
          -6.042645454406738,
          -8.647832870483398,
          -4.848913192749023,
          -8.71122932434082,
          -7.229645252227783,
          -13.52921199798584,
          -5.277090549468994,
          -5.514963150024414,
          -4.2019219398498535,
          -10.503326416015625,
          -8.558571815490723,
          -13.144699096679688,
          -10.036275863647461,
          -9.761270523071289,
          -6.506487846374512,
          -11.847884178161621,
          -4.0754780769348145,
          -3.75754976272583,
          -11.003299713134766,
          -11.905942916870117,
          -6.9500813484191895,
          -9.148534774780273,
          -13.419203758239746,
          -8.962738037109375,
          -9.083410263061523,
          -6.003204822540283,
          -13.67574691772461,
          -8.296945571899414,
          -9.627405166625977,
          -5.71004581451416,
          -9.707140922546387,
          -8.476823806762695,
          -4.151865005493164,
          -11.32497501373291,
          -6.3921685218811035,
          -12.247621536254883,
          -12.148879051208496,
          -12.882408142089844,
          -6.125295162200928,
          -11.302681922912598,
          -13.504343032836914,
          -13.080119132995605,
          -9.036286354064941,
          -7.290408611297607,
          -8.23231315612793,
          -5.644914627075195,
          -12.34798812866211,
          -9.168587684631348,
          -9.780112266540527,
          -3.3091330528259277,
          -13.74866771697998,
          -7.782129764556885,
          -11.540862083435059,
          -4.108703136444092,
          -7.679609775543213,
          -6.114731788635254,
          -8.649374961853027,
          -5.023038864135742,
          -12.497098922729492,
          -7.261301040649414,
          -8.684706687927246,
          -11.08996868133545,
          -2.3252174854278564,
          -9.722225189208984,
          -2.994300365447998,
          -3.619943380355835,
          -13.37144947052002,
          -8.327269554138184,
          -3.436771869659424,
          -11.47469425201416,
          -7.416926383972168,
          -8.033485412597656,
          -7.592490196228027,
          -13.845751762390137,
          -11.472299575805664,
          -12.659666061401367,
          -11.219839096069336,
          -3.5811374187469482,
          -5.167865753173828,
          -8.154648780822754,
          -11.909125328063965,
          -5.437245845794678,
          -7.838234901428223,
          -4.981017589569092,
          -13.208398818969727,
          -7.870716571807861,
          -6.187483787536621,
          -8.139582633972168,
          -5.87204122543335,
          -7.871906757354736,
          -10.254515647888184,
          -10.862316131591797,
          -6.205854415893555,
          -10.217485427856445,
          -3.0594143867492676,
          -4.398231029510498,
          -10.98891544342041,
          -12.1751127243042,
          -11.731374740600586,
          -6.367880344390869,
          -3.895310163497925,
          -7.988759517669678,
          -6.966767311096191,
          -8.663897514343262,
          -11.875946044921875,
          -6.609341144561768,
          -6.127038955688477,
          -11.728856086730957,
          -10.875864028930664,
          -4.188053607940674,
          -6.880253314971924,
          -7.7789459228515625,
          -6.76350212097168,
          -13.104644775390625,
          -3.5770328044891357,
          -8.330276489257812,
          -8.438015937805176,
          -4.362660884857178,
          -4.487905502319336,
          -10.783849716186523,
          -2.7350656986236572,
          -2.744147539138794,
          -3.9306464195251465,
          -5.017233848571777,
          -10.464729309082031,
          -6.2264299392700195,
          -9.075464248657227,
          -5.606533527374268,
          -7.6718974113464355,
          -6.870811939239502,
          -8.155811309814453,
          -9.183842658996582,
          -10.519773483276367,
          -7.549826622009277,
          -12.067142486572266,
          -13.784384727478027,
          -6.388150691986084,
          -5.571376323699951,
          -3.468829870223999,
          -2.9296393394470215,
          -4.986200332641602,
          -12.144890785217285,
          -9.821669578552246,
          -7.8854522705078125,
          -9.34398365020752,
          -10.477280616760254,
          -7.750625133514404,
          -5.434975624084473,
          -3.3722002506256104,
          -11.293803215026855,
          -12.148157119750977,
          -13.825818061828613,
          -8.726991653442383,
          -3.5224289894104004,
          -2.6871092319488525,
          -9.038162231445312,
          -9.944501876831055,
          -12.692275047302246,
          -9.720742225646973,
          -2.384945869445801,
          -3.2336041927337646,
          -5.425365447998047,
          -6.868229866027832,
          -13.18588924407959,
          -13.139081001281738,
          -11.502995491027832,
          -3.1581408977508545,
          -10.64571475982666,
          -4.386431694030762,
          -13.561190605163574,
          -8.790802001953125,
          -13.194839477539062,
          -4.159761428833008,
          -6.212569236755371,
          -8.136775016784668,
          -9.16721248626709,
          -8.264930725097656,
          -7.150796890258789,
          -6.750133514404297,
          -3.2338805198669434,
          -2.9313995838165283,
          -5.760649681091309,
          -10.677730560302734,
          -10.792319297790527,
          -11.659745216369629,
          -4.385897159576416,
          -9.473621368408203,
          -4.235479831695557,
          -9.358407020568848,
          -4.824115753173828,
          -5.746121406555176,
          -10.311711311340332,
          -6.213992595672607,
          -8.275213241577148,
          -8.496006965637207,
          -11.415154457092285,
          -12.94471549987793,
          -12.30694580078125,
          -7.631777286529541,
          -8.083707809448242,
          -8.504775047302246,
          -9.488154411315918,
          -5.622474193572998,
          -4.244411468505859,
          -4.318394184112549,
          -3.8979272842407227,
          -8.610767364501953,
          -8.349249839782715,
          -9.155462265014648,
          -4.50836706161499,
          -13.677080154418945,
          -9.240718841552734,
          -2.6700944900512695,
          -11.855350494384766,
          -6.572741508483887,
          -7.14732027053833,
          -7.978322982788086,
          -13.221567153930664,
          -7.0956549644470215,
          -12.887866020202637,
          -11.801351547241211,
          -3.1629106998443604,
          -11.409015655517578,
          -13.628578186035156,
          -12.595067977905273,
          -4.09787654876709,
          -2.367030620574951,
          -11.17148494720459,
          -9.704928398132324,
          -10.31519889831543,
          -12.173714637756348,
          -4.639205455780029,
          -8.8941011428833,
          -6.267449855804443,
          -4.696484088897705,
          -6.6829094886779785,
          -12.35267162322998,
          -6.413661956787109,
          -11.434638977050781,
          -13.742715835571289,
          -5.09457540512085,
          -4.987793445587158,
          -13.450262069702148,
          -7.248115539550781,
          -4.85573673248291,
          -4.097535610198975,
          -7.155849933624268,
          -8.440701484680176,
          -9.964852333068848,
          -9.097283363342285,
          -11.646053314208984,
          -11.777250289916992,
          -13.187491416931152,
          -2.8616082668304443,
          -7.299717903137207,
          -12.1146240234375,
          -9.682806968688965,
          -7.422421455383301,
          -7.161452293395996,
          -8.940021514892578,
          -12.474804878234863,
          -5.239333629608154
         ],
         "y": [
          7.516102313995361,
          6.715305328369141,
          7.30769157409668,
          7.526478290557861,
          2.155935049057007,
          -0.5877360701560974,
          7.451560974121094,
          7.49672269821167,
          2.383204698562622,
          2.2025318145751953,
          7.383915901184082,
          2.3751020431518555,
          6.33336877822876,
          -0.655851423740387,
          7.132999897003174,
          6.609385013580322,
          6.789398670196533,
          7.423348903656006,
          5.820968151092529,
          2.1216020584106445,
          6.851497650146484,
          4.2125067710876465,
          -0.37420669198036194,
          1.8070952892303467,
          -0.8114593029022217,
          1.7738016843795776,
          -1.1029701232910156,
          8.138051986694336,
          5.052091121673584,
          5.87355899810791,
          4.308106422424316,
          2.0799758434295654,
          3.941248893737793,
          4.12443733215332,
          7.514066696166992,
          3.849172353744507,
          7.299532890319824,
          -0.22018224000930786,
          1.881530523300171,
          2.138085126876831,
          7.511445999145508,
          3.067861795425415,
          7.496029853820801,
          7.346664905548096,
          -0.4507499933242798,
          -0.33296826481819153,
          7.499080657958984,
          0.6324656009674072,
          7.688839912414551,
          6.4426116943359375,
          3.388805866241455,
          6.021251201629639,
          7.4613518714904785,
          5.402925968170166,
          7.495479106903076,
          8.247415542602539,
          5.356658935546875,
          5.087775230407715,
          6.495204448699951,
          1.954795479774475,
          -1.171355128288269,
          0.9190115928649902,
          0.9119568467140198,
          0.030856017023324966,
          1.3176623582839966,
          3.8280768394470215,
          8.207282066345215,
          5.186376571655273,
          6.210284233093262,
          7.245862007141113,
          5.261811256408691,
          7.23825740814209,
          6.584283828735352,
          8.670633316040039,
          -0.16515983641147614,
          0.1043328270316124,
          2.4750287532806396,
          7.543840408325195,
          4.531163215637207,
          8.260523796081543,
          4.250671863555908,
          3.6225481033325195,
          6.197072982788086,
          6.353316307067871,
          1.9959427118301392,
          -0.7109530568122864,
          5.859277725219727,
          6.2193756103515625,
          1.539228081703186,
          4.545568943023682,
          8.113629341125488,
          3.362222671508789,
          2.757134199142456,
          4.158627510070801,
          8.800105094909668,
          3.1691014766693115,
          3.2830519676208496,
          0.7856191992759705,
          4.732568740844727,
          2.929882526397705,
          2.224914073944092,
          6.6808977127075195,
          1.24540376663208,
          7.561718940734863,
          7.7048749923706055,
          8.128924369812012,
          0.31977659463882446,
          7.396103858947754,
          8.194684982299805,
          8.287456512451172,
          2.6440532207489014,
          2.4166786670684814,
          1.8567357063293457,
          0.4320422112941742,
          6.852360725402832,
          7.342107772827148,
          3.516993999481201,
          4.47305154800415,
          8.64686107635498,
          1.4455076456069946,
          5.675398349761963,
          -0.674911618232727,
          1.3573426008224487,
          6.219859600067139,
          3.265045166015625,
          5.724769115447998,
          7.8305511474609375,
          1.0317596197128296,
          3.5150532722473145,
          5.081156253814697,
          1.303897738456726,
          7.420229434967041,
          -0.9022328853607178,
          2.181765079498291,
          8.327324867248535,
          1.9256629943847656,
          4.7739458084106445,
          5.73803186416626,
          1.152778148651123,
          1.6597844362258911,
          1.2859212160110474,
          8.43237590789795,
          5.628104209899902,
          7.963371753692627,
          6.776645183563232,
          2.3412299156188965,
          0.2666472792625427,
          4.159457683563232,
          6.245034694671631,
          5.944170951843262,
          0.5342810153961182,
          -0.14037330448627472,
          8.575901985168457,
          4.29448938369751,
          3.8334388732910156,
          5.711752414703369,
          1.1466671228408813,
          6.949610710144043,
          7.445914268493652,
          5.509836196899414,
          3.619014024734497,
          4.557285785675049,
          4.5560736656188965,
          1.5344221591949463,
          7.409789562225342,
          7.707420825958252,
          7.610439777374268,
          1.273807168006897,
          -0.9183425903320312,
          1.988867163658142,
          6.532620906829834,
          4.6048903465271,
          6.294227600097656,
          6.353704452514648,
          3.7797861099243164,
          7.567840576171875,
          4.803996562957764,
          5.227015972137451,
          1.8072395324707031,
          1.80756676197052,
          0.7007814645767212,
          8.467950820922852,
          -0.46919071674346924,
          2.113865375518799,
          2.033304452896118,
          4.520437240600586,
          5.419196128845215,
          5.292437553405762,
          -1.1598752737045288,
          -1.4512256383895874,
          1.7977813482284546,
          0.219642773270607,
          4.27970552444458,
          4.025435924530029,
          3.4268946647644043,
          4.550146102905273,
          6.885185718536377,
          1.7470372915267944,
          1.7552521228790283,
          2.8325459957122803,
          4.350314140319824,
          2.744155168533325,
          6.898319721221924,
          8.420098304748535,
          4.054431915283203,
          0.2776471972465515,
          4.818103313446045,
          -1.3630324602127075,
          3.691906213760376,
          7.720842361450195,
          3.495147705078125,
          6.982874870300293,
          3.9154624938964844,
          4.305247783660889,
          1.6732524633407593,
          5.951529502868652,
          4.580182075500488,
          7.506479263305664,
          7.646657943725586,
          8.287946701049805,
          4.5123162269592285,
          1.721268653869629,
          -1.6218408346176147,
          5.22773551940918,
          3.987616539001465,
          7.315621376037598,
          3.3975565433502197,
          2.254796028137207,
          -1.0734575986862183,
          -0.0791933685541153,
          0.7616384625434875,
          8.200542449951172,
          8.378594398498535,
          7.504774570465088,
          4.615128993988037,
          4.504512310028076,
          2.627329111099243,
          8.057441711425781,
          2.403341054916382,
          8.331608772277832,
          2.4791324138641357,
          1.370568037033081,
          1.7391949892044067,
          3.5265989303588867,
          2.2340588569641113,
          6.31089448928833,
          6.103274345397949,
          4.144951343536377,
          -1.2109971046447754,
          2.3572335243225098,
          7.539788722991943,
          6.501368522644043,
          7.455291271209717,
          4.126613140106201,
          3.137502431869507,
          -0.5555654168128967,
          7.362724781036377,
          -0.4161991775035858,
          6.080585479736328,
          4.8195695877075195,
          0.9844797849655151,
          7.118856430053711,
          2.262845516204834,
          5.522319793701172,
          8.168292999267578,
          7.764554023742676,
          2.0413002967834473,
          3.1525022983551025,
          2.7953407764434814,
          5.374357223510742,
          0.040015168488025665,
          -0.6264908909797668,
          2.0584888458251953,
          1.56685209274292,
          7.230833530426025,
          7.01994514465332,
          3.505772113800049,
          -0.477099746465683,
          8.322439193725586,
          3.707655906677246,
          1.7113107442855835,
          7.548152446746826,
          5.1353559494018555,
          5.069277763366699,
          2.1436355113983154,
          8.72138500213623,
          6.493999481201172,
          8.120314598083496,
          7.522168159484863,
          4.600237846374512,
          5.50860595703125,
          8.069483757019043,
          6.877712249755859,
          -0.6186578273773193,
          0.8293603658676147,
          5.942871570587158,
          3.372321605682373,
          7.5244059562683105,
          7.713158130645752,
          5.4806647300720215,
          4.7041449546813965,
          3.703139305114746,
          -0.19223769009113312,
          1.5552846193313599,
          6.86390495300293,
          2.50512957572937,
          5.550355434417725,
          8.710389137268066,
          -0.2648319602012634,
          4.311602592468262,
          8.838827133178711,
          1.0027375221252441,
          5.5138349533081055,
          2.662421226501465,
          6.468656539916992,
          3.794443368911743,
          7.475183486938477,
          4.79593563079834,
          5.85401725769043,
          7.587372779846191,
          8.517934799194336,
          2.5556652545928955,
          1.076862096786499,
          7.715555191040039,
          3.365079402923584,
          2.5342142581939697,
          1.3765559196472168,
          4.431429862976074,
          7.817644119262695,
          0.03799838572740555
         ],
         "z": [
          2.81195330619812,
          8.79940128326416,
          -0.4886954426765442,
          1.6080584526062012,
          4.65142822265625,
          4.778056621551514,
          0.1715836226940155,
          0.848189651966095,
          6.2862772941589355,
          6.774051189422607,
          0.18259090185165405,
          3.399169921875,
          4.187288761138916,
          2.2593533992767334,
          1.7562049627304077,
          -2.1235809326171875,
          3.5575530529022217,
          -0.006434957031160593,
          -3.311405658721924,
          1.3948694467544556,
          -1.774629831314087,
          4.692183494567871,
          4.273119926452637,
          1.8065842390060425,
          3.3695857524871826,
          -2.0423781871795654,
          5.197726726531982,
          7.567569255828857,
          -3.7870442867279053,
          -2.8064873218536377,
          5.0589447021484375,
          1.8645896911621094,
          0.8390544652938843,
          0.8237271904945374,
          3.912095308303833,
          -4.552243709564209,
          -0.4989076554775238,
          5.344703674316406,
          -1.0801583528518677,
          -2.7327425479888916,
          1.2943919897079468,
          -0.5614112019538879,
          1.3326642513275146,
          -0.4664994776248932,
          2.7307350635528564,
          4.5461344718933105,
          1.1058261394500732,
          2.22892427444458,
          4.5347514152526855,
          -2.497459888458252,
          6.918211460113525,
          -3.102982997894287,
          0.21777400374412537,
          -3.253304958343506,
          0.48855674266815186,
          7.8659348487854,
          7.852368354797363,
          4.031513214111328,
          -2.43934965133667,
          -1.0150575637817383,
          1.5668444633483887,
          3.1504900455474854,
          6.306440353393555,
          5.562619686126709,
          -0.5789374113082886,
          -0.7824003100395203,
          7.668760299682617,
          -3.7072393894195557,
          -2.8753230571746826,
          -0.9240666627883911,
          -3.231557607650757,
          -0.8603190779685974,
          -2.0772194862365723,
          9.843708038330078,
          5.513044834136963,
          4.683492660522461,
          -1.8923263549804688,
          1.1664797067642212,
          0.6484434008598328,
          9.527050018310547,
          4.767544746398926,
          5.923244953155518,
          -2.5023350715637207,
          7.6638264656066895,
          -1.592418909072876,
          2.6563026905059814,
          4.315253734588623,
          8.519403457641602,
          2.56486177444458,
          1.5719181299209595,
          9.11458969116211,
          2.8717081546783447,
          6.012317180633545,
          -1.5613104104995728,
          9.374177932739258,
          1.8992775678634644,
          6.895107746124268,
          2.2998292446136475,
          2.5758800506591797,
          2.6183485984802246,
          -1.7250920534133911,
          3.7742044925689697,
          2.2957043647766113,
          5.656643390655518,
          4.750618934631348,
          7.361300945281982,
          5.906007289886475,
          2.856247663497925,
          9.780765533447266,
          7.8890604972839355,
          6.712310791015625,
          1.4856773614883423,
          5.759448051452637,
          3.4044623374938965,
          8.85053539276123,
          -0.4581238329410553,
          6.593440532684326,
          -3.931636333465576,
          9.234375,
          6.6327433586120605,
          8.351119041442871,
          3.994652509689331,
          6.567803382873535,
          -2.823078155517578,
          2.3785252571105957,
          -3.3900506496429443,
          6.199934005737305,
          6.451381683349609,
          2.073753833770752,
          7.945720195770264,
          -3.2423415184020996,
          0.10270697623491287,
          1.1727136373519897,
          -2.277897596359253,
          9.827352523803711,
          6.623547554016113,
          -4.008306980133057,
          7.683019638061523,
          6.522827625274658,
          5.833783149719238,
          6.546682834625244,
          9.270735740661621,
          8.11602783203125,
          6.6636810302734375,
          3.3969805240631104,
          -2.4334030151367188,
          2.692296028137207,
          0.532136857509613,
          8.450069427490234,
          -3.199336290359497,
          6.371453762054443,
          4.125783920288086,
          9.144777297973633,
          0.11985717713832855,
          -1.157633662223816,
          -2.2426438331604004,
          1.750394582748413,
          -1.5760692358016968,
          0.8208197951316833,
          4.63538932800293,
          -0.9545337557792664,
          4.619746685028076,
          -4.152434825897217,
          -0.6469889879226685,
          2.2144205570220947,
          4.857475757598877,
          3.625814437866211,
          2.188710927963257,
          5.190760612487793,
          3.6706976890563965,
          -2.291274070739746,
          0.7109204530715942,
          8.059117317199707,
          -2.5041298866271973,
          -1.168757438659668,
          3.6552751064300537,
          7.769116401672363,
          -3.722865104675293,
          1.884397029876709,
          3.6449339389801025,
          6.269425392150879,
          9.24727725982666,
          1.550207257270813,
          4.551112174987793,
          6.677730083465576,
          -3.1398141384124756,
          -3.6126348972320557,
          4.936853408813477,
          0.9929933547973633,
          1.791373610496521,
          -1.5667611360549927,
          2.583925485610962,
          7.458481788635254,
          -1.2718113660812378,
          3.0348033905029297,
          -2.156905174255371,
          -1.749788761138916,
          1.9792014360427856,
          6.34683895111084,
          6.391349792480469,
          7.49400520324707,
          1.377408742904663,
          6.986508846282959,
          9.78633975982666,
          -1.229514479637146,
          3.9035844802856445,
          -4.010337829589844,
          2.3362550735473633,
          -2.0860350131988525,
          4.71087121963501,
          7.051456928253174,
          -1.5717628002166748,
          2.871183395385742,
          7.415177345275879,
          3.912992238998413,
          -3.2057535648345947,
          -3.945276975631714,
          2.7325007915496826,
          4.848813533782959,
          9.655580520629883,
          0.8885883688926697,
          -2.0195460319519043,
          2.4441239833831787,
          -2.1099863052368164,
          5.345909595489502,
          9.099058151245117,
          6.8792924880981445,
          -3.5510642528533936,
          2.30340313911438,
          5.553718566894531,
          6.278980731964111,
          8.822819709777832,
          9.16483211517334,
          3.173804521560669,
          -4.116605758666992,
          7.608004093170166,
          -1.8302215337753296,
          9.31463623046875,
          6.274601459503174,
          8.369766235351562,
          -1.9400782585144043,
          1.7755094766616821,
          6.417257785797119,
          3.088545322418213,
          3.767789125442505,
          -2.0349271297454834,
          -2.247241258621216,
          -3.808189868927002,
          1.7516423463821411,
          -0.1015184298157692,
          1.4853307008743286,
          2.8403983116149902,
          3.588372230529785,
          -2.8686084747314453,
          6.301152229309082,
          3.731017589569092,
          -0.2769135534763336,
          5.375966548919678,
          -3.0373151302337646,
          4.280742168426514,
          2.692779779434204,
          -1.2385125160217285,
          4.688183307647705,
          8.174359321594238,
          7.579813003540039,
          5.36991548538208,
          2.720642328262329,
          1.588255524635315,
          2.951875686645508,
          -1.7067084312438965,
          5.583003044128418,
          4.2954277992248535,
          -1.3747724294662476,
          -1.3462977409362793,
          -0.954345166683197,
          -1.1166507005691528,
          3.0984387397766113,
          4.384124755859375,
          9.08284854888916,
          2.9454896450042725,
          -3.04119610786438,
          3.998867988586426,
          -1.7435524463653564,
          -1.1465651988983154,
          3.2130377292633057,
          9.551128387451172,
          -2.1674907207489014,
          7.420989990234375,
          3.8844313621520996,
          -4.104986190795898,
          8.190991401672363,
          9.388426780700684,
          3.7132363319396973,
          3.532550573348999,
          -2.9708778858184814,
          4.766791820526123,
          6.9203619956970215,
          0.8683342337608337,
          4.840659141540527,
          -3.5344796180725098,
          0.9345749020576477,
          -0.9709701538085938,
          3.4183108806610107,
          2.0699329376220703,
          8.837026596069336,
          0.43906983733177185,
          8.186705589294434,
          9.720303535461426,
          5.412815570831299,
          -2.502634286880493,
          9.419132232666016,
          6.288524627685547,
          -3.415221929550171,
          -2.1465816497802734,
          -2.1030640602111816,
          1.304482340812683,
          0.38647663593292236,
          -2.4685285091400146,
          8.316953659057617,
          3.762615919113159,
          9.705846786499023,
          -3.2615983486175537,
          5.653199672698975,
          4.612614631652832,
          6.784634113311768,
          1.4977059364318848,
          3.485488176345825,
          1.3252290487289429,
          6.118847846984863,
          4.050415515899658
         ]
        },
        {
         "hovertemplate": "Dominant_Topic=Topic 2<br>0=%{x}<br>1=%{y}<br>2=%{z}<extra></extra>",
         "legendgroup": "Topic 2",
         "marker": {
          "color": "#00cc96",
          "opacity": 0.7,
          "symbol": "circle"
         },
         "mode": "markers",
         "name": "Topic 2",
         "scene": "scene",
         "showlegend": true,
         "type": "scatter3d",
         "x": [
          1.0042145252227783,
          0.49468615651130676,
          -1.1276181936264038,
          5.3964104652404785,
          0.29886922240257263,
          -1.624930500984192,
          12.322266578674316,
          -1.5729122161865234,
          -2.0381665229797363,
          1.8907870054244995,
          -1.9430862665176392,
          8.214982032775879,
          -1.3398468494415283,
          9.96052360534668,
          -2.1872096061706543,
          -0.03013669326901436,
          -1.1883224248886108,
          15.027261734008789,
          0.2979513108730316,
          -0.3068261742591858,
          2.5034186840057373,
          10.373612403869629,
          15.586631774902344,
          -0.4830482006072998,
          10.788924217224121,
          12.24796199798584,
          7.262446403503418,
          4.867472171783447,
          7.003725528717041,
          4.59260892868042,
          -1.4742134809494019,
          12.023751258850098,
          4.587693691253662,
          2.3576488494873047,
          -0.4162113666534424,
          -1.4523991346359253,
          -0.008287670090794563,
          5.508922100067139,
          -0.07172377407550812,
          12.624763488769531,
          4.435801982879639,
          2.434216022491455,
          0.5692709684371948,
          13.32551097869873,
          10.774402618408203,
          4.5863518714904785,
          5.363907814025879,
          -0.9212914705276489,
          5.669923782348633,
          11.222554206848145,
          2.589792013168335,
          7.386159420013428,
          -1.1878803968429565,
          8.708710670471191,
          2.3518238067626953,
          -1.3122978210449219,
          -1.741120457649231,
          -1.3862218856811523,
          2.3173623085021973,
          10.588738441467285,
          -0.8985910415649414,
          -1.7344379425048828,
          0.9057416915893555,
          10.274658203125,
          9.067729949951172,
          6.830668926239014,
          -2.205497980117798,
          6.266885757446289,
          -1.9562853574752808,
          13.711684226989746,
          14.742280006408691,
          -1.7126418352127075,
          8.330183982849121,
          15.220528602600098,
          12.465794563293457,
          8.755877494812012,
          -2.2426350116729736,
          8.163818359375,
          0.6670436859130859,
          11.956183433532715,
          1.0818748474121094,
          15.318313598632812,
          9.910140991210938,
          12.569783210754395,
          3.9268908500671387,
          7.670618534088135,
          -1.8460297584533691,
          0.5966666340827942,
          1.5046197175979614,
          -1.7124460935592651,
          -0.9508205056190491,
          -1.9030544757843018,
          4.995926380157471,
          9.121199607849121,
          -2.0379412174224854,
          -0.2813046872615814,
          9.023645401000977,
          16.24013328552246,
          9.688794136047363,
          7.360861778259277,
          0.48737022280693054,
          -0.05683949589729309,
          7.791494369506836,
          -0.2630373239517212,
          -2.0170693397521973,
          10.863245964050293,
          10.537618637084961,
          0.1531335413455963,
          13.263758659362793,
          0.18118515610694885,
          -1.7374846935272217,
          10.030467987060547,
          6.69656229019165,
          6.704161167144775,
          11.79476261138916,
          14.393478393554688,
          2.5936336517333984,
          11.70651626586914,
          14.76319408416748,
          -0.3397323489189148,
          -2.1836867332458496,
          -2.243760108947754,
          1.022734522819519,
          2.170443058013916,
          3.777914524078369,
          -2.1219844818115234,
          -1.7782838344573975,
          10.240556716918945,
          4.039358615875244,
          -2.232104778289795,
          -2.062906503677368,
          11.436274528503418,
          -1.588461995124817,
          3.980560541152954,
          -2.1937615871429443,
          0.208375483751297,
          2.2208828926086426,
          -2.039595603942871,
          0.0955629050731659,
          4.797109127044678,
          11.565224647521973,
          0.6836462616920471,
          2.361311197280884,
          -2.2383170127868652,
          14.527461051940918,
          14.696818351745605,
          11.425257682800293,
          8.93114948272705,
          4.585494518280029,
          4.395083427429199,
          0.13192102313041687,
          12.967047691345215,
          8.075584411621094,
          1.4589494466781616,
          1.4860090017318726,
          8.598053932189941,
          -1.7455081939697266,
          -2.226194143295288,
          -1.3758167028427124,
          5.06857442855835,
          9.964254379272461,
          8.627681732177734,
          9.515164375305176,
          4.807294845581055,
          12.316527366638184,
          1.7739248275756836,
          9.871554374694824,
          -1.426618218421936,
          -1.4617092609405518,
          14.927664756774902,
          13.174188613891602,
          6.892301082611084,
          3.592383623123169,
          10.542967796325684,
          1.6776620149612427,
          0.663074791431427,
          7.277436256408691,
          7.541576862335205,
          10.251212120056152,
          10.495818138122559,
          10.074676513671875,
          4.522533416748047,
          11.815389633178711,
          9.722517013549805,
          15.275522232055664,
          15.050139427185059,
          0.12075304985046387,
          6.569056510925293,
          0.1908428966999054,
          2.704390048980713,
          14.477054595947266,
          7.330962657928467,
          -0.9583138227462769,
          7.663947582244873,
          14.409964561462402,
          -1.0093379020690918,
          15.223183631896973,
          -2.0708696842193604,
          0.5100927352905273,
          -1.7332185506820679,
          0.3413713872432709,
          5.147758960723877,
          3.0435373783111572,
          13.326489448547363,
          12.72268009185791,
          -0.7851983308792114,
          7.610661506652832,
          -0.9069061875343323,
          9.710071563720703,
          -0.8344143033027649,
          10.955888748168945,
          4.045257091522217,
          3.1239311695098877,
          11.335339546203613,
          14.690537452697754,
          12.391986846923828,
          12.858024597167969,
          10.459872245788574,
          -1.0525403022766113,
          2.4264373779296875,
          -1.054854393005371,
          11.87109375,
          0.1818796694278717,
          10.655512809753418,
          12.215510368347168,
          5.255066394805908,
          -0.9904403686523438,
          -1.783474087715149,
          -1.463666319847107,
          14.457959175109863,
          0.01541932113468647,
          10.83004379272461,
          -0.8208873867988586,
          0.6997954249382019,
          7.190162181854248,
          16.046838760375977,
          1.7632133960723877,
          4.914430618286133,
          -2.102818250656128,
          8.625907897949219,
          11.489821434020996,
          7.150414943695068,
          -2.199073553085327,
          -0.15843257308006287,
          10.708775520324707,
          -1.6466583013534546,
          6.834805011749268,
          1.0699801445007324,
          12.073473930358887,
          12.965633392333984,
          10.254829406738281,
          12.457345962524414,
          6.221700191497803,
          -1.0597728490829468,
          11.375507354736328,
          14.563469886779785,
          15.598708152770996,
          5.919764995574951,
          -0.828822910785675,
          -1.8142186403274536,
          7.040826797485352,
          0.42042726278305054,
          -0.7267247438430786,
          6.95138692855835,
          8.165279388427734,
          2.72554612159729,
          13.46866226196289,
          4.237028121948242,
          13.137449264526367,
          -1.3541345596313477,
          -0.7569066286087036,
          11.268183708190918,
          6.369330883026123,
          11.948070526123047,
          -2.20487904548645,
          3.9153871536254883,
          13.278730392456055,
          9.811501502990723,
          -1.9293560981750488,
          -2.2504968643188477,
          -2.2243244647979736,
          15.160209655761719,
          14.605234146118164,
          -1.501907229423523,
          5.355618000030518,
          12.870267868041992,
          5.306403636932373,
          -0.19843323528766632,
          0.9504516124725342,
          10.64647102355957,
          16.313819885253906,
          4.490804672241211,
          10.484768867492676,
          -0.9581266641616821,
          9.037374496459961,
          15.880136489868164,
          -2.0524613857269287,
          0.0493248775601387,
          12.398240089416504,
          15.666937828063965,
          15.491415977478027,
          7.33068323135376,
          2.8519210815429688,
          9.165385246276855,
          3.6365370750427246,
          4.040977954864502,
          -2.14172101020813,
          12.754326820373535,
          -2.165701389312744,
          0.7108175754547119,
          0.6227397322654724,
          -2.1947288513183594,
          11.004755020141602,
          -2.230015754699707,
          -2.1880388259887695,
          3.9765117168426514,
          7.2966437339782715,
          3.057124614715576,
          14.140478134155273,
          2.661437749862671,
          14.92113971710205,
          15.76677131652832,
          -1.197104573249817,
          13.6840238571167,
          4.35330867767334,
          9.817800521850586,
          12.114824295043945,
          11.982047080993652,
          15.607725143432617,
          13.802106857299805,
          -1.8144474029541016,
          4.6070733070373535,
          10.146233558654785,
          5.327747344970703,
          2.788454532623291,
          11.4922513961792,
          12.987510681152344,
          9.461485862731934,
          2.1481800079345703,
          -2.183445453643799,
          11.580401420593262,
          8.896745681762695,
          14.251840591430664,
          7.648870944976807,
          -0.019988516345620155,
          -0.898004412651062,
          -2.2018749713897705,
          -1.5461907386779785,
          0.32997119426727295,
          13.147624969482422,
          5.312980651855469,
          -1.900329828262329,
          0.7931191325187683,
          3.566981077194214,
          10.445271492004395,
          -1.3024758100509644,
          -0.43882909417152405,
          -0.7867674827575684,
          0.3173532783985138,
          1.9365066289901733,
          5.675498962402344,
          -1.3608567714691162,
          -2.1966352462768555,
          9.576701164245605,
          6.295633792877197,
          0.09461500495672226,
          0.9347237348556519,
          7.335251331329346,
          10.33021068572998,
          8.449076652526855,
          11.730548858642578,
          -2.1744160652160645,
          12.781404495239258,
          11.525212287902832,
          0.317273885011673,
          -2.240201711654663,
          -0.08675721287727356,
          -0.9217524528503418,
          -0.9650918245315552,
          -0.6979159116744995,
          13.215091705322266,
          1.1196162700653076,
          11.119297981262207,
          6.363612651824951,
          0.3211500644683838,
          8.119792938232422,
          -2.2299721240997314,
          -1.9508473873138428,
          4.683764934539795,
          1.2124602794647217,
          2.301279306411743,
          10.780435562133789,
          -1.7892166376113892,
          -2.1288323402404785,
          0.9412568807601929,
          -2.121662139892578,
          -0.34542375802993774,
          0.8910465836524963,
          1.0046446323394775,
          9.88648509979248,
          2.4011073112487793,
          -1.7196309566497803,
          10.307156562805176,
          3.971404552459717
         ],
         "y": [
          2.06044864654541,
          -3.15718150138855,
          -4.471357822418213,
          1.054099678993225,
          0.9171993136405945,
          -5.005012035369873,
          4.397381782531738,
          -6.994805812835693,
          -5.576827526092529,
          1.7015185356140137,
          -6.607454299926758,
          0.12691228091716766,
          -4.32830810546875,
          2.9678280353546143,
          -7.725030899047852,
          -3.4313340187072754,
          3.1821939945220947,
          4.265295505523682,
          -0.2802940309047699,
          -3.72143816947937,
          -1.3682169914245605,
          1.102553367614746,
          4.304726600646973,
          3.163127899169922,
          1.4710524082183838,
          4.198337078094482,
          0.7430087924003601,
          0.9496451616287231,
          1.5674693584442139,
          -0.6454097032546997,
          -4.5342230796813965,
          3.29272198677063,
          -0.9880056977272034,
          1.5556069612503052,
          -3.8140368461608887,
          1.405479907989502,
          -3.5780913829803467,
          0.14488022029399872,
          -3.4583137035369873,
          4.639835834503174,
          0.9840944409370422,
          1.5286896228790283,
          -3.142608165740967,
          4.498841762542725,
          2.8089959621429443,
          -0.9881261587142944,
          1.1268476247787476,
          2.9792027473449707,
          1.1906483173370361,
          1.8375256061553955,
          -2.009272813796997,
          -0.190781831741333,
          1.2195918560028076,
          0.3272658884525299,
          -2.1491031646728516,
          -4.278944969177246,
          3.6073594093322754,
          -4.5983195304870605,
          -1.57284677028656,
          1.2509998083114624,
          3.2187743186950684,
          1.8497645854949951,
          -2.7025604248046875,
          1.0381035804748535,
          2.4678659439086914,
          -0.3872450888156891,
          -7.557201385498047,
          1.3103046417236328,
          0.5290020108222961,
          4.439703464508057,
          4.3156280517578125,
          2.1863086223602295,
          2.1577768325805664,
          4.065651893615723,
          4.606474876403809,
          2.3482749462127686,
          -6.433620929718018,
          2.0759575366973877,
          -2.174499034881592,
          0.5733361840248108,
          2.2927603721618652,
          4.33609676361084,
          1.8190388679504395,
          4.639248847961426,
          1.055100440979004,
          0.5332971215248108,
          -2.755190372467041,
          2.5964183807373047,
          -1.5380688905715942,
          -0.32129374146461487,
          -2.902940034866333,
          -5.372313022613525,
          1.0313862562179565,
          0.4983956217765808,
          -5.580245018005371,
          -3.6973142623901367,
          0.4671844244003296,
          4.131985187530518,
          0.7700648903846741,
          -0.18021517992019653,
          -2.013744592666626,
          -0.7547798752784729,
          1.9026248455047607,
          -3.6604509353637695,
          -5.548035621643066,
          1.469449520111084,
          2.5227131843566895,
          -1.3351918458938599,
          4.437603950500488,
          0.5143461227416992,
          0.5189369320869446,
          1.0326712131500244,
          -0.18279927968978882,
          -0.433092325925827,
          3.007675886154175,
          4.294776916503906,
          -2.028343439102173,
          2.870894432067871,
          4.333041667938232,
          1.4986695051193237,
          -7.763572692871094,
          -6.61784029006958,
          2.347662925720215,
          1.6530680656433105,
          -1.3347524404525757,
          -8.226461410522461,
          -5.462230205535889,
          3.130216598510742,
          -1.504105806350708,
          -6.2567338943481445,
          -6.899896621704102,
          2.216169595718384,
          -4.840397357940674,
          -1.2856101989746094,
          -6.018725395202637,
          -2.528646230697632,
          -2.1999924182891846,
          -5.583742141723633,
          -1.1271530389785767,
          0.3361966013908386,
          2.576509952545166,
          -2.7607297897338867,
          1.3907448053359985,
          -6.518673896789551,
          4.239727973937988,
          4.5184502601623535,
          2.185208559036255,
          2.429900646209717,
          -0.9889716506004333,
          -0.5799879431724548,
          -3.3920392990112305,
          4.650046348571777,
          0.07701347023248672,
          1.8447579145431519,
          -1.2213184833526611,
          2.285008430480957,
          -5.373477458953857,
          -6.358648300170898,
          -4.388460636138916,
          0.2547031342983246,
          0.8731012940406799,
          2.2887332439422607,
          1.5270870923995972,
          -1.2024348974227905,
          4.401669979095459,
          1.879763126373291,
          0.8578392267227173,
          -4.767288684844971,
          -5.332127094268799,
          4.032228469848633,
          4.697274208068848,
          1.5225223302841187,
          -0.42573580145835876,
          2.5733795166015625,
          -2.5027072429656982,
          -1.4323265552520752,
          0.6703605055809021,
          1.7877155542373657,
          1.012130618095398,
          2.458191394805908,
          3.048161745071411,
          -1.3074305057525635,
          0.786626935005188,
          1.601104736328125,
          4.186455726623535,
          4.357845783233643,
          2.70174503326416,
          1.4166687726974487,
          -3.3719825744628906,
          -1.9843569993972778,
          4.2373456954956055,
          -0.04077526926994324,
          -2.8149352073669434,
          -0.08762450516223907,
          4.2948384284973145,
          -2.7194714546203613,
          3.887444019317627,
          -6.781178951263428,
          2.6544556617736816,
          -5.162997722625732,
          0.8867891430854797,
          -1.0595735311508179,
          1.260239601135254,
          4.624154090881348,
          4.521121501922607,
          3.298518419265747,
          -0.08331956714391708,
          -3.4417548179626465,
          2.8484325408935547,
          -4.191864013671875,
          1.573696255683899,
          -1.4625017642974854,
          0.34665000438690186,
          2.0372419357299805,
          4.052440643310547,
          4.529423713684082,
          4.405515670776367,
          3.2072582244873047,
          -2.7790133953094482,
          1.3134286403656006,
          -2.775205612182617,
          3.1314070224761963,
          -1.5078142881393433,
          2.6880850791931152,
          4.225317001342773,
          1.0492327213287354,
          3.393617868423462,
          3.6574413776397705,
          3.6249024868011475,
          4.501919269561768,
          -1.4609246253967285,
          1.4457900524139404,
          3.3275606632232666,
          2.5108001232147217,
          -0.25998663902282715,
          4.106005668640137,
          -2.442147970199585,
          0.8422943949699402,
          -5.7141313552856445,
          0.3097313344478607,
          2.305088996887207,
          0.7787792682647705,
          -7.363138198852539,
          -3.692720651626587,
          1.3578979969024658,
          -5.053040981292725,
          0.4879065752029419,
          -2.5143537521362305,
          3.6833314895629883,
          4.763860702514648,
          1.0368708372116089,
          4.595386505126953,
          -0.6294878125190735,
          -2.8859736919403076,
          2.0579426288604736,
          4.200605869293213,
          3.9511444568634033,
          -0.6463321447372437,
          1.0549118518829346,
          -5.234532356262207,
          0.7435383796691895,
          2.678046464920044,
          -4.021975040435791,
          1.5386672019958496,
          0.12220831215381622,
          -1.1083430051803589,
          4.499185562133789,
          0.9625928401947021,
          4.60347843170166,
          -4.69871711730957,
          -4.1109209060668945,
          1.8732833862304688,
          1.3591641187667847,
          0.5868439078330994,
          -7.381898880004883,
          0.8895468711853027,
          4.628342151641846,
          0.7999897599220276,
          -5.907463073730469,
          -6.822732925415039,
          -7.248233318328857,
          3.9671730995178223,
          4.076339244842529,
          -4.862518787384033,
          -0.9700493812561035,
          4.401597499847412,
          -0.9633992910385132,
          3.0094809532165527,
          2.3519110679626465,
          2.673143148422241,
          4.122757911682129,
          -1.3340697288513184,
          1.1778186559677124,
          -4.302323818206787,
          0.45990535616874695,
          4.120846271514893,
          -5.605915546417236,
          -2.951113224029541,
          4.517159938812256,
          4.302999019622803,
          4.054941654205322,
          -0.1983393132686615,
          1.35170316696167,
          0.5234657526016235,
          -0.28169941902160645,
          0.19018352031707764,
          -5.813343524932861,
          4.664306640625,
          -7.983557224273682,
          -1.9253404140472412,
          -1.1105340719223022,
          -7.707837104797363,
          1.596652865409851,
          -6.784215450286865,
          -7.816306114196777,
          -1.0529133081436157,
          0.8764991760253906,
          -0.07633722573518753,
          4.361377716064453,
          -1.9948499202728271,
          4.0609049797058105,
          4.038320541381836,
          3.488072395324707,
          4.459941387176514,
          -1.3217147588729858,
          1.6191130876541138,
          3.2696657180786133,
          3.6889493465423584,
          3.886697292327881,
          4.419799327850342,
          0.25359097123146057,
          1.0183870792388916,
          0.9852439761161804,
          -0.9257935285568237,
          -0.015477417968213558,
          3.96006441116333,
          4.355015277862549,
          0.6413353681564331,
          -1.5381805896759033,
          -7.8774189949035645,
          1.5183799266815186,
          2.4116714000701904,
          4.325197696685791,
          0.6702253818511963,
          -2.458895444869995,
          0.8215721249580383,
          -6.089399814605713,
          -4.911384582519531,
          2.4315292835235596,
          4.38245153427124,
          -0.9618241786956787,
          -5.861854553222656,
          0.10707205533981323,
          -1.3743982315063477,
          3.23604679107666,
          -4.632728576660156,
          -3.833998203277588,
          -4.149408340454102,
          -3.2867612838745117,
          -2.3575053215026855,
          -0.8321373462677002,
          -4.706656455993652,
          -7.886532783508301,
          2.739112615585327,
          1.3438854217529297,
          -0.16960753500461578,
          -2.859428882598877,
          0.5844261050224304,
          2.685309410095215,
          0.24882353842258453,
          2.974541425704956,
          -5.9228081703186035,
          4.686283588409424,
          2.4278242588043213,
          -3.279538869857788,
          -6.4176483154296875,
          -0.5532424449920654,
          3.3613080978393555,
          -2.3662545680999756,
          3.1073431968688965,
          4.493418216705322,
          -2.8066561222076416,
          1.7323311567306519,
          0.6236315965652466,
          0.923156201839447,
          1.927046537399292,
          -6.779210090637207,
          -5.4326558113098145,
          -1.2502782344818115,
          -2.755735158920288,
          0.15908154845237732,
          2.7810821533203125,
          -5.12296199798584,
          -5.788613319396973,
          -1.6665996313095093,
          0.8474123477935791,
          1.5223643779754639,
          2.419788122177124,
          2.0608584880828857,
          0.828353226184845,
          -2.1262152194976807,
          -6.554442405700684,
          3.168039560317993,
          -0.8796928524971008
         ],
         "z": [
          -5.771079063415527,
          -11.263619422912598,
          -9.89062213897705,
          -7.089366436004639,
          -9.453509330749512,
          -9.043045043945312,
          -3.795788288116455,
          -4.618348121643066,
          -7.8907294273376465,
          -6.119394779205322,
          -3.403287887573242,
          -11.96861457824707,
          -7.142533302307129,
          -4.997931480407715,
          -3.4648876190185547,
          -10.954272270202637,
          -4.742384433746338,
          0.44020968675613403,
          -5.9313483238220215,
          -10.79768180847168,
          -9.711771965026855,
          -10.837366104125977,
          1.6840335130691528,
          -5.128342151641846,
          -9.996174812316895,
          -4.086374759674072,
          -9.072839736938477,
          -7.081576347351074,
          -6.637733459472656,
          -10.911445617675781,
          -4.6819586753845215,
          -6.769550323486328,
          -11.95347785949707,
          -6.28612756729126,
          -10.718470573425293,
          -4.196510314941406,
          -11.044404029846191,
          -12.659003257751465,
          -10.929022789001465,
          -2.957188606262207,
          -6.93733024597168,
          -6.312723159790039,
          -11.372480392456055,
          -1.7299789190292358,
          -6.5413594245910645,
          -11.952390670776367,
          -6.961933612823486,
          -4.85084342956543,
          -6.9334306716918945,
          -9.379132270812988,
          -12.024306297302246,
          -12.218631744384766,
          -4.426957130432129,
          -11.780213356018066,
          -11.97350788116455,
          -6.475286483764648,
          -4.549933910369873,
          -8.9310884475708,
          -10.017799377441406,
          -10.574204444885254,
          -4.91791296005249,
          -4.01865291595459,
          -10.907073974609375,
          -10.949578285217285,
          -5.741438388824463,
          -12.320131301879883,
          -3.760545492172241,
          -6.874557018280029,
          -3.3731324672698975,
          -1.190633773803711,
          0.13970035314559937,
          -4.1167731285095215,
          -6.0009236335754395,
          0.7545602917671204,
          -3.0706286430358887,
          -5.813104629516602,
          -5.910760879516602,
          -6.096333026885986,
          -8.350198745727539,
          -7.209442615509033,
          -5.766989707946777,
          1.0948786735534668,
          -7.973335266113281,
          -3.1055774688720703,
          -6.799820899963379,
          -10.136456489562988,
          0.779681384563446,
          -5.574411392211914,
          -8.358499526977539,
          -3.424328327178955,
          -4.660604000091553,
          -8.426302909851074,
          -7.010314464569092,
          -11.607605934143066,
          -7.991072654724121,
          -10.82645034790039,
          -11.613885879516602,
          1.9468791484832764,
          -11.249126434326172,
          -12.17729663848877,
          -7.519864082336426,
          -5.7481369972229,
          -6.2889628410339355,
          -10.799148559570312,
          -8.116983413696289,
          -10.133357048034668,
          -6.980809688568115,
          -6.258814334869385,
          -2.011275053024292,
          -5.612429618835449,
          -3.636831760406494,
          -10.643513679504395,
          -11.733623504638672,
          -12.337740898132324,
          -7.335172653198242,
          -0.15360631048679352,
          -12.008139610290527,
          -7.56683349609375,
          0.7829279899597168,
          -7.842790603637695,
          -3.406938314437866,
          -5.471245765686035,
          -5.741456508636475,
          -6.2046942710876465,
          -11.828134536743164,
          -2.7807419300079346,
          -5.080225467681885,
          -4.728886604309082,
          -12.415077209472656,
          -6.404885768890381,
          -3.8306000232696533,
          -8.667566299438477,
          -6.254642963409424,
          -11.939577102661133,
          -7.0334601402282715,
          -8.301750183105469,
          -11.888440132141113,
          -7.998903274536133,
          -6.066318511962891,
          -6.846219539642334,
          -8.056354522705078,
          -10.583319664001465,
          -6.364058494567871,
          -5.663634300231934,
          0.0075180381536483765,
          0.5134397149085999,
          -8.722652435302734,
          -5.727807521820068,
          -11.953707695007324,
          -10.43451976776123,
          -11.121219635009766,
          -2.0204010009765625,
          -12.001725196838379,
          -5.953766822814941,
          -7.738083839416504,
          -5.861070156097412,
          -5.043052673339844,
          -6.071132659912109,
          -7.196062088012695,
          -6.851369380950928,
          -11.183760643005371,
          -5.874202728271484,
          -8.421520233154297,
          -12.513069152832031,
          -3.779397487640381,
          -6.040963649749756,
          -11.14011001586914,
          -9.369269371032715,
          -0.5353721380233765,
          0.456726610660553,
          -2.4241714477539062,
          -6.682060241699219,
          -8.846410751342773,
          -6.874248027801514,
          -11.773520469665527,
          -7.043781757354736,
          -9.324211120605469,
          -6.416706562042236,
          -11.009079933166504,
          -7.10321044921875,
          -4.841890335083008,
          -12.46605110168457,
          -7.6673150062561035,
          -8.384976387023926,
          1.517215609550476,
          0.9487528204917908,
          -5.376713752746582,
          -6.774878025054932,
          -11.186182975769043,
          -12.052057266235352,
          0.20641328394412994,
          -11.78369426727295,
          -4.502473831176758,
          -12.15064811706543,
          -0.12507928907871246,
          -4.189859867095947,
          0.9817205667495728,
          -4.135984420776367,
          -5.538839340209961,
          -6.08529806137085,
          -9.553041458129883,
          -12.50927448272705,
          -6.558483600616455,
          -2.1990902423858643,
          -2.3127799034118652,
          -4.997056484222412,
          -12.101615905761719,
          -6.00410795211792,
          -5.141741752624512,
          -10.257107734680176,
          -9.87636661529541,
          -12.350552558898926,
          -7.260490417480469,
          -8.944891929626465,
          0.5845018029212952,
          -3.5236361026763916,
          -2.3446593284606934,
          -4.674654006958008,
          -3.9766697883605957,
          -6.417823791503906,
          -3.9596855640411377,
          -7.092184066772461,
          -6.42105770111084,
          -6.730477809906006,
          -4.0139923095703125,
          -7.048248291015625,
          -4.909626007080078,
          -4.5435967445373535,
          -4.7172465324401855,
          0.2556820809841156,
          -6.086385250091553,
          -10.167166709899902,
          -4.9844794273376465,
          -5.618407249450684,
          -12.263285636901855,
          1.8699105978012085,
          -11.758604049682617,
          -7.285810470581055,
          -7.7281718254089355,
          -11.758676528930664,
          -8.552946090698242,
          -8.865498542785645,
          -3.998591899871826,
          -11.046950340270996,
          -10.306636810302734,
          -5.342190265655518,
          -9.522987365722656,
          -10.666419982910156,
          -4.682131290435791,
          -2.200510263442993,
          -10.921859741210938,
          -3.3146135807037354,
          -12.413068771362305,
          -3.9957756996154785,
          -8.97216796875,
          0.0656459704041481,
          1.6803303956985474,
          -12.310805320739746,
          -4.747157573699951,
          -8.546814918518066,
          -7.111184120178223,
          -5.5041351318359375,
          -10.12871265411377,
          -6.670591354370117,
          -11.940736770629883,
          -9.337153434753418,
          -1.583702802658081,
          -6.9226789474487305,
          -1.895740032196045,
          -9.542159080505371,
          -10.318648338317871,
          -9.352273941040039,
          -6.821464538574219,
          -7.230977535247803,
          -3.9992597103118896,
          -6.944684982299805,
          -2.3406503200531006,
          -11.27658462524414,
          -5.071613311767578,
          -5.079530239105225,
          -4.263334274291992,
          1.2693352699279785,
          0.15527383983135223,
          -9.2907075881958,
          -12.488433837890625,
          -4.395207405090332,
          -12.46113109588623,
          -5.246257305145264,
          -5.718771457672119,
          -6.755053520202637,
          1.9630311727523804,
          -12.484246253967285,
          -10.709881782531738,
          -10.091136932373047,
          -11.65063190460205,
          1.7463059425354004,
          -7.900144100189209,
          -9.14674186706543,
          -3.573723316192627,
          1.6181532144546509,
          1.6947522163391113,
          -12.204771041870117,
          -6.476092338562012,
          -11.566200256347656,
          -8.564363479614258,
          -7.912498950958252,
          -7.550534248352051,
          -2.728168487548828,
          -3.1290760040283203,
          -7.811758995056152,
          -6.705489158630371,
          -3.5187325477600098,
          -9.84939193725586,
          -5.059996128082275,
          -3.3764069080352783,
          -11.322735786437988,
          -8.678515434265137,
          -7.710599899291992,
          -0.5291709899902344,
          -12.017647743225098,
          1.0115489959716797,
          1.4024688005447388,
          -4.823502540588379,
          -1.2669243812561035,
          -12.356207847595215,
          -8.421162605285645,
          -4.749372959136963,
          -4.560691833496094,
          1.5143041610717773,
          -1.047614336013794,
          -3.4636781215667725,
          -6.93970251083374,
          -10.966282844543457,
          -12.425712585449219,
          -7.45121431350708,
          -3.7738375663757324,
          -2.3364098072052,
          -11.446904182434082,
          -9.56291675567627,
          -3.2977311611175537,
          -8.350831985473633,
          -5.750024795532227,
          -0.3627413809299469,
          -9.657207489013672,
          -7.017995834350586,
          -4.6864013671875,
          -6.793108940124512,
          -9.198241233825684,
          -5.471861839294434,
          -1.991987943649292,
          -12.46170425415039,
          -4.9831318855285645,
          -6.103057861328125,
          -11.655893325805664,
          -4.578371524810791,
          -9.570585250854492,
          -10.698402404785156,
          -10.316572189331055,
          -11.230591773986816,
          -11.831053733825684,
          -12.452892303466797,
          -9.531950950622559,
          -3.3492679595947266,
          -5.373368740081787,
          -6.830598831176758,
          -5.7660112380981445,
          -11.464219093322754,
          -9.658966064453125,
          -6.37589693069458,
          -11.792254447937012,
          -7.339004039764404,
          -7.299433708190918,
          -2.457904577255249,
          -8.33071517944336,
          -11.21057415008545,
          -5.937732696533203,
          -5.671910285949707,
          -4.939037799835205,
          -4.270227909088135,
          -5.005420207977295,
          -1.7837045192718506,
          -11.558976173400879,
          -9.556940078735352,
          -8.745635032653809,
          -9.476471900939941,
          -6.434733867645264,
          -5.06930685043335,
          -8.216536521911621,
          -12.499677658081055,
          -11.600325584411621,
          -7.021904468536377,
          -6.633944988250732,
          -8.102126121520996,
          -7.526218891143799,
          -7.722987651824951,
          -3.2930305004119873,
          -7.783467769622803,
          -5.691869735717773,
          -5.770426273345947,
          -11.26175594329834,
          -11.982105255126953,
          -1.8363546133041382,
          -4.667293548583984,
          -12.416176795959473
         ]
        },
        {
         "hovertemplate": "Dominant_Topic=Topic 3<br>0=%{x}<br>1=%{y}<br>2=%{z}<extra></extra>",
         "legendgroup": "Topic 3",
         "marker": {
          "color": "#ab63fa",
          "opacity": 0.7,
          "symbol": "circle"
         },
         "mode": "markers",
         "name": "Topic 3",
         "scene": "scene",
         "showlegend": true,
         "type": "scatter3d",
         "x": [
          -1.7791931629180908,
          -2.2662129402160645,
          2.7166085243225098,
          2.597266674041748,
          1.965570330619812,
          2.099762439727783,
          2.9131882190704346,
          2.0872137546539307,
          3.0121850967407227,
          -0.28102537989616394,
          2.607323169708252,
          -0.4490419328212738,
          -2.0697712898254395,
          -0.9336847066879272,
          2.9667680263519287,
          1.7837498188018799,
          -0.9791148900985718,
          -1.4770567417144775,
          2.9350736141204834,
          1.3979395627975464,
          1.8544541597366333,
          2.830998420715332,
          -0.39696645736694336,
          -0.1469075083732605,
          -0.42584341764450073,
          -1.8590904474258423,
          1.5029237270355225,
          2.0419771671295166,
          1.610198736190796,
          -1.52982759475708,
          -2.2276601791381836,
          -0.9107589721679688,
          3.029052734375,
          2.656472682952881,
          0.8665953874588013,
          1.723911166191101,
          -1.4533627033233643,
          2.364360809326172,
          2.3503940105438232,
          2.595950126647949,
          -1.9532597064971924,
          2.875110387802124,
          -1.8337870836257935,
          2.7196905612945557,
          3.0077269077301025,
          -0.5887743830680847,
          2.909475326538086,
          -2.5228238105773926,
          -1.3113292455673218,
          2.1309900283813477,
          -1.7958706617355347,
          2.7016799449920654,
          2.862645387649536,
          -1.3070755004882812,
          -1.8862998485565186,
          1.9035435914993286,
          -0.9782313704490662,
          0.9012962579727173,
          0.5481566786766052,
          1.0447986125946045,
          2.3028299808502197,
          1.102447271347046,
          -1.6612427234649658,
          -1.3512768745422363,
          -0.4221549928188324,
          2.993723154067993,
          -0.20917241275310516,
          2.604825735092163,
          0.0024820431135594845,
          -1.3882150650024414,
          -1.4660742282867432,
          0.5202466249465942,
          1.6138545274734497,
          -0.13335540890693665,
          1.1337124109268188,
          2.7307240962982178,
          2.6415116786956787,
          2.7710371017456055,
          1.5018748044967651,
          1.2187578678131104,
          -1.5072556734085083,
          -1.2743151187896729,
          1.9258499145507812,
          1.055858850479126,
          -1.4904180765151978,
          -1.6064661741256714,
          -0.5017167925834656,
          1.9164814949035645,
          2.8353357315063477,
          -1.6435011625289917,
          1.2549200057983398,
          -1.712809681892395,
          2.2290561199188232,
          2.257570743560791,
          -1.4337570667266846,
          2.6257433891296387,
          -1.735650897026062,
          -0.49653545022010803,
          -0.43273693323135376,
          -1.9268206357955933,
          -1.7860853672027588,
          2.6108524799346924,
          1.8827979564666748,
          -2.6055798530578613,
          2.3647754192352295,
          2.85360050201416,
          0.5847597122192383,
          -1.0897616147994995,
          -0.033601678907871246,
          -0.4794996678829193,
          -2.295173168182373,
          2.524653911590576,
          1.7724406719207764,
          -0.5093826651573181,
          -0.686259925365448,
          -0.2800571620464325,
          1.2368563413619995,
          -2.7681174278259277,
          2.4156932830810547,
          -1.1021395921707153,
          0.11191759258508682,
          -1.2897632122039795,
          -1.536954402923584,
          -1.4718623161315918,
          2.111079454421997,
          2.62174129486084,
          1.3045815229415894,
          -1.9780676364898682,
          -2.5442662239074707,
          -1.4728543758392334,
          0.020426984876394272,
          2.966517448425293,
          -1.8664602041244507,
          -2.2039544582366943,
          -1.428238868713379,
          -1.6687549352645874,
          -0.38046279549598694,
          -2.3886606693267822,
          2.3184878826141357,
          0.23094496130943298,
          -1.0420269966125488,
          0.549336850643158,
          2.220555543899536,
          -1.2054376602172852,
          -1.021468162536621,
          1.9484143257141113,
          0.56095290184021,
          -1.3529040813446045,
          1.6644577980041504,
          1.5701947212219238,
          2.549931526184082,
          -2.3347885608673096,
          -1.5950735807418823,
          -1.1087452173233032,
          -2.239522933959961,
          2.915032386779785,
          2.897249698638916,
          -1.6098098754882812,
          0.3291458785533905,
          2.1178131103515625,
          2.337352991104126,
          3.0115413665771484,
          2.4297146797180176,
          -1.5072020292282104,
          0.35306742787361145,
          0.10362564027309418,
          2.356311321258545,
          -1.1788409948349,
          1.0903551578521729,
          3.0035884380340576,
          -0.23896951973438263,
          2.9799513816833496,
          -2.4455153942108154,
          2.1606380939483643,
          2.837885856628418,
          1.9761404991149902,
          -0.35513073205947876,
          -0.7766710519790649,
          0.6922430396080017,
          -1.1256986856460571,
          2.4218554496765137,
          1.6758617162704468,
          1.4577780961990356,
          -0.1882694512605667,
          -0.2061927318572998,
          0.2950841188430786,
          3.0098114013671875,
          -0.13761508464813232,
          1.7235208749771118,
          2.3774454593658447,
          0.5677285194396973,
          2.4506375789642334,
          2.9929611682891846,
          2.575385570526123,
          -1.4319369792938232,
          0.6059429049491882,
          -1.6325603723526,
          2.950291395187378,
          2.8640716075897217,
          -0.8929666876792908,
          -1.3724889755249023,
          -2.06411075592041,
          -0.3639860451221466,
          -1.5393131971359253,
          0.9688908457756042,
          0.05101149529218674,
          2.2298994064331055,
          -0.6066346764564514,
          0.8279979228973389,
          1.10451340675354,
          1.1153059005737305,
          2.5968570709228516,
          1.1039042472839355,
          -1.3466130495071411,
          1.6914719343185425,
          0.7838339805603027,
          -0.14418306946754456,
          -1.6030882596969604,
          1.3991883993148804,
          -1.5926600694656372,
          0.6703053712844849,
          1.161224603652954,
          0.0918131023645401,
          2.3635106086730957,
          -2.010387659072876,
          -2.179722785949707,
          0.02451498620212078,
          2.0238921642303467,
          -1.7978765964508057,
          0.6327532529830933,
          -2.092111110687256,
          0.6961374282836914,
          2.3820576667785645,
          2.489063262939453,
          1.7239117622375488,
          2.596658229827881,
          0.6221038699150085,
          1.0548417568206787,
          0.3609829545021057
         ],
         "y": [
          -9.173500061035156,
          -9.756085395812988,
          -1.478796124458313,
          -0.5947190523147583,
          -9.307879447937012,
          -9.055380821228027,
          -2.9904775619506836,
          -9.164192199707031,
          -3.9568395614624023,
          -7.60684061050415,
          -0.5361067056655884,
          -8.4388427734375,
          -8.459183692932129,
          -6.554682731628418,
          -5.049350261688232,
          -8.246143341064453,
          -2.7552363872528076,
          -9.726136207580566,
          -5.396060943603516,
          -6.224135875701904,
          -6.481281280517578,
          -6.105447292327881,
          -7.901672840118408,
          -10.441177368164062,
          -7.985696792602539,
          -9.019403457641602,
          -5.79036808013916,
          -9.179457664489746,
          -3.2129833698272705,
          -3.637864351272583,
          -1.8637783527374268,
          -4.713491439819336,
          -3.808526039123535,
          -2.405818223953247,
          -2.3308284282684326,
          -9.7007417678833,
          -5.40215539932251,
          -8.34453010559082,
          -8.5048189163208,
          -0.5926036238670349,
          -8.762235641479492,
          -2.3352975845336914,
          -2.146385431289673,
          -1.4523524045944214,
          -4.061555862426758,
          -10.265206336975098,
          -2.6838948726654053,
          -1.6891942024230957,
          -5.124009609222412,
          -4.018726825714111,
          -9.163171768188477,
          -6.752030849456787,
          -2.488307237625122,
          -9.915543556213379,
          -2.193539619445801,
          -10.772940635681152,
          -7.522876262664795,
          -10.43340015411377,
          -10.609176635742188,
          -4.464629173278809,
          -8.632099151611328,
          -4.808703899383545,
          -9.447993278503418,
          -5.68085241317749,
          -2.6219024658203125,
          -4.355573654174805,
          -10.419523239135742,
          -0.5011129379272461,
          -10.517938613891602,
          -5.049806594848633,
          -3.819767475128174,
          -10.596851348876953,
          -9.862748146057129,
          -7.863308906555176,
          -10.247885704040527,
          -1.458900809288025,
          -0.912665605545044,
          -6.381838321685791,
          -1.78403639793396,
          -10.270596504211426,
          -9.68448257446289,
          -4.369430065155029,
          -6.161705493927002,
          -10.336573600769043,
          -6.571761131286621,
          -2.4613847732543945,
          -8.029929161071777,
          -4.649306774139404,
          -6.0526251792907715,
          -3.2900469303131104,
          -2.7542831897735596,
          -9.31053638458252,
          -6.385684490203857,
          -8.769967079162598,
          -5.333856582641602,
          -0.8270872831344604,
          -2.857567310333252,
          -6.021705627441406,
          -10.268387794494629,
          -8.848902702331543,
          -9.118836402893066,
          -0.5486658215522766,
          -6.739713191986084,
          -1.6412147283554077,
          -3.395915985107422,
          -5.981233596801758,
          -6.759303092956543,
          -3.8715059757232666,
          -6.19064474105835,
          -5.193784236907959,
          -1.883702039718628,
          -3.2383382320404053,
          -4.421629905700684,
          -5.312886714935303,
          -2.9609897136688232,
          -5.946697235107422,
          -10.199063301086426,
          -5.595012187957764,
          -8.294461250305176,
          -7.6120710372924805,
          -10.503182411193848,
          -3.7255191802978516,
          -3.1136720180511475,
          -3.6396191120147705,
          -4.064562797546387,
          -0.6690952181816101,
          -10.06523609161377,
          -8.698853492736816,
          -5.517509460449219,
          -8.045166015625,
          -10.225791931152344,
          -3.2461435794830322,
          -8.965134620666504,
          -1.8877480030059814,
          -9.791731834411621,
          -6.895244121551514,
          -5.861400127410889,
          -1.7713615894317627,
          -4.823904037475586,
          -7.3109846115112305,
          -10.057243347167969,
          -10.51937484741211,
          -4.432422161102295,
          -4.571914196014404,
          -4.292285919189453,
          -6.22435188293457,
          -10.466828346252441,
          -3.4733898639678955,
          -2.0215697288513184,
          -9.904479026794434,
          -8.639396667480469,
          -1.8446588516235352,
          -9.555644989013672,
          -10.014137268066406,
          -1.8673776388168335,
          -5.474675178527832,
          -2.8009495735168457,
          -8.354249954223633,
          -3.2544686794281006,
          -8.771493911743164,
          -0.7714464664459229,
          -4.491485118865967,
          -8.136209487915039,
          -6.701631546020508,
          -10.55777645111084,
          -10.47056770324707,
          -8.526745796203613,
          -4.620450019836426,
          -4.611023902893066,
          -3.5509655475616455,
          -10.424097061157227,
          -3.3799514770507812,
          -1.8510998487472534,
          -8.976848602294922,
          -6.173362731933594,
          -1.3919198513031006,
          -7.954931735992432,
          -4.986003875732422,
          -10.460083961486816,
          -5.681509971618652,
          -8.186576843261719,
          -10.244101524353027,
          -10.06152057647705,
          -10.474720001220703,
          -10.342531204223633,
          -2.6238601207733154,
          -4.424783229827881,
          -7.894717693328857,
          -2.1181023120880127,
          -2.7081170082092285,
          -2.5115575790405273,
          -8.10534381866455,
          -3.608607053756714,
          -0.9182418584823608,
          -9.77481460571289,
          -6.931848526000977,
          -9.456731796264648,
          -4.694988250732422,
          -5.836258888244629,
          -4.690305709838867,
          -9.844781875610352,
          -8.481867790222168,
          -7.642021179199219,
          -6.094091892242432,
          -2.219784736633301,
          -6.21058464050293,
          -2.6484968662261963,
          -3.4198052883148193,
          -4.729353904724121,
          -2.2970073223114014,
          -4.839262962341309,
          -0.5686666965484619,
          -6.08687162399292,
          -9.869745254516602,
          -2.4900989532470703,
          -10.49735164642334,
          -3.9154350757598877,
          -6.396412372589111,
          -10.089644432067871,
          -6.629289627075195,
          -10.42729377746582,
          -10.170413970947266,
          -2.657895565032959,
          -8.400558471679688,
          -8.639522552490234,
          -2.299534797668457,
          -10.461555480957031,
          -7.603844165802002,
          -2.1030919551849365,
          -8.960036277770996,
          -8.246901512145996,
          -3.9070091247558594,
          -5.456305980682373,
          -7.782339096069336,
          -1.5704268217086792,
          -0.9706165790557861,
          -10.618143081665039,
          -10.33704662322998,
          -10.63976001739502
         ],
         "z": [
          -1.2043919563293457,
          0.431991845369339,
          10.224824905395508,
          10.432690620422363,
          6.019340991973877,
          6.308353424072266,
          9.808540344238281,
          6.26478910446167,
          9.513331413269043,
          2.495311975479126,
          10.478106498718262,
          2.0147929191589355,
          -2.462226390838623,
          1.1775192022323608,
          8.977202415466309,
          5.963498592376709,
          5.061126708984375,
          -0.24764928221702576,
          8.788352012634277,
          6.096638202667236,
          6.737387180328369,
          8.354345321655273,
          2.192831039428711,
          2.247617721557617,
          2.119776487350464,
          -1.5063287019729614,
          6.489155292510986,
          6.179420471191406,
          7.909159183502197,
          1.0183194875717163,
          5.162522315979004,
          2.2364308834075928,
          9.600626945495605,
          9.723453521728516,
          7.407062530517578,
          5.538103103637695,
          -0.3287067115306854,
          6.9356842041015625,
          6.899181365966797,
          10.432172775268555,
          -1.9006390571594238,
          10.051260948181152,
          4.994218349456787,
          10.239989280700684,
          9.46105670928955,
          1.4608592987060547,
          9.941547393798828,
          5.159160614013672,
          0.589653491973877,
          8.232572555541992,
          -1.2675701379776,
          7.9385247230529785,
          9.965006828308105,
          0.09822924435138702,
          4.578599452972412,
          3.2319371700286865,
          0.905899703502655,
          4.118192672729492,
          3.512014865875244,
          6.462937355041504,
          6.797231197357178,
          6.366654872894287,
          -0.8182918429374695,
          0.06092923507094383,
          5.86353874206543,
          9.31208610534668,
          2.1394858360290527,
          10.48723316192627,
          2.5021727085113525,
          0.324724406003952,
          1.1224371194839478,
          3.434663772583008,
          5.336592674255371,
          2.7165942192077637,
          4.5328779220581055,
          10.25258731842041,
          10.369497299194336,
          8.164128303527832,
          8.468253135681152,
          4.720088481903076,
          -0.32442134618759155,
          1.3298466205596924,
          6.975032806396484,
          4.393594264984131,
          -0.7017233371734619,
          4.453570365905762,
          1.9540824890136719,
          7.628288745880127,
          8.381044387817383,
          1.1740999221801758,
          7.669727325439453,
          -0.9661550521850586,
          7.347273349761963,
          6.680458068847656,
          -0.13149885833263397,
          10.375322341918945,
          2.6537764072418213,
          2.504344940185547,
          1.7542880773544312,
          -1.7809168100357056,
          -1.2279216051101685,
          10.478960990905762,
          6.687402248382568,
          5.174328804016113,
          8.858856201171875,
          8.433833122253418,
          4.375987529754639,
          2.8266701698303223,
          3.417185068130493,
          3.0313148498535156,
          4.472044467926025,
          9.15650463104248,
          7.525693416595459,
          2.866910219192505,
          5.167232036590576,
          3.024536609649658,
          4.720867156982422,
          0.35014960169792175,
          7.031619071960449,
          0.5953003764152527,
          2.67443585395813,
          2.3550918102264404,
          2.795011520385742,
          1.4953298568725586,
          8.182369232177734,
          10.44582462310791,
          4.795202732086182,
          -2.0138895511627197,
          0.2801724970340729,
          -0.3604506850242615,
          2.531865358352661,
          9.767509460449219,
          -1.5375993251800537,
          5.100564002990723,
          -0.1468839794397354,
          -1.3941662311553955,
          2.8459346294403076,
          5.12300443649292,
          8.134354591369629,
          3.552311897277832,
          0.6257882118225098,
          3.40067982673645,
          8.169136047363281,
          1.3856241703033447,
          2.416015386581421,
          6.983365058898926,
          3.3677568435668945,
          2.650381565093994,
          8.568328857421875,
          5.256993770599365,
          6.492166042327881,
          4.667540073394775,
          -0.5910971164703369,
          0.5119333863258362,
          5.090964317321777,
          8.727802276611328,
          9.87224292755127,
          -0.7261353731155396,
          6.2103705406188965,
          6.404481887817383,
          10.185824394226074,
          9.2788724899292,
          7.09299373626709,
          -0.7658905982971191,
          3.056014060974121,
          2.6531081199645996,
          6.905505657196045,
          1.4330353736877441,
          6.449716567993164,
          9.680298805236816,
          2.0856666564941406,
          9.723872184753418,
          3.112609386444092,
          6.439695358276367,
          8.33873462677002,
          9.275423049926758,
          2.2701165676116943,
          2.3891701698303223,
          3.6656339168548584,
          0.8884581327438354,
          7.063168525695801,
          4.629517078399658,
          5.078615665435791,
          2.1733314990997314,
          2.1520915031433105,
          6.59065580368042,
          9.30574893951416,
          2.7010915279388428,
          8.599847793579102,
          9.206804275512695,
          6.958850383758545,
          7.134227275848389,
          9.64069652557373,
          10.263503074645996,
          -0.12514600157737732,
          4.35603141784668,
          -0.6897029280662537,
          9.103401184082031,
          8.506425857543945,
          2.3249258995056152,
          -0.006408545654267073,
          -2.4302027225494385,
          2.314483404159546,
          -0.9024179577827454,
          7.588252067565918,
          3.5587680339813232,
          9.032825469970703,
          4.668553352355957,
          5.990201473236084,
          7.715633869171143,
          6.370267391204834,
          10.442819595336914,
          5.654294013977051,
          0.04484071582555771,
          8.379170417785645,
          3.943978786468506,
          4.954422950744629,
          -1.2298974990844727,
          4.973738670349121,
          -1.1356693506240845,
          3.5714707374572754,
          4.553280353546143,
          6.351848602294922,
          6.934852123260498,
          -1.989927887916565,
          2.0605595111846924,
          2.5307724475860596,
          6.59492301940918,
          5.230823516845703,
          3.817678928375244,
          -2.6434218883514404,
          6.014398097991943,
          7.955183029174805,
          7.296014785766602,
          8.858260154724121,
          10.27982234954834,
          3.6789987087249756,
          4.393641471862793,
          3.1433029174804688
         ]
        }
       ],
       "layout": {
        "height": 800,
        "legend": {
         "title": {
          "text": "Dominant_Topic"
         },
         "tracegroupgap": 0
        },
        "scene": {
         "domain": {
          "x": [
           0,
           1
          ],
          "y": [
           0,
           1
          ]
         },
         "xaxis": {
          "title": {
           "text": "0"
          }
         },
         "yaxis": {
          "title": {
           "text": "1"
          }
         },
         "zaxis": {
          "title": {
           "text": "2"
          }
         }
        },
        "template": {
         "data": {
          "bar": [
           {
            "error_x": {
             "color": "#2a3f5f"
            },
            "error_y": {
             "color": "#2a3f5f"
            },
            "marker": {
             "line": {
              "color": "#E5ECF6",
              "width": 0.5
             }
            },
            "type": "bar"
           }
          ],
          "barpolar": [
           {
            "marker": {
             "line": {
              "color": "#E5ECF6",
              "width": 0.5
             }
            },
            "type": "barpolar"
           }
          ],
          "carpet": [
           {
            "aaxis": {
             "endlinecolor": "#2a3f5f",
             "gridcolor": "white",
             "linecolor": "white",
             "minorgridcolor": "white",
             "startlinecolor": "#2a3f5f"
            },
            "baxis": {
             "endlinecolor": "#2a3f5f",
             "gridcolor": "white",
             "linecolor": "white",
             "minorgridcolor": "white",
             "startlinecolor": "#2a3f5f"
            },
            "type": "carpet"
           }
          ],
          "choropleth": [
           {
            "colorbar": {
             "outlinewidth": 0,
             "ticks": ""
            },
            "type": "choropleth"
           }
          ],
          "contour": [
           {
            "colorbar": {
             "outlinewidth": 0,
             "ticks": ""
            },
            "colorscale": [
             [
              0,
              "#0d0887"
             ],
             [
              0.1111111111111111,
              "#46039f"
             ],
             [
              0.2222222222222222,
              "#7201a8"
             ],
             [
              0.3333333333333333,
              "#9c179e"
             ],
             [
              0.4444444444444444,
              "#bd3786"
             ],
             [
              0.5555555555555556,
              "#d8576b"
             ],
             [
              0.6666666666666666,
              "#ed7953"
             ],
             [
              0.7777777777777778,
              "#fb9f3a"
             ],
             [
              0.8888888888888888,
              "#fdca26"
             ],
             [
              1,
              "#f0f921"
             ]
            ],
            "type": "contour"
           }
          ],
          "contourcarpet": [
           {
            "colorbar": {
             "outlinewidth": 0,
             "ticks": ""
            },
            "type": "contourcarpet"
           }
          ],
          "heatmap": [
           {
            "colorbar": {
             "outlinewidth": 0,
             "ticks": ""
            },
            "colorscale": [
             [
              0,
              "#0d0887"
             ],
             [
              0.1111111111111111,
              "#46039f"
             ],
             [
              0.2222222222222222,
              "#7201a8"
             ],
             [
              0.3333333333333333,
              "#9c179e"
             ],
             [
              0.4444444444444444,
              "#bd3786"
             ],
             [
              0.5555555555555556,
              "#d8576b"
             ],
             [
              0.6666666666666666,
              "#ed7953"
             ],
             [
              0.7777777777777778,
              "#fb9f3a"
             ],
             [
              0.8888888888888888,
              "#fdca26"
             ],
             [
              1,
              "#f0f921"
             ]
            ],
            "type": "heatmap"
           }
          ],
          "heatmapgl": [
           {
            "colorbar": {
             "outlinewidth": 0,
             "ticks": ""
            },
            "colorscale": [
             [
              0,
              "#0d0887"
             ],
             [
              0.1111111111111111,
              "#46039f"
             ],
             [
              0.2222222222222222,
              "#7201a8"
             ],
             [
              0.3333333333333333,
              "#9c179e"
             ],
             [
              0.4444444444444444,
              "#bd3786"
             ],
             [
              0.5555555555555556,
              "#d8576b"
             ],
             [
              0.6666666666666666,
              "#ed7953"
             ],
             [
              0.7777777777777778,
              "#fb9f3a"
             ],
             [
              0.8888888888888888,
              "#fdca26"
             ],
             [
              1,
              "#f0f921"
             ]
            ],
            "type": "heatmapgl"
           }
          ],
          "histogram": [
           {
            "marker": {
             "colorbar": {
              "outlinewidth": 0,
              "ticks": ""
             }
            },
            "type": "histogram"
           }
          ],
          "histogram2d": [
           {
            "colorbar": {
             "outlinewidth": 0,
             "ticks": ""
            },
            "colorscale": [
             [
              0,
              "#0d0887"
             ],
             [
              0.1111111111111111,
              "#46039f"
             ],
             [
              0.2222222222222222,
              "#7201a8"
             ],
             [
              0.3333333333333333,
              "#9c179e"
             ],
             [
              0.4444444444444444,
              "#bd3786"
             ],
             [
              0.5555555555555556,
              "#d8576b"
             ],
             [
              0.6666666666666666,
              "#ed7953"
             ],
             [
              0.7777777777777778,
              "#fb9f3a"
             ],
             [
              0.8888888888888888,
              "#fdca26"
             ],
             [
              1,
              "#f0f921"
             ]
            ],
            "type": "histogram2d"
           }
          ],
          "histogram2dcontour": [
           {
            "colorbar": {
             "outlinewidth": 0,
             "ticks": ""
            },
            "colorscale": [
             [
              0,
              "#0d0887"
             ],
             [
              0.1111111111111111,
              "#46039f"
             ],
             [
              0.2222222222222222,
              "#7201a8"
             ],
             [
              0.3333333333333333,
              "#9c179e"
             ],
             [
              0.4444444444444444,
              "#bd3786"
             ],
             [
              0.5555555555555556,
              "#d8576b"
             ],
             [
              0.6666666666666666,
              "#ed7953"
             ],
             [
              0.7777777777777778,
              "#fb9f3a"
             ],
             [
              0.8888888888888888,
              "#fdca26"
             ],
             [
              1,
              "#f0f921"
             ]
            ],
            "type": "histogram2dcontour"
           }
          ],
          "mesh3d": [
           {
            "colorbar": {
             "outlinewidth": 0,
             "ticks": ""
            },
            "type": "mesh3d"
           }
          ],
          "parcoords": [
           {
            "line": {
             "colorbar": {
              "outlinewidth": 0,
              "ticks": ""
             }
            },
            "type": "parcoords"
           }
          ],
          "pie": [
           {
            "automargin": true,
            "type": "pie"
           }
          ],
          "scatter": [
           {
            "marker": {
             "colorbar": {
              "outlinewidth": 0,
              "ticks": ""
             }
            },
            "type": "scatter"
           }
          ],
          "scatter3d": [
           {
            "line": {
             "colorbar": {
              "outlinewidth": 0,
              "ticks": ""
             }
            },
            "marker": {
             "colorbar": {
              "outlinewidth": 0,
              "ticks": ""
             }
            },
            "type": "scatter3d"
           }
          ],
          "scattercarpet": [
           {
            "marker": {
             "colorbar": {
              "outlinewidth": 0,
              "ticks": ""
             }
            },
            "type": "scattercarpet"
           }
          ],
          "scattergeo": [
           {
            "marker": {
             "colorbar": {
              "outlinewidth": 0,
              "ticks": ""
             }
            },
            "type": "scattergeo"
           }
          ],
          "scattergl": [
           {
            "marker": {
             "colorbar": {
              "outlinewidth": 0,
              "ticks": ""
             }
            },
            "type": "scattergl"
           }
          ],
          "scattermapbox": [
           {
            "marker": {
             "colorbar": {
              "outlinewidth": 0,
              "ticks": ""
             }
            },
            "type": "scattermapbox"
           }
          ],
          "scatterpolar": [
           {
            "marker": {
             "colorbar": {
              "outlinewidth": 0,
              "ticks": ""
             }
            },
            "type": "scatterpolar"
           }
          ],
          "scatterpolargl": [
           {
            "marker": {
             "colorbar": {
              "outlinewidth": 0,
              "ticks": ""
             }
            },
            "type": "scatterpolargl"
           }
          ],
          "scatterternary": [
           {
            "marker": {
             "colorbar": {
              "outlinewidth": 0,
              "ticks": ""
             }
            },
            "type": "scatterternary"
           }
          ],
          "surface": [
           {
            "colorbar": {
             "outlinewidth": 0,
             "ticks": ""
            },
            "colorscale": [
             [
              0,
              "#0d0887"
             ],
             [
              0.1111111111111111,
              "#46039f"
             ],
             [
              0.2222222222222222,
              "#7201a8"
             ],
             [
              0.3333333333333333,
              "#9c179e"
             ],
             [
              0.4444444444444444,
              "#bd3786"
             ],
             [
              0.5555555555555556,
              "#d8576b"
             ],
             [
              0.6666666666666666,
              "#ed7953"
             ],
             [
              0.7777777777777778,
              "#fb9f3a"
             ],
             [
              0.8888888888888888,
              "#fdca26"
             ],
             [
              1,
              "#f0f921"
             ]
            ],
            "type": "surface"
           }
          ],
          "table": [
           {
            "cells": {
             "fill": {
              "color": "#EBF0F8"
             },
             "line": {
              "color": "white"
             }
            },
            "header": {
             "fill": {
              "color": "#C8D4E3"
             },
             "line": {
              "color": "white"
             }
            },
            "type": "table"
           }
          ]
         },
         "layout": {
          "annotationdefaults": {
           "arrowcolor": "#2a3f5f",
           "arrowhead": 0,
           "arrowwidth": 1
          },
          "coloraxis": {
           "colorbar": {
            "outlinewidth": 0,
            "ticks": ""
           }
          },
          "colorscale": {
           "diverging": [
            [
             0,
             "#8e0152"
            ],
            [
             0.1,
             "#c51b7d"
            ],
            [
             0.2,
             "#de77ae"
            ],
            [
             0.3,
             "#f1b6da"
            ],
            [
             0.4,
             "#fde0ef"
            ],
            [
             0.5,
             "#f7f7f7"
            ],
            [
             0.6,
             "#e6f5d0"
            ],
            [
             0.7,
             "#b8e186"
            ],
            [
             0.8,
             "#7fbc41"
            ],
            [
             0.9,
             "#4d9221"
            ],
            [
             1,
             "#276419"
            ]
           ],
           "sequential": [
            [
             0,
             "#0d0887"
            ],
            [
             0.1111111111111111,
             "#46039f"
            ],
            [
             0.2222222222222222,
             "#7201a8"
            ],
            [
             0.3333333333333333,
             "#9c179e"
            ],
            [
             0.4444444444444444,
             "#bd3786"
            ],
            [
             0.5555555555555556,
             "#d8576b"
            ],
            [
             0.6666666666666666,
             "#ed7953"
            ],
            [
             0.7777777777777778,
             "#fb9f3a"
            ],
            [
             0.8888888888888888,
             "#fdca26"
            ],
            [
             1,
             "#f0f921"
            ]
           ],
           "sequentialminus": [
            [
             0,
             "#0d0887"
            ],
            [
             0.1111111111111111,
             "#46039f"
            ],
            [
             0.2222222222222222,
             "#7201a8"
            ],
            [
             0.3333333333333333,
             "#9c179e"
            ],
            [
             0.4444444444444444,
             "#bd3786"
            ],
            [
             0.5555555555555556,
             "#d8576b"
            ],
            [
             0.6666666666666666,
             "#ed7953"
            ],
            [
             0.7777777777777778,
             "#fb9f3a"
            ],
            [
             0.8888888888888888,
             "#fdca26"
            ],
            [
             1,
             "#f0f921"
            ]
           ]
          },
          "colorway": [
           "#636efa",
           "#EF553B",
           "#00cc96",
           "#ab63fa",
           "#FFA15A",
           "#19d3f3",
           "#FF6692",
           "#B6E880",
           "#FF97FF",
           "#FECB52"
          ],
          "font": {
           "color": "#2a3f5f"
          },
          "geo": {
           "bgcolor": "white",
           "lakecolor": "white",
           "landcolor": "#E5ECF6",
           "showlakes": true,
           "showland": true,
           "subunitcolor": "white"
          },
          "hoverlabel": {
           "align": "left"
          },
          "hovermode": "closest",
          "mapbox": {
           "style": "light"
          },
          "paper_bgcolor": "white",
          "plot_bgcolor": "#E5ECF6",
          "polar": {
           "angularaxis": {
            "gridcolor": "white",
            "linecolor": "white",
            "ticks": ""
           },
           "bgcolor": "#E5ECF6",
           "radialaxis": {
            "gridcolor": "white",
            "linecolor": "white",
            "ticks": ""
           }
          },
          "scene": {
           "xaxis": {
            "backgroundcolor": "#E5ECF6",
            "gridcolor": "white",
            "gridwidth": 2,
            "linecolor": "white",
            "showbackground": true,
            "ticks": "",
            "zerolinecolor": "white"
           },
           "yaxis": {
            "backgroundcolor": "#E5ECF6",
            "gridcolor": "white",
            "gridwidth": 2,
            "linecolor": "white",
            "showbackground": true,
            "ticks": "",
            "zerolinecolor": "white"
           },
           "zaxis": {
            "backgroundcolor": "#E5ECF6",
            "gridcolor": "white",
            "gridwidth": 2,
            "linecolor": "white",
            "showbackground": true,
            "ticks": "",
            "zerolinecolor": "white"
           }
          },
          "shapedefaults": {
           "line": {
            "color": "#2a3f5f"
           }
          },
          "ternary": {
           "aaxis": {
            "gridcolor": "white",
            "linecolor": "white",
            "ticks": ""
           },
           "baxis": {
            "gridcolor": "white",
            "linecolor": "white",
            "ticks": ""
           },
           "bgcolor": "#E5ECF6",
           "caxis": {
            "gridcolor": "white",
            "linecolor": "white",
            "ticks": ""
           }
          },
          "title": {
           "x": 0.05
          },
          "xaxis": {
           "automargin": true,
           "gridcolor": "white",
           "linecolor": "white",
           "ticks": "",
           "title": {
            "standoff": 15
           },
           "zerolinecolor": "white",
           "zerolinewidth": 2
          },
          "yaxis": {
           "automargin": true,
           "gridcolor": "white",
           "linecolor": "white",
           "ticks": "",
           "title": {
            "standoff": 15
           },
           "zerolinecolor": "white",
           "zerolinewidth": 2
          }
         }
        },
        "title": {
         "text": "3d TSNE Plot for Topic Model"
        },
        "width": 900
       }
      },
      "text/html": [
       "<div>                            <div id=\"5e60b8e7-b0fa-4124-b131-da2e7ca6eed4\" class=\"plotly-graph-div\" style=\"height:800px; width:900px;\"></div>            <script type=\"text/javascript\">                require([\"plotly\"], function(Plotly) {                    window.PLOTLYENV=window.PLOTLYENV || {};                                    if (document.getElementById(\"5e60b8e7-b0fa-4124-b131-da2e7ca6eed4\")) {                    Plotly.newPlot(                        \"5e60b8e7-b0fa-4124-b131-da2e7ca6eed4\",                        [{\"hovertemplate\": \"Dominant_Topic=Topic 0<br>0=%{x}<br>1=%{y}<br>2=%{z}<extra></extra>\", \"legendgroup\": \"Topic 0\", \"marker\": {\"color\": \"#636efa\", \"opacity\": 0.7, \"symbol\": \"circle\"}, \"mode\": \"markers\", \"name\": \"Topic 0\", \"scene\": \"scene\", \"showlegend\": true, \"type\": \"scatter3d\", \"x\": [12.461377143859863, 13.197938919067383, 12.971099853515625, 12.646306991577148, 12.33555793762207, 13.097892761230469, 12.774681091308594, 13.172595024108887, 12.614279747009277, 12.09565544128418, 13.068900108337402, 12.577010154724121, 12.535724639892578, 13.119537353515625, 13.000690460205078, 13.121411323547363, 12.763254165649414, 13.254207611083984, 12.704296112060547, 13.341286659240723, 12.618955612182617, 12.322333335876465, 13.092679977416992, 13.124971389770508, 12.605045318603516, 12.461071968078613, 12.766385078430176], \"y\": [-8.679792404174805, -9.2130765914917, -8.819847106933594, -9.052971839904785, -8.879376411437988, -8.633528709411621, -9.386626243591309, -8.885656356811523, -8.645472526550293, -9.104392051696777, -9.439888000488281, -9.001587867736816, -9.326566696166992, -8.686102867126465, -9.128254890441895, -9.41100788116455, -8.745748519897461, -8.745576858520508, -9.465909004211426, -9.01906681060791, -8.554829597473145, -9.192741394042969, -9.124302864074707, -9.223207473754883, -8.984557151794434, -9.355522155761719, -8.537809371948242], \"z\": [0.015036768279969692, -0.3969058692455292, 0.30959340929985046, -0.6499882340431213, -0.35171735286712646, -0.30018866062164307, 0.16649511456489563, -0.457234263420105, -0.5276069045066833, -0.3876572549343109, -0.20358003675937653, 0.27553918957710266, -0.4214171767234802, 0.13260433077812195, -0.5813220739364624, -0.06348710507154465, -0.5892221927642822, -0.035910289734601974, -0.27952736616134644, -0.1361422836780548, -0.2295798361301422, -0.04543338716030121, 0.2827959358692169, 0.21821193397045135, 0.2908625900745392, -0.03992670774459839, 0.03335133194923401]}, {\"hovertemplate\": \"Dominant_Topic=Topic 1<br>0=%{x}<br>1=%{y}<br>2=%{z}<extra></extra>\", \"legendgroup\": \"Topic 1\", \"marker\": {\"color\": \"#EF553B\", \"opacity\": 0.7, \"symbol\": \"circle\"}, \"mode\": \"markers\", \"name\": \"Topic 1\", \"scene\": \"scene\", \"showlegend\": true, \"type\": \"scatter3d\", \"x\": [-11.336559295654297, -12.25554370880127, -9.125557899475098, -10.735450744628906, -8.388506889343262, -4.4045491218566895, -9.788105010986328, -10.2904634475708, -8.77265739440918, -8.610380172729492, -9.777464866638184, -8.283358573913574, -11.265985488891602, -3.6913225650787354, -10.61862850189209, -7.187302589416504, -12.653956413269043, -9.628410339355469, -5.198911190032959, -6.876312255859375, -7.637598514556885, -9.995257377624512, -4.648967266082764, -6.824005126953125, -3.792884588241577, -3.5402631759643555, -3.5675175189971924, -12.923535346984863, -3.959918260574341, -5.874968528747559, -10.128396034240723, -7.188383102416992, -8.22705078125, -8.371088981628418, -11.809173583984375, -1.8949304819107056, -9.112493515014648, -5.1493754386901855, -4.407698154449463, -3.1623690128326416, -10.55914306640625, -6.053211212158203, -10.573103904724121, -9.161782264709473, -4.121219635009766, -4.780694007873535, -10.446892738342285, -5.447578430175781, -12.084698677062988, -6.667973041534424, -9.718151092529297, -5.619321823120117, -9.829031944274902, -4.938360214233398, -10.046738624572754, -13.050482749938965, -11.257457733154297, -10.412423133850098, -6.767697334289551, -4.538821697235107, -2.9092533588409424, -6.324926853179932, -7.108537673950195, -5.6045145988464355, -4.201778888702393, -6.569887161254883, -12.989487648010254, -4.175476551055908, -6.042645454406738, -8.647832870483398, -4.848913192749023, -8.71122932434082, -7.229645252227783, -13.52921199798584, -5.277090549468994, -5.514963150024414, -4.2019219398498535, -10.503326416015625, -8.558571815490723, -13.144699096679688, -10.036275863647461, -9.761270523071289, -6.506487846374512, -11.847884178161621, -4.0754780769348145, -3.75754976272583, -11.003299713134766, -11.905942916870117, -6.9500813484191895, -9.148534774780273, -13.419203758239746, -8.962738037109375, -9.083410263061523, -6.003204822540283, -13.67574691772461, -8.296945571899414, -9.627405166625977, -5.71004581451416, -9.707140922546387, -8.476823806762695, -4.151865005493164, -11.32497501373291, -6.3921685218811035, -12.247621536254883, -12.148879051208496, -12.882408142089844, -6.125295162200928, -11.302681922912598, -13.504343032836914, -13.080119132995605, -9.036286354064941, -7.290408611297607, -8.23231315612793, -5.644914627075195, -12.34798812866211, -9.168587684631348, -9.780112266540527, -3.3091330528259277, -13.74866771697998, -7.782129764556885, -11.540862083435059, -4.108703136444092, -7.679609775543213, -6.114731788635254, -8.649374961853027, -5.023038864135742, -12.497098922729492, -7.261301040649414, -8.684706687927246, -11.08996868133545, -2.3252174854278564, -9.722225189208984, -2.994300365447998, -3.619943380355835, -13.37144947052002, -8.327269554138184, -3.436771869659424, -11.47469425201416, -7.416926383972168, -8.033485412597656, -7.592490196228027, -13.845751762390137, -11.472299575805664, -12.659666061401367, -11.219839096069336, -3.5811374187469482, -5.167865753173828, -8.154648780822754, -11.909125328063965, -5.437245845794678, -7.838234901428223, -4.981017589569092, -13.208398818969727, -7.870716571807861, -6.187483787536621, -8.139582633972168, -5.87204122543335, -7.871906757354736, -10.254515647888184, -10.862316131591797, -6.205854415893555, -10.217485427856445, -3.0594143867492676, -4.398231029510498, -10.98891544342041, -12.1751127243042, -11.731374740600586, -6.367880344390869, -3.895310163497925, -7.988759517669678, -6.966767311096191, -8.663897514343262, -11.875946044921875, -6.609341144561768, -6.127038955688477, -11.728856086730957, -10.875864028930664, -4.188053607940674, -6.880253314971924, -7.7789459228515625, -6.76350212097168, -13.104644775390625, -3.5770328044891357, -8.330276489257812, -8.438015937805176, -4.362660884857178, -4.487905502319336, -10.783849716186523, -2.7350656986236572, -2.744147539138794, -3.9306464195251465, -5.017233848571777, -10.464729309082031, -6.2264299392700195, -9.075464248657227, -5.606533527374268, -7.6718974113464355, -6.870811939239502, -8.155811309814453, -9.183842658996582, -10.519773483276367, -7.549826622009277, -12.067142486572266, -13.784384727478027, -6.388150691986084, -5.571376323699951, -3.468829870223999, -2.9296393394470215, -4.986200332641602, -12.144890785217285, -9.821669578552246, -7.8854522705078125, -9.34398365020752, -10.477280616760254, -7.750625133514404, -5.434975624084473, -3.3722002506256104, -11.293803215026855, -12.148157119750977, -13.825818061828613, -8.726991653442383, -3.5224289894104004, -2.6871092319488525, -9.038162231445312, -9.944501876831055, -12.692275047302246, -9.720742225646973, -2.384945869445801, -3.2336041927337646, -5.425365447998047, -6.868229866027832, -13.18588924407959, -13.139081001281738, -11.502995491027832, -3.1581408977508545, -10.64571475982666, -4.386431694030762, -13.561190605163574, -8.790802001953125, -13.194839477539062, -4.159761428833008, -6.212569236755371, -8.136775016784668, -9.16721248626709, -8.264930725097656, -7.150796890258789, -6.750133514404297, -3.2338805198669434, -2.9313995838165283, -5.760649681091309, -10.677730560302734, -10.792319297790527, -11.659745216369629, -4.385897159576416, -9.473621368408203, -4.235479831695557, -9.358407020568848, -4.824115753173828, -5.746121406555176, -10.311711311340332, -6.213992595672607, -8.275213241577148, -8.496006965637207, -11.415154457092285, -12.94471549987793, -12.30694580078125, -7.631777286529541, -8.083707809448242, -8.504775047302246, -9.488154411315918, -5.622474193572998, -4.244411468505859, -4.318394184112549, -3.8979272842407227, -8.610767364501953, -8.349249839782715, -9.155462265014648, -4.50836706161499, -13.677080154418945, -9.240718841552734, -2.6700944900512695, -11.855350494384766, -6.572741508483887, -7.14732027053833, -7.978322982788086, -13.221567153930664, -7.0956549644470215, -12.887866020202637, -11.801351547241211, -3.1629106998443604, -11.409015655517578, -13.628578186035156, -12.595067977905273, -4.09787654876709, -2.367030620574951, -11.17148494720459, -9.704928398132324, -10.31519889831543, -12.173714637756348, -4.639205455780029, -8.8941011428833, -6.267449855804443, -4.696484088897705, -6.6829094886779785, -12.35267162322998, -6.413661956787109, -11.434638977050781, -13.742715835571289, -5.09457540512085, -4.987793445587158, -13.450262069702148, -7.248115539550781, -4.85573673248291, -4.097535610198975, -7.155849933624268, -8.440701484680176, -9.964852333068848, -9.097283363342285, -11.646053314208984, -11.777250289916992, -13.187491416931152, -2.8616082668304443, -7.299717903137207, -12.1146240234375, -9.682806968688965, -7.422421455383301, -7.161452293395996, -8.940021514892578, -12.474804878234863, -5.239333629608154], \"y\": [7.516102313995361, 6.715305328369141, 7.30769157409668, 7.526478290557861, 2.155935049057007, -0.5877360701560974, 7.451560974121094, 7.49672269821167, 2.383204698562622, 2.2025318145751953, 7.383915901184082, 2.3751020431518555, 6.33336877822876, -0.655851423740387, 7.132999897003174, 6.609385013580322, 6.789398670196533, 7.423348903656006, 5.820968151092529, 2.1216020584106445, 6.851497650146484, 4.2125067710876465, -0.37420669198036194, 1.8070952892303467, -0.8114593029022217, 1.7738016843795776, -1.1029701232910156, 8.138051986694336, 5.052091121673584, 5.87355899810791, 4.308106422424316, 2.0799758434295654, 3.941248893737793, 4.12443733215332, 7.514066696166992, 3.849172353744507, 7.299532890319824, -0.22018224000930786, 1.881530523300171, 2.138085126876831, 7.511445999145508, 3.067861795425415, 7.496029853820801, 7.346664905548096, -0.4507499933242798, -0.33296826481819153, 7.499080657958984, 0.6324656009674072, 7.688839912414551, 6.4426116943359375, 3.388805866241455, 6.021251201629639, 7.4613518714904785, 5.402925968170166, 7.495479106903076, 8.247415542602539, 5.356658935546875, 5.087775230407715, 6.495204448699951, 1.954795479774475, -1.171355128288269, 0.9190115928649902, 0.9119568467140198, 0.030856017023324966, 1.3176623582839966, 3.8280768394470215, 8.207282066345215, 5.186376571655273, 6.210284233093262, 7.245862007141113, 5.261811256408691, 7.23825740814209, 6.584283828735352, 8.670633316040039, -0.16515983641147614, 0.1043328270316124, 2.4750287532806396, 7.543840408325195, 4.531163215637207, 8.260523796081543, 4.250671863555908, 3.6225481033325195, 6.197072982788086, 6.353316307067871, 1.9959427118301392, -0.7109530568122864, 5.859277725219727, 6.2193756103515625, 1.539228081703186, 4.545568943023682, 8.113629341125488, 3.362222671508789, 2.757134199142456, 4.158627510070801, 8.800105094909668, 3.1691014766693115, 3.2830519676208496, 0.7856191992759705, 4.732568740844727, 2.929882526397705, 2.224914073944092, 6.6808977127075195, 1.24540376663208, 7.561718940734863, 7.7048749923706055, 8.128924369812012, 0.31977659463882446, 7.396103858947754, 8.194684982299805, 8.287456512451172, 2.6440532207489014, 2.4166786670684814, 1.8567357063293457, 0.4320422112941742, 6.852360725402832, 7.342107772827148, 3.516993999481201, 4.47305154800415, 8.64686107635498, 1.4455076456069946, 5.675398349761963, -0.674911618232727, 1.3573426008224487, 6.219859600067139, 3.265045166015625, 5.724769115447998, 7.8305511474609375, 1.0317596197128296, 3.5150532722473145, 5.081156253814697, 1.303897738456726, 7.420229434967041, -0.9022328853607178, 2.181765079498291, 8.327324867248535, 1.9256629943847656, 4.7739458084106445, 5.73803186416626, 1.152778148651123, 1.6597844362258911, 1.2859212160110474, 8.43237590789795, 5.628104209899902, 7.963371753692627, 6.776645183563232, 2.3412299156188965, 0.2666472792625427, 4.159457683563232, 6.245034694671631, 5.944170951843262, 0.5342810153961182, -0.14037330448627472, 8.575901985168457, 4.29448938369751, 3.8334388732910156, 5.711752414703369, 1.1466671228408813, 6.949610710144043, 7.445914268493652, 5.509836196899414, 3.619014024734497, 4.557285785675049, 4.5560736656188965, 1.5344221591949463, 7.409789562225342, 7.707420825958252, 7.610439777374268, 1.273807168006897, -0.9183425903320312, 1.988867163658142, 6.532620906829834, 4.6048903465271, 6.294227600097656, 6.353704452514648, 3.7797861099243164, 7.567840576171875, 4.803996562957764, 5.227015972137451, 1.8072395324707031, 1.80756676197052, 0.7007814645767212, 8.467950820922852, -0.46919071674346924, 2.113865375518799, 2.033304452896118, 4.520437240600586, 5.419196128845215, 5.292437553405762, -1.1598752737045288, -1.4512256383895874, 1.7977813482284546, 0.219642773270607, 4.27970552444458, 4.025435924530029, 3.4268946647644043, 4.550146102905273, 6.885185718536377, 1.7470372915267944, 1.7552521228790283, 2.8325459957122803, 4.350314140319824, 2.744155168533325, 6.898319721221924, 8.420098304748535, 4.054431915283203, 0.2776471972465515, 4.818103313446045, -1.3630324602127075, 3.691906213760376, 7.720842361450195, 3.495147705078125, 6.982874870300293, 3.9154624938964844, 4.305247783660889, 1.6732524633407593, 5.951529502868652, 4.580182075500488, 7.506479263305664, 7.646657943725586, 8.287946701049805, 4.5123162269592285, 1.721268653869629, -1.6218408346176147, 5.22773551940918, 3.987616539001465, 7.315621376037598, 3.3975565433502197, 2.254796028137207, -1.0734575986862183, -0.0791933685541153, 0.7616384625434875, 8.200542449951172, 8.378594398498535, 7.504774570465088, 4.615128993988037, 4.504512310028076, 2.627329111099243, 8.057441711425781, 2.403341054916382, 8.331608772277832, 2.4791324138641357, 1.370568037033081, 1.7391949892044067, 3.5265989303588867, 2.2340588569641113, 6.31089448928833, 6.103274345397949, 4.144951343536377, -1.2109971046447754, 2.3572335243225098, 7.539788722991943, 6.501368522644043, 7.455291271209717, 4.126613140106201, 3.137502431869507, -0.5555654168128967, 7.362724781036377, -0.4161991775035858, 6.080585479736328, 4.8195695877075195, 0.9844797849655151, 7.118856430053711, 2.262845516204834, 5.522319793701172, 8.168292999267578, 7.764554023742676, 2.0413002967834473, 3.1525022983551025, 2.7953407764434814, 5.374357223510742, 0.040015168488025665, -0.6264908909797668, 2.0584888458251953, 1.56685209274292, 7.230833530426025, 7.01994514465332, 3.505772113800049, -0.477099746465683, 8.322439193725586, 3.707655906677246, 1.7113107442855835, 7.548152446746826, 5.1353559494018555, 5.069277763366699, 2.1436355113983154, 8.72138500213623, 6.493999481201172, 8.120314598083496, 7.522168159484863, 4.600237846374512, 5.50860595703125, 8.069483757019043, 6.877712249755859, -0.6186578273773193, 0.8293603658676147, 5.942871570587158, 3.372321605682373, 7.5244059562683105, 7.713158130645752, 5.4806647300720215, 4.7041449546813965, 3.703139305114746, -0.19223769009113312, 1.5552846193313599, 6.86390495300293, 2.50512957572937, 5.550355434417725, 8.710389137268066, -0.2648319602012634, 4.311602592468262, 8.838827133178711, 1.0027375221252441, 5.5138349533081055, 2.662421226501465, 6.468656539916992, 3.794443368911743, 7.475183486938477, 4.79593563079834, 5.85401725769043, 7.587372779846191, 8.517934799194336, 2.5556652545928955, 1.076862096786499, 7.715555191040039, 3.365079402923584, 2.5342142581939697, 1.3765559196472168, 4.431429862976074, 7.817644119262695, 0.03799838572740555], \"z\": [2.81195330619812, 8.79940128326416, -0.4886954426765442, 1.6080584526062012, 4.65142822265625, 4.778056621551514, 0.1715836226940155, 0.848189651966095, 6.2862772941589355, 6.774051189422607, 0.18259090185165405, 3.399169921875, 4.187288761138916, 2.2593533992767334, 1.7562049627304077, -2.1235809326171875, 3.5575530529022217, -0.006434957031160593, -3.311405658721924, 1.3948694467544556, -1.774629831314087, 4.692183494567871, 4.273119926452637, 1.8065842390060425, 3.3695857524871826, -2.0423781871795654, 5.197726726531982, 7.567569255828857, -3.7870442867279053, -2.8064873218536377, 5.0589447021484375, 1.8645896911621094, 0.8390544652938843, 0.8237271904945374, 3.912095308303833, -4.552243709564209, -0.4989076554775238, 5.344703674316406, -1.0801583528518677, -2.7327425479888916, 1.2943919897079468, -0.5614112019538879, 1.3326642513275146, -0.4664994776248932, 2.7307350635528564, 4.5461344718933105, 1.1058261394500732, 2.22892427444458, 4.5347514152526855, -2.497459888458252, 6.918211460113525, -3.102982997894287, 0.21777400374412537, -3.253304958343506, 0.48855674266815186, 7.8659348487854, 7.852368354797363, 4.031513214111328, -2.43934965133667, -1.0150575637817383, 1.5668444633483887, 3.1504900455474854, 6.306440353393555, 5.562619686126709, -0.5789374113082886, -0.7824003100395203, 7.668760299682617, -3.7072393894195557, -2.8753230571746826, -0.9240666627883911, -3.231557607650757, -0.8603190779685974, -2.0772194862365723, 9.843708038330078, 5.513044834136963, 4.683492660522461, -1.8923263549804688, 1.1664797067642212, 0.6484434008598328, 9.527050018310547, 4.767544746398926, 5.923244953155518, -2.5023350715637207, 7.6638264656066895, -1.592418909072876, 2.6563026905059814, 4.315253734588623, 8.519403457641602, 2.56486177444458, 1.5719181299209595, 9.11458969116211, 2.8717081546783447, 6.012317180633545, -1.5613104104995728, 9.374177932739258, 1.8992775678634644, 6.895107746124268, 2.2998292446136475, 2.5758800506591797, 2.6183485984802246, -1.7250920534133911, 3.7742044925689697, 2.2957043647766113, 5.656643390655518, 4.750618934631348, 7.361300945281982, 5.906007289886475, 2.856247663497925, 9.780765533447266, 7.8890604972839355, 6.712310791015625, 1.4856773614883423, 5.759448051452637, 3.4044623374938965, 8.85053539276123, -0.4581238329410553, 6.593440532684326, -3.931636333465576, 9.234375, 6.6327433586120605, 8.351119041442871, 3.994652509689331, 6.567803382873535, -2.823078155517578, 2.3785252571105957, -3.3900506496429443, 6.199934005737305, 6.451381683349609, 2.073753833770752, 7.945720195770264, -3.2423415184020996, 0.10270697623491287, 1.1727136373519897, -2.277897596359253, 9.827352523803711, 6.623547554016113, -4.008306980133057, 7.683019638061523, 6.522827625274658, 5.833783149719238, 6.546682834625244, 9.270735740661621, 8.11602783203125, 6.6636810302734375, 3.3969805240631104, -2.4334030151367188, 2.692296028137207, 0.532136857509613, 8.450069427490234, -3.199336290359497, 6.371453762054443, 4.125783920288086, 9.144777297973633, 0.11985717713832855, -1.157633662223816, -2.2426438331604004, 1.750394582748413, -1.5760692358016968, 0.8208197951316833, 4.63538932800293, -0.9545337557792664, 4.619746685028076, -4.152434825897217, -0.6469889879226685, 2.2144205570220947, 4.857475757598877, 3.625814437866211, 2.188710927963257, 5.190760612487793, 3.6706976890563965, -2.291274070739746, 0.7109204530715942, 8.059117317199707, -2.5041298866271973, -1.168757438659668, 3.6552751064300537, 7.769116401672363, -3.722865104675293, 1.884397029876709, 3.6449339389801025, 6.269425392150879, 9.24727725982666, 1.550207257270813, 4.551112174987793, 6.677730083465576, -3.1398141384124756, -3.6126348972320557, 4.936853408813477, 0.9929933547973633, 1.791373610496521, -1.5667611360549927, 2.583925485610962, 7.458481788635254, -1.2718113660812378, 3.0348033905029297, -2.156905174255371, -1.749788761138916, 1.9792014360427856, 6.34683895111084, 6.391349792480469, 7.49400520324707, 1.377408742904663, 6.986508846282959, 9.78633975982666, -1.229514479637146, 3.9035844802856445, -4.010337829589844, 2.3362550735473633, -2.0860350131988525, 4.71087121963501, 7.051456928253174, -1.5717628002166748, 2.871183395385742, 7.415177345275879, 3.912992238998413, -3.2057535648345947, -3.945276975631714, 2.7325007915496826, 4.848813533782959, 9.655580520629883, 0.8885883688926697, -2.0195460319519043, 2.4441239833831787, -2.1099863052368164, 5.345909595489502, 9.099058151245117, 6.8792924880981445, -3.5510642528533936, 2.30340313911438, 5.553718566894531, 6.278980731964111, 8.822819709777832, 9.16483211517334, 3.173804521560669, -4.116605758666992, 7.608004093170166, -1.8302215337753296, 9.31463623046875, 6.274601459503174, 8.369766235351562, -1.9400782585144043, 1.7755094766616821, 6.417257785797119, 3.088545322418213, 3.767789125442505, -2.0349271297454834, -2.247241258621216, -3.808189868927002, 1.7516423463821411, -0.1015184298157692, 1.4853307008743286, 2.8403983116149902, 3.588372230529785, -2.8686084747314453, 6.301152229309082, 3.731017589569092, -0.2769135534763336, 5.375966548919678, -3.0373151302337646, 4.280742168426514, 2.692779779434204, -1.2385125160217285, 4.688183307647705, 8.174359321594238, 7.579813003540039, 5.36991548538208, 2.720642328262329, 1.588255524635315, 2.951875686645508, -1.7067084312438965, 5.583003044128418, 4.2954277992248535, -1.3747724294662476, -1.3462977409362793, -0.954345166683197, -1.1166507005691528, 3.0984387397766113, 4.384124755859375, 9.08284854888916, 2.9454896450042725, -3.04119610786438, 3.998867988586426, -1.7435524463653564, -1.1465651988983154, 3.2130377292633057, 9.551128387451172, -2.1674907207489014, 7.420989990234375, 3.8844313621520996, -4.104986190795898, 8.190991401672363, 9.388426780700684, 3.7132363319396973, 3.532550573348999, -2.9708778858184814, 4.766791820526123, 6.9203619956970215, 0.8683342337608337, 4.840659141540527, -3.5344796180725098, 0.9345749020576477, -0.9709701538085938, 3.4183108806610107, 2.0699329376220703, 8.837026596069336, 0.43906983733177185, 8.186705589294434, 9.720303535461426, 5.412815570831299, -2.502634286880493, 9.419132232666016, 6.288524627685547, -3.415221929550171, -2.1465816497802734, -2.1030640602111816, 1.304482340812683, 0.38647663593292236, -2.4685285091400146, 8.316953659057617, 3.762615919113159, 9.705846786499023, -3.2615983486175537, 5.653199672698975, 4.612614631652832, 6.784634113311768, 1.4977059364318848, 3.485488176345825, 1.3252290487289429, 6.118847846984863, 4.050415515899658]}, {\"hovertemplate\": \"Dominant_Topic=Topic 2<br>0=%{x}<br>1=%{y}<br>2=%{z}<extra></extra>\", \"legendgroup\": \"Topic 2\", \"marker\": {\"color\": \"#00cc96\", \"opacity\": 0.7, \"symbol\": \"circle\"}, \"mode\": \"markers\", \"name\": \"Topic 2\", \"scene\": \"scene\", \"showlegend\": true, \"type\": \"scatter3d\", \"x\": [1.0042145252227783, 0.49468615651130676, -1.1276181936264038, 5.3964104652404785, 0.29886922240257263, -1.624930500984192, 12.322266578674316, -1.5729122161865234, -2.0381665229797363, 1.8907870054244995, -1.9430862665176392, 8.214982032775879, -1.3398468494415283, 9.96052360534668, -2.1872096061706543, -0.03013669326901436, -1.1883224248886108, 15.027261734008789, 0.2979513108730316, -0.3068261742591858, 2.5034186840057373, 10.373612403869629, 15.586631774902344, -0.4830482006072998, 10.788924217224121, 12.24796199798584, 7.262446403503418, 4.867472171783447, 7.003725528717041, 4.59260892868042, -1.4742134809494019, 12.023751258850098, 4.587693691253662, 2.3576488494873047, -0.4162113666534424, -1.4523991346359253, -0.008287670090794563, 5.508922100067139, -0.07172377407550812, 12.624763488769531, 4.435801982879639, 2.434216022491455, 0.5692709684371948, 13.32551097869873, 10.774402618408203, 4.5863518714904785, 5.363907814025879, -0.9212914705276489, 5.669923782348633, 11.222554206848145, 2.589792013168335, 7.386159420013428, -1.1878803968429565, 8.708710670471191, 2.3518238067626953, -1.3122978210449219, -1.741120457649231, -1.3862218856811523, 2.3173623085021973, 10.588738441467285, -0.8985910415649414, -1.7344379425048828, 0.9057416915893555, 10.274658203125, 9.067729949951172, 6.830668926239014, -2.205497980117798, 6.266885757446289, -1.9562853574752808, 13.711684226989746, 14.742280006408691, -1.7126418352127075, 8.330183982849121, 15.220528602600098, 12.465794563293457, 8.755877494812012, -2.2426350116729736, 8.163818359375, 0.6670436859130859, 11.956183433532715, 1.0818748474121094, 15.318313598632812, 9.910140991210938, 12.569783210754395, 3.9268908500671387, 7.670618534088135, -1.8460297584533691, 0.5966666340827942, 1.5046197175979614, -1.7124460935592651, -0.9508205056190491, -1.9030544757843018, 4.995926380157471, 9.121199607849121, -2.0379412174224854, -0.2813046872615814, 9.023645401000977, 16.24013328552246, 9.688794136047363, 7.360861778259277, 0.48737022280693054, -0.05683949589729309, 7.791494369506836, -0.2630373239517212, -2.0170693397521973, 10.863245964050293, 10.537618637084961, 0.1531335413455963, 13.263758659362793, 0.18118515610694885, -1.7374846935272217, 10.030467987060547, 6.69656229019165, 6.704161167144775, 11.79476261138916, 14.393478393554688, 2.5936336517333984, 11.70651626586914, 14.76319408416748, -0.3397323489189148, -2.1836867332458496, -2.243760108947754, 1.022734522819519, 2.170443058013916, 3.777914524078369, -2.1219844818115234, -1.7782838344573975, 10.240556716918945, 4.039358615875244, -2.232104778289795, -2.062906503677368, 11.436274528503418, -1.588461995124817, 3.980560541152954, -2.1937615871429443, 0.208375483751297, 2.2208828926086426, -2.039595603942871, 0.0955629050731659, 4.797109127044678, 11.565224647521973, 0.6836462616920471, 2.361311197280884, -2.2383170127868652, 14.527461051940918, 14.696818351745605, 11.425257682800293, 8.93114948272705, 4.585494518280029, 4.395083427429199, 0.13192102313041687, 12.967047691345215, 8.075584411621094, 1.4589494466781616, 1.4860090017318726, 8.598053932189941, -1.7455081939697266, -2.226194143295288, -1.3758167028427124, 5.06857442855835, 9.964254379272461, 8.627681732177734, 9.515164375305176, 4.807294845581055, 12.316527366638184, 1.7739248275756836, 9.871554374694824, -1.426618218421936, -1.4617092609405518, 14.927664756774902, 13.174188613891602, 6.892301082611084, 3.592383623123169, 10.542967796325684, 1.6776620149612427, 0.663074791431427, 7.277436256408691, 7.541576862335205, 10.251212120056152, 10.495818138122559, 10.074676513671875, 4.522533416748047, 11.815389633178711, 9.722517013549805, 15.275522232055664, 15.050139427185059, 0.12075304985046387, 6.569056510925293, 0.1908428966999054, 2.704390048980713, 14.477054595947266, 7.330962657928467, -0.9583138227462769, 7.663947582244873, 14.409964561462402, -1.0093379020690918, 15.223183631896973, -2.0708696842193604, 0.5100927352905273, -1.7332185506820679, 0.3413713872432709, 5.147758960723877, 3.0435373783111572, 13.326489448547363, 12.72268009185791, -0.7851983308792114, 7.610661506652832, -0.9069061875343323, 9.710071563720703, -0.8344143033027649, 10.955888748168945, 4.045257091522217, 3.1239311695098877, 11.335339546203613, 14.690537452697754, 12.391986846923828, 12.858024597167969, 10.459872245788574, -1.0525403022766113, 2.4264373779296875, -1.054854393005371, 11.87109375, 0.1818796694278717, 10.655512809753418, 12.215510368347168, 5.255066394805908, -0.9904403686523438, -1.783474087715149, -1.463666319847107, 14.457959175109863, 0.01541932113468647, 10.83004379272461, -0.8208873867988586, 0.6997954249382019, 7.190162181854248, 16.046838760375977, 1.7632133960723877, 4.914430618286133, -2.102818250656128, 8.625907897949219, 11.489821434020996, 7.150414943695068, -2.199073553085327, -0.15843257308006287, 10.708775520324707, -1.6466583013534546, 6.834805011749268, 1.0699801445007324, 12.073473930358887, 12.965633392333984, 10.254829406738281, 12.457345962524414, 6.221700191497803, -1.0597728490829468, 11.375507354736328, 14.563469886779785, 15.598708152770996, 5.919764995574951, -0.828822910785675, -1.8142186403274536, 7.040826797485352, 0.42042726278305054, -0.7267247438430786, 6.95138692855835, 8.165279388427734, 2.72554612159729, 13.46866226196289, 4.237028121948242, 13.137449264526367, -1.3541345596313477, -0.7569066286087036, 11.268183708190918, 6.369330883026123, 11.948070526123047, -2.20487904548645, 3.9153871536254883, 13.278730392456055, 9.811501502990723, -1.9293560981750488, -2.2504968643188477, -2.2243244647979736, 15.160209655761719, 14.605234146118164, -1.501907229423523, 5.355618000030518, 12.870267868041992, 5.306403636932373, -0.19843323528766632, 0.9504516124725342, 10.64647102355957, 16.313819885253906, 4.490804672241211, 10.484768867492676, -0.9581266641616821, 9.037374496459961, 15.880136489868164, -2.0524613857269287, 0.0493248775601387, 12.398240089416504, 15.666937828063965, 15.491415977478027, 7.33068323135376, 2.8519210815429688, 9.165385246276855, 3.6365370750427246, 4.040977954864502, -2.14172101020813, 12.754326820373535, -2.165701389312744, 0.7108175754547119, 0.6227397322654724, -2.1947288513183594, 11.004755020141602, -2.230015754699707, -2.1880388259887695, 3.9765117168426514, 7.2966437339782715, 3.057124614715576, 14.140478134155273, 2.661437749862671, 14.92113971710205, 15.76677131652832, -1.197104573249817, 13.6840238571167, 4.35330867767334, 9.817800521850586, 12.114824295043945, 11.982047080993652, 15.607725143432617, 13.802106857299805, -1.8144474029541016, 4.6070733070373535, 10.146233558654785, 5.327747344970703, 2.788454532623291, 11.4922513961792, 12.987510681152344, 9.461485862731934, 2.1481800079345703, -2.183445453643799, 11.580401420593262, 8.896745681762695, 14.251840591430664, 7.648870944976807, -0.019988516345620155, -0.898004412651062, -2.2018749713897705, -1.5461907386779785, 0.32997119426727295, 13.147624969482422, 5.312980651855469, -1.900329828262329, 0.7931191325187683, 3.566981077194214, 10.445271492004395, -1.3024758100509644, -0.43882909417152405, -0.7867674827575684, 0.3173532783985138, 1.9365066289901733, 5.675498962402344, -1.3608567714691162, -2.1966352462768555, 9.576701164245605, 6.295633792877197, 0.09461500495672226, 0.9347237348556519, 7.335251331329346, 10.33021068572998, 8.449076652526855, 11.730548858642578, -2.1744160652160645, 12.781404495239258, 11.525212287902832, 0.317273885011673, -2.240201711654663, -0.08675721287727356, -0.9217524528503418, -0.9650918245315552, -0.6979159116744995, 13.215091705322266, 1.1196162700653076, 11.119297981262207, 6.363612651824951, 0.3211500644683838, 8.119792938232422, -2.2299721240997314, -1.9508473873138428, 4.683764934539795, 1.2124602794647217, 2.301279306411743, 10.780435562133789, -1.7892166376113892, -2.1288323402404785, 0.9412568807601929, -2.121662139892578, -0.34542375802993774, 0.8910465836524963, 1.0046446323394775, 9.88648509979248, 2.4011073112487793, -1.7196309566497803, 10.307156562805176, 3.971404552459717], \"y\": [2.06044864654541, -3.15718150138855, -4.471357822418213, 1.054099678993225, 0.9171993136405945, -5.005012035369873, 4.397381782531738, -6.994805812835693, -5.576827526092529, 1.7015185356140137, -6.607454299926758, 0.12691228091716766, -4.32830810546875, 2.9678280353546143, -7.725030899047852, -3.4313340187072754, 3.1821939945220947, 4.265295505523682, -0.2802940309047699, -3.72143816947937, -1.3682169914245605, 1.102553367614746, 4.304726600646973, 3.163127899169922, 1.4710524082183838, 4.198337078094482, 0.7430087924003601, 0.9496451616287231, 1.5674693584442139, -0.6454097032546997, -4.5342230796813965, 3.29272198677063, -0.9880056977272034, 1.5556069612503052, -3.8140368461608887, 1.405479907989502, -3.5780913829803467, 0.14488022029399872, -3.4583137035369873, 4.639835834503174, 0.9840944409370422, 1.5286896228790283, -3.142608165740967, 4.498841762542725, 2.8089959621429443, -0.9881261587142944, 1.1268476247787476, 2.9792027473449707, 1.1906483173370361, 1.8375256061553955, -2.009272813796997, -0.190781831741333, 1.2195918560028076, 0.3272658884525299, -2.1491031646728516, -4.278944969177246, 3.6073594093322754, -4.5983195304870605, -1.57284677028656, 1.2509998083114624, 3.2187743186950684, 1.8497645854949951, -2.7025604248046875, 1.0381035804748535, 2.4678659439086914, -0.3872450888156891, -7.557201385498047, 1.3103046417236328, 0.5290020108222961, 4.439703464508057, 4.3156280517578125, 2.1863086223602295, 2.1577768325805664, 4.065651893615723, 4.606474876403809, 2.3482749462127686, -6.433620929718018, 2.0759575366973877, -2.174499034881592, 0.5733361840248108, 2.2927603721618652, 4.33609676361084, 1.8190388679504395, 4.639248847961426, 1.055100440979004, 0.5332971215248108, -2.755190372467041, 2.5964183807373047, -1.5380688905715942, -0.32129374146461487, -2.902940034866333, -5.372313022613525, 1.0313862562179565, 0.4983956217765808, -5.580245018005371, -3.6973142623901367, 0.4671844244003296, 4.131985187530518, 0.7700648903846741, -0.18021517992019653, -2.013744592666626, -0.7547798752784729, 1.9026248455047607, -3.6604509353637695, -5.548035621643066, 1.469449520111084, 2.5227131843566895, -1.3351918458938599, 4.437603950500488, 0.5143461227416992, 0.5189369320869446, 1.0326712131500244, -0.18279927968978882, -0.433092325925827, 3.007675886154175, 4.294776916503906, -2.028343439102173, 2.870894432067871, 4.333041667938232, 1.4986695051193237, -7.763572692871094, -6.61784029006958, 2.347662925720215, 1.6530680656433105, -1.3347524404525757, -8.226461410522461, -5.462230205535889, 3.130216598510742, -1.504105806350708, -6.2567338943481445, -6.899896621704102, 2.216169595718384, -4.840397357940674, -1.2856101989746094, -6.018725395202637, -2.528646230697632, -2.1999924182891846, -5.583742141723633, -1.1271530389785767, 0.3361966013908386, 2.576509952545166, -2.7607297897338867, 1.3907448053359985, -6.518673896789551, 4.239727973937988, 4.5184502601623535, 2.185208559036255, 2.429900646209717, -0.9889716506004333, -0.5799879431724548, -3.3920392990112305, 4.650046348571777, 0.07701347023248672, 1.8447579145431519, -1.2213184833526611, 2.285008430480957, -5.373477458953857, -6.358648300170898, -4.388460636138916, 0.2547031342983246, 0.8731012940406799, 2.2887332439422607, 1.5270870923995972, -1.2024348974227905, 4.401669979095459, 1.879763126373291, 0.8578392267227173, -4.767288684844971, -5.332127094268799, 4.032228469848633, 4.697274208068848, 1.5225223302841187, -0.42573580145835876, 2.5733795166015625, -2.5027072429656982, -1.4323265552520752, 0.6703605055809021, 1.7877155542373657, 1.012130618095398, 2.458191394805908, 3.048161745071411, -1.3074305057525635, 0.786626935005188, 1.601104736328125, 4.186455726623535, 4.357845783233643, 2.70174503326416, 1.4166687726974487, -3.3719825744628906, -1.9843569993972778, 4.2373456954956055, -0.04077526926994324, -2.8149352073669434, -0.08762450516223907, 4.2948384284973145, -2.7194714546203613, 3.887444019317627, -6.781178951263428, 2.6544556617736816, -5.162997722625732, 0.8867891430854797, -1.0595735311508179, 1.260239601135254, 4.624154090881348, 4.521121501922607, 3.298518419265747, -0.08331956714391708, -3.4417548179626465, 2.8484325408935547, -4.191864013671875, 1.573696255683899, -1.4625017642974854, 0.34665000438690186, 2.0372419357299805, 4.052440643310547, 4.529423713684082, 4.405515670776367, 3.2072582244873047, -2.7790133953094482, 1.3134286403656006, -2.775205612182617, 3.1314070224761963, -1.5078142881393433, 2.6880850791931152, 4.225317001342773, 1.0492327213287354, 3.393617868423462, 3.6574413776397705, 3.6249024868011475, 4.501919269561768, -1.4609246253967285, 1.4457900524139404, 3.3275606632232666, 2.5108001232147217, -0.25998663902282715, 4.106005668640137, -2.442147970199585, 0.8422943949699402, -5.7141313552856445, 0.3097313344478607, 2.305088996887207, 0.7787792682647705, -7.363138198852539, -3.692720651626587, 1.3578979969024658, -5.053040981292725, 0.4879065752029419, -2.5143537521362305, 3.6833314895629883, 4.763860702514648, 1.0368708372116089, 4.595386505126953, -0.6294878125190735, -2.8859736919403076, 2.0579426288604736, 4.200605869293213, 3.9511444568634033, -0.6463321447372437, 1.0549118518829346, -5.234532356262207, 0.7435383796691895, 2.678046464920044, -4.021975040435791, 1.5386672019958496, 0.12220831215381622, -1.1083430051803589, 4.499185562133789, 0.9625928401947021, 4.60347843170166, -4.69871711730957, -4.1109209060668945, 1.8732833862304688, 1.3591641187667847, 0.5868439078330994, -7.381898880004883, 0.8895468711853027, 4.628342151641846, 0.7999897599220276, -5.907463073730469, -6.822732925415039, -7.248233318328857, 3.9671730995178223, 4.076339244842529, -4.862518787384033, -0.9700493812561035, 4.401597499847412, -0.9633992910385132, 3.0094809532165527, 2.3519110679626465, 2.673143148422241, 4.122757911682129, -1.3340697288513184, 1.1778186559677124, -4.302323818206787, 0.45990535616874695, 4.120846271514893, -5.605915546417236, -2.951113224029541, 4.517159938812256, 4.302999019622803, 4.054941654205322, -0.1983393132686615, 1.35170316696167, 0.5234657526016235, -0.28169941902160645, 0.19018352031707764, -5.813343524932861, 4.664306640625, -7.983557224273682, -1.9253404140472412, -1.1105340719223022, -7.707837104797363, 1.596652865409851, -6.784215450286865, -7.816306114196777, -1.0529133081436157, 0.8764991760253906, -0.07633722573518753, 4.361377716064453, -1.9948499202728271, 4.0609049797058105, 4.038320541381836, 3.488072395324707, 4.459941387176514, -1.3217147588729858, 1.6191130876541138, 3.2696657180786133, 3.6889493465423584, 3.886697292327881, 4.419799327850342, 0.25359097123146057, 1.0183870792388916, 0.9852439761161804, -0.9257935285568237, -0.015477417968213558, 3.96006441116333, 4.355015277862549, 0.6413353681564331, -1.5381805896759033, -7.8774189949035645, 1.5183799266815186, 2.4116714000701904, 4.325197696685791, 0.6702253818511963, -2.458895444869995, 0.8215721249580383, -6.089399814605713, -4.911384582519531, 2.4315292835235596, 4.38245153427124, -0.9618241786956787, -5.861854553222656, 0.10707205533981323, -1.3743982315063477, 3.23604679107666, -4.632728576660156, -3.833998203277588, -4.149408340454102, -3.2867612838745117, -2.3575053215026855, -0.8321373462677002, -4.706656455993652, -7.886532783508301, 2.739112615585327, 1.3438854217529297, -0.16960753500461578, -2.859428882598877, 0.5844261050224304, 2.685309410095215, 0.24882353842258453, 2.974541425704956, -5.9228081703186035, 4.686283588409424, 2.4278242588043213, -3.279538869857788, -6.4176483154296875, -0.5532424449920654, 3.3613080978393555, -2.3662545680999756, 3.1073431968688965, 4.493418216705322, -2.8066561222076416, 1.7323311567306519, 0.6236315965652466, 0.923156201839447, 1.927046537399292, -6.779210090637207, -5.4326558113098145, -1.2502782344818115, -2.755735158920288, 0.15908154845237732, 2.7810821533203125, -5.12296199798584, -5.788613319396973, -1.6665996313095093, 0.8474123477935791, 1.5223643779754639, 2.419788122177124, 2.0608584880828857, 0.828353226184845, -2.1262152194976807, -6.554442405700684, 3.168039560317993, -0.8796928524971008], \"z\": [-5.771079063415527, -11.263619422912598, -9.89062213897705, -7.089366436004639, -9.453509330749512, -9.043045043945312, -3.795788288116455, -4.618348121643066, -7.8907294273376465, -6.119394779205322, -3.403287887573242, -11.96861457824707, -7.142533302307129, -4.997931480407715, -3.4648876190185547, -10.954272270202637, -4.742384433746338, 0.44020968675613403, -5.9313483238220215, -10.79768180847168, -9.711771965026855, -10.837366104125977, 1.6840335130691528, -5.128342151641846, -9.996174812316895, -4.086374759674072, -9.072839736938477, -7.081576347351074, -6.637733459472656, -10.911445617675781, -4.6819586753845215, -6.769550323486328, -11.95347785949707, -6.28612756729126, -10.718470573425293, -4.196510314941406, -11.044404029846191, -12.659003257751465, -10.929022789001465, -2.957188606262207, -6.93733024597168, -6.312723159790039, -11.372480392456055, -1.7299789190292358, -6.5413594245910645, -11.952390670776367, -6.961933612823486, -4.85084342956543, -6.9334306716918945, -9.379132270812988, -12.024306297302246, -12.218631744384766, -4.426957130432129, -11.780213356018066, -11.97350788116455, -6.475286483764648, -4.549933910369873, -8.9310884475708, -10.017799377441406, -10.574204444885254, -4.91791296005249, -4.01865291595459, -10.907073974609375, -10.949578285217285, -5.741438388824463, -12.320131301879883, -3.760545492172241, -6.874557018280029, -3.3731324672698975, -1.190633773803711, 0.13970035314559937, -4.1167731285095215, -6.0009236335754395, 0.7545602917671204, -3.0706286430358887, -5.813104629516602, -5.910760879516602, -6.096333026885986, -8.350198745727539, -7.209442615509033, -5.766989707946777, 1.0948786735534668, -7.973335266113281, -3.1055774688720703, -6.799820899963379, -10.136456489562988, 0.779681384563446, -5.574411392211914, -8.358499526977539, -3.424328327178955, -4.660604000091553, -8.426302909851074, -7.010314464569092, -11.607605934143066, -7.991072654724121, -10.82645034790039, -11.613885879516602, 1.9468791484832764, -11.249126434326172, -12.17729663848877, -7.519864082336426, -5.7481369972229, -6.2889628410339355, -10.799148559570312, -8.116983413696289, -10.133357048034668, -6.980809688568115, -6.258814334869385, -2.011275053024292, -5.612429618835449, -3.636831760406494, -10.643513679504395, -11.733623504638672, -12.337740898132324, -7.335172653198242, -0.15360631048679352, -12.008139610290527, -7.56683349609375, 0.7829279899597168, -7.842790603637695, -3.406938314437866, -5.471245765686035, -5.741456508636475, -6.2046942710876465, -11.828134536743164, -2.7807419300079346, -5.080225467681885, -4.728886604309082, -12.415077209472656, -6.404885768890381, -3.8306000232696533, -8.667566299438477, -6.254642963409424, -11.939577102661133, -7.0334601402282715, -8.301750183105469, -11.888440132141113, -7.998903274536133, -6.066318511962891, -6.846219539642334, -8.056354522705078, -10.583319664001465, -6.364058494567871, -5.663634300231934, 0.0075180381536483765, 0.5134397149085999, -8.722652435302734, -5.727807521820068, -11.953707695007324, -10.43451976776123, -11.121219635009766, -2.0204010009765625, -12.001725196838379, -5.953766822814941, -7.738083839416504, -5.861070156097412, -5.043052673339844, -6.071132659912109, -7.196062088012695, -6.851369380950928, -11.183760643005371, -5.874202728271484, -8.421520233154297, -12.513069152832031, -3.779397487640381, -6.040963649749756, -11.14011001586914, -9.369269371032715, -0.5353721380233765, 0.456726610660553, -2.4241714477539062, -6.682060241699219, -8.846410751342773, -6.874248027801514, -11.773520469665527, -7.043781757354736, -9.324211120605469, -6.416706562042236, -11.009079933166504, -7.10321044921875, -4.841890335083008, -12.46605110168457, -7.6673150062561035, -8.384976387023926, 1.517215609550476, 0.9487528204917908, -5.376713752746582, -6.774878025054932, -11.186182975769043, -12.052057266235352, 0.20641328394412994, -11.78369426727295, -4.502473831176758, -12.15064811706543, -0.12507928907871246, -4.189859867095947, 0.9817205667495728, -4.135984420776367, -5.538839340209961, -6.08529806137085, -9.553041458129883, -12.50927448272705, -6.558483600616455, -2.1990902423858643, -2.3127799034118652, -4.997056484222412, -12.101615905761719, -6.00410795211792, -5.141741752624512, -10.257107734680176, -9.87636661529541, -12.350552558898926, -7.260490417480469, -8.944891929626465, 0.5845018029212952, -3.5236361026763916, -2.3446593284606934, -4.674654006958008, -3.9766697883605957, -6.417823791503906, -3.9596855640411377, -7.092184066772461, -6.42105770111084, -6.730477809906006, -4.0139923095703125, -7.048248291015625, -4.909626007080078, -4.5435967445373535, -4.7172465324401855, 0.2556820809841156, -6.086385250091553, -10.167166709899902, -4.9844794273376465, -5.618407249450684, -12.263285636901855, 1.8699105978012085, -11.758604049682617, -7.285810470581055, -7.7281718254089355, -11.758676528930664, -8.552946090698242, -8.865498542785645, -3.998591899871826, -11.046950340270996, -10.306636810302734, -5.342190265655518, -9.522987365722656, -10.666419982910156, -4.682131290435791, -2.200510263442993, -10.921859741210938, -3.3146135807037354, -12.413068771362305, -3.9957756996154785, -8.97216796875, 0.0656459704041481, 1.6803303956985474, -12.310805320739746, -4.747157573699951, -8.546814918518066, -7.111184120178223, -5.5041351318359375, -10.12871265411377, -6.670591354370117, -11.940736770629883, -9.337153434753418, -1.583702802658081, -6.9226789474487305, -1.895740032196045, -9.542159080505371, -10.318648338317871, -9.352273941040039, -6.821464538574219, -7.230977535247803, -3.9992597103118896, -6.944684982299805, -2.3406503200531006, -11.27658462524414, -5.071613311767578, -5.079530239105225, -4.263334274291992, 1.2693352699279785, 0.15527383983135223, -9.2907075881958, -12.488433837890625, -4.395207405090332, -12.46113109588623, -5.246257305145264, -5.718771457672119, -6.755053520202637, 1.9630311727523804, -12.484246253967285, -10.709881782531738, -10.091136932373047, -11.65063190460205, 1.7463059425354004, -7.900144100189209, -9.14674186706543, -3.573723316192627, 1.6181532144546509, 1.6947522163391113, -12.204771041870117, -6.476092338562012, -11.566200256347656, -8.564363479614258, -7.912498950958252, -7.550534248352051, -2.728168487548828, -3.1290760040283203, -7.811758995056152, -6.705489158630371, -3.5187325477600098, -9.84939193725586, -5.059996128082275, -3.3764069080352783, -11.322735786437988, -8.678515434265137, -7.710599899291992, -0.5291709899902344, -12.017647743225098, 1.0115489959716797, 1.4024688005447388, -4.823502540588379, -1.2669243812561035, -12.356207847595215, -8.421162605285645, -4.749372959136963, -4.560691833496094, 1.5143041610717773, -1.047614336013794, -3.4636781215667725, -6.93970251083374, -10.966282844543457, -12.425712585449219, -7.45121431350708, -3.7738375663757324, -2.3364098072052, -11.446904182434082, -9.56291675567627, -3.2977311611175537, -8.350831985473633, -5.750024795532227, -0.3627413809299469, -9.657207489013672, -7.017995834350586, -4.6864013671875, -6.793108940124512, -9.198241233825684, -5.471861839294434, -1.991987943649292, -12.46170425415039, -4.9831318855285645, -6.103057861328125, -11.655893325805664, -4.578371524810791, -9.570585250854492, -10.698402404785156, -10.316572189331055, -11.230591773986816, -11.831053733825684, -12.452892303466797, -9.531950950622559, -3.3492679595947266, -5.373368740081787, -6.830598831176758, -5.7660112380981445, -11.464219093322754, -9.658966064453125, -6.37589693069458, -11.792254447937012, -7.339004039764404, -7.299433708190918, -2.457904577255249, -8.33071517944336, -11.21057415008545, -5.937732696533203, -5.671910285949707, -4.939037799835205, -4.270227909088135, -5.005420207977295, -1.7837045192718506, -11.558976173400879, -9.556940078735352, -8.745635032653809, -9.476471900939941, -6.434733867645264, -5.06930685043335, -8.216536521911621, -12.499677658081055, -11.600325584411621, -7.021904468536377, -6.633944988250732, -8.102126121520996, -7.526218891143799, -7.722987651824951, -3.2930305004119873, -7.783467769622803, -5.691869735717773, -5.770426273345947, -11.26175594329834, -11.982105255126953, -1.8363546133041382, -4.667293548583984, -12.416176795959473]}, {\"hovertemplate\": \"Dominant_Topic=Topic 3<br>0=%{x}<br>1=%{y}<br>2=%{z}<extra></extra>\", \"legendgroup\": \"Topic 3\", \"marker\": {\"color\": \"#ab63fa\", \"opacity\": 0.7, \"symbol\": \"circle\"}, \"mode\": \"markers\", \"name\": \"Topic 3\", \"scene\": \"scene\", \"showlegend\": true, \"type\": \"scatter3d\", \"x\": [-1.7791931629180908, -2.2662129402160645, 2.7166085243225098, 2.597266674041748, 1.965570330619812, 2.099762439727783, 2.9131882190704346, 2.0872137546539307, 3.0121850967407227, -0.28102537989616394, 2.607323169708252, -0.4490419328212738, -2.0697712898254395, -0.9336847066879272, 2.9667680263519287, 1.7837498188018799, -0.9791148900985718, -1.4770567417144775, 2.9350736141204834, 1.3979395627975464, 1.8544541597366333, 2.830998420715332, -0.39696645736694336, -0.1469075083732605, -0.42584341764450073, -1.8590904474258423, 1.5029237270355225, 2.0419771671295166, 1.610198736190796, -1.52982759475708, -2.2276601791381836, -0.9107589721679688, 3.029052734375, 2.656472682952881, 0.8665953874588013, 1.723911166191101, -1.4533627033233643, 2.364360809326172, 2.3503940105438232, 2.595950126647949, -1.9532597064971924, 2.875110387802124, -1.8337870836257935, 2.7196905612945557, 3.0077269077301025, -0.5887743830680847, 2.909475326538086, -2.5228238105773926, -1.3113292455673218, 2.1309900283813477, -1.7958706617355347, 2.7016799449920654, 2.862645387649536, -1.3070755004882812, -1.8862998485565186, 1.9035435914993286, -0.9782313704490662, 0.9012962579727173, 0.5481566786766052, 1.0447986125946045, 2.3028299808502197, 1.102447271347046, -1.6612427234649658, -1.3512768745422363, -0.4221549928188324, 2.993723154067993, -0.20917241275310516, 2.604825735092163, 0.0024820431135594845, -1.3882150650024414, -1.4660742282867432, 0.5202466249465942, 1.6138545274734497, -0.13335540890693665, 1.1337124109268188, 2.7307240962982178, 2.6415116786956787, 2.7710371017456055, 1.5018748044967651, 1.2187578678131104, -1.5072556734085083, -1.2743151187896729, 1.9258499145507812, 1.055858850479126, -1.4904180765151978, -1.6064661741256714, -0.5017167925834656, 1.9164814949035645, 2.8353357315063477, -1.6435011625289917, 1.2549200057983398, -1.712809681892395, 2.2290561199188232, 2.257570743560791, -1.4337570667266846, 2.6257433891296387, -1.735650897026062, -0.49653545022010803, -0.43273693323135376, -1.9268206357955933, -1.7860853672027588, 2.6108524799346924, 1.8827979564666748, -2.6055798530578613, 2.3647754192352295, 2.85360050201416, 0.5847597122192383, -1.0897616147994995, -0.033601678907871246, -0.4794996678829193, -2.295173168182373, 2.524653911590576, 1.7724406719207764, -0.5093826651573181, -0.686259925365448, -0.2800571620464325, 1.2368563413619995, -2.7681174278259277, 2.4156932830810547, -1.1021395921707153, 0.11191759258508682, -1.2897632122039795, -1.536954402923584, -1.4718623161315918, 2.111079454421997, 2.62174129486084, 1.3045815229415894, -1.9780676364898682, -2.5442662239074707, -1.4728543758392334, 0.020426984876394272, 2.966517448425293, -1.8664602041244507, -2.2039544582366943, -1.428238868713379, -1.6687549352645874, -0.38046279549598694, -2.3886606693267822, 2.3184878826141357, 0.23094496130943298, -1.0420269966125488, 0.549336850643158, 2.220555543899536, -1.2054376602172852, -1.021468162536621, 1.9484143257141113, 0.56095290184021, -1.3529040813446045, 1.6644577980041504, 1.5701947212219238, 2.549931526184082, -2.3347885608673096, -1.5950735807418823, -1.1087452173233032, -2.239522933959961, 2.915032386779785, 2.897249698638916, -1.6098098754882812, 0.3291458785533905, 2.1178131103515625, 2.337352991104126, 3.0115413665771484, 2.4297146797180176, -1.5072020292282104, 0.35306742787361145, 0.10362564027309418, 2.356311321258545, -1.1788409948349, 1.0903551578521729, 3.0035884380340576, -0.23896951973438263, 2.9799513816833496, -2.4455153942108154, 2.1606380939483643, 2.837885856628418, 1.9761404991149902, -0.35513073205947876, -0.7766710519790649, 0.6922430396080017, -1.1256986856460571, 2.4218554496765137, 1.6758617162704468, 1.4577780961990356, -0.1882694512605667, -0.2061927318572998, 0.2950841188430786, 3.0098114013671875, -0.13761508464813232, 1.7235208749771118, 2.3774454593658447, 0.5677285194396973, 2.4506375789642334, 2.9929611682891846, 2.575385570526123, -1.4319369792938232, 0.6059429049491882, -1.6325603723526, 2.950291395187378, 2.8640716075897217, -0.8929666876792908, -1.3724889755249023, -2.06411075592041, -0.3639860451221466, -1.5393131971359253, 0.9688908457756042, 0.05101149529218674, 2.2298994064331055, -0.6066346764564514, 0.8279979228973389, 1.10451340675354, 1.1153059005737305, 2.5968570709228516, 1.1039042472839355, -1.3466130495071411, 1.6914719343185425, 0.7838339805603027, -0.14418306946754456, -1.6030882596969604, 1.3991883993148804, -1.5926600694656372, 0.6703053712844849, 1.161224603652954, 0.0918131023645401, 2.3635106086730957, -2.010387659072876, -2.179722785949707, 0.02451498620212078, 2.0238921642303467, -1.7978765964508057, 0.6327532529830933, -2.092111110687256, 0.6961374282836914, 2.3820576667785645, 2.489063262939453, 1.7239117622375488, 2.596658229827881, 0.6221038699150085, 1.0548417568206787, 0.3609829545021057], \"y\": [-9.173500061035156, -9.756085395812988, -1.478796124458313, -0.5947190523147583, -9.307879447937012, -9.055380821228027, -2.9904775619506836, -9.164192199707031, -3.9568395614624023, -7.60684061050415, -0.5361067056655884, -8.4388427734375, -8.459183692932129, -6.554682731628418, -5.049350261688232, -8.246143341064453, -2.7552363872528076, -9.726136207580566, -5.396060943603516, -6.224135875701904, -6.481281280517578, -6.105447292327881, -7.901672840118408, -10.441177368164062, -7.985696792602539, -9.019403457641602, -5.79036808013916, -9.179457664489746, -3.2129833698272705, -3.637864351272583, -1.8637783527374268, -4.713491439819336, -3.808526039123535, -2.405818223953247, -2.3308284282684326, -9.7007417678833, -5.40215539932251, -8.34453010559082, -8.5048189163208, -0.5926036238670349, -8.762235641479492, -2.3352975845336914, -2.146385431289673, -1.4523524045944214, -4.061555862426758, -10.265206336975098, -2.6838948726654053, -1.6891942024230957, -5.124009609222412, -4.018726825714111, -9.163171768188477, -6.752030849456787, -2.488307237625122, -9.915543556213379, -2.193539619445801, -10.772940635681152, -7.522876262664795, -10.43340015411377, -10.609176635742188, -4.464629173278809, -8.632099151611328, -4.808703899383545, -9.447993278503418, -5.68085241317749, -2.6219024658203125, -4.355573654174805, -10.419523239135742, -0.5011129379272461, -10.517938613891602, -5.049806594848633, -3.819767475128174, -10.596851348876953, -9.862748146057129, -7.863308906555176, -10.247885704040527, -1.458900809288025, -0.912665605545044, -6.381838321685791, -1.78403639793396, -10.270596504211426, -9.68448257446289, -4.369430065155029, -6.161705493927002, -10.336573600769043, -6.571761131286621, -2.4613847732543945, -8.029929161071777, -4.649306774139404, -6.0526251792907715, -3.2900469303131104, -2.7542831897735596, -9.31053638458252, -6.385684490203857, -8.769967079162598, -5.333856582641602, -0.8270872831344604, -2.857567310333252, -6.021705627441406, -10.268387794494629, -8.848902702331543, -9.118836402893066, -0.5486658215522766, -6.739713191986084, -1.6412147283554077, -3.395915985107422, -5.981233596801758, -6.759303092956543, -3.8715059757232666, -6.19064474105835, -5.193784236907959, -1.883702039718628, -3.2383382320404053, -4.421629905700684, -5.312886714935303, -2.9609897136688232, -5.946697235107422, -10.199063301086426, -5.595012187957764, -8.294461250305176, -7.6120710372924805, -10.503182411193848, -3.7255191802978516, -3.1136720180511475, -3.6396191120147705, -4.064562797546387, -0.6690952181816101, -10.06523609161377, -8.698853492736816, -5.517509460449219, -8.045166015625, -10.225791931152344, -3.2461435794830322, -8.965134620666504, -1.8877480030059814, -9.791731834411621, -6.895244121551514, -5.861400127410889, -1.7713615894317627, -4.823904037475586, -7.3109846115112305, -10.057243347167969, -10.51937484741211, -4.432422161102295, -4.571914196014404, -4.292285919189453, -6.22435188293457, -10.466828346252441, -3.4733898639678955, -2.0215697288513184, -9.904479026794434, -8.639396667480469, -1.8446588516235352, -9.555644989013672, -10.014137268066406, -1.8673776388168335, -5.474675178527832, -2.8009495735168457, -8.354249954223633, -3.2544686794281006, -8.771493911743164, -0.7714464664459229, -4.491485118865967, -8.136209487915039, -6.701631546020508, -10.55777645111084, -10.47056770324707, -8.526745796203613, -4.620450019836426, -4.611023902893066, -3.5509655475616455, -10.424097061157227, -3.3799514770507812, -1.8510998487472534, -8.976848602294922, -6.173362731933594, -1.3919198513031006, -7.954931735992432, -4.986003875732422, -10.460083961486816, -5.681509971618652, -8.186576843261719, -10.244101524353027, -10.06152057647705, -10.474720001220703, -10.342531204223633, -2.6238601207733154, -4.424783229827881, -7.894717693328857, -2.1181023120880127, -2.7081170082092285, -2.5115575790405273, -8.10534381866455, -3.608607053756714, -0.9182418584823608, -9.77481460571289, -6.931848526000977, -9.456731796264648, -4.694988250732422, -5.836258888244629, -4.690305709838867, -9.844781875610352, -8.481867790222168, -7.642021179199219, -6.094091892242432, -2.219784736633301, -6.21058464050293, -2.6484968662261963, -3.4198052883148193, -4.729353904724121, -2.2970073223114014, -4.839262962341309, -0.5686666965484619, -6.08687162399292, -9.869745254516602, -2.4900989532470703, -10.49735164642334, -3.9154350757598877, -6.396412372589111, -10.089644432067871, -6.629289627075195, -10.42729377746582, -10.170413970947266, -2.657895565032959, -8.400558471679688, -8.639522552490234, -2.299534797668457, -10.461555480957031, -7.603844165802002, -2.1030919551849365, -8.960036277770996, -8.246901512145996, -3.9070091247558594, -5.456305980682373, -7.782339096069336, -1.5704268217086792, -0.9706165790557861, -10.618143081665039, -10.33704662322998, -10.63976001739502], \"z\": [-1.2043919563293457, 0.431991845369339, 10.224824905395508, 10.432690620422363, 6.019340991973877, 6.308353424072266, 9.808540344238281, 6.26478910446167, 9.513331413269043, 2.495311975479126, 10.478106498718262, 2.0147929191589355, -2.462226390838623, 1.1775192022323608, 8.977202415466309, 5.963498592376709, 5.061126708984375, -0.24764928221702576, 8.788352012634277, 6.096638202667236, 6.737387180328369, 8.354345321655273, 2.192831039428711, 2.247617721557617, 2.119776487350464, -1.5063287019729614, 6.489155292510986, 6.179420471191406, 7.909159183502197, 1.0183194875717163, 5.162522315979004, 2.2364308834075928, 9.600626945495605, 9.723453521728516, 7.407062530517578, 5.538103103637695, -0.3287067115306854, 6.9356842041015625, 6.899181365966797, 10.432172775268555, -1.9006390571594238, 10.051260948181152, 4.994218349456787, 10.239989280700684, 9.46105670928955, 1.4608592987060547, 9.941547393798828, 5.159160614013672, 0.589653491973877, 8.232572555541992, -1.2675701379776, 7.9385247230529785, 9.965006828308105, 0.09822924435138702, 4.578599452972412, 3.2319371700286865, 0.905899703502655, 4.118192672729492, 3.512014865875244, 6.462937355041504, 6.797231197357178, 6.366654872894287, -0.8182918429374695, 0.06092923507094383, 5.86353874206543, 9.31208610534668, 2.1394858360290527, 10.48723316192627, 2.5021727085113525, 0.324724406003952, 1.1224371194839478, 3.434663772583008, 5.336592674255371, 2.7165942192077637, 4.5328779220581055, 10.25258731842041, 10.369497299194336, 8.164128303527832, 8.468253135681152, 4.720088481903076, -0.32442134618759155, 1.3298466205596924, 6.975032806396484, 4.393594264984131, -0.7017233371734619, 4.453570365905762, 1.9540824890136719, 7.628288745880127, 8.381044387817383, 1.1740999221801758, 7.669727325439453, -0.9661550521850586, 7.347273349761963, 6.680458068847656, -0.13149885833263397, 10.375322341918945, 2.6537764072418213, 2.504344940185547, 1.7542880773544312, -1.7809168100357056, -1.2279216051101685, 10.478960990905762, 6.687402248382568, 5.174328804016113, 8.858856201171875, 8.433833122253418, 4.375987529754639, 2.8266701698303223, 3.417185068130493, 3.0313148498535156, 4.472044467926025, 9.15650463104248, 7.525693416595459, 2.866910219192505, 5.167232036590576, 3.024536609649658, 4.720867156982422, 0.35014960169792175, 7.031619071960449, 0.5953003764152527, 2.67443585395813, 2.3550918102264404, 2.795011520385742, 1.4953298568725586, 8.182369232177734, 10.44582462310791, 4.795202732086182, -2.0138895511627197, 0.2801724970340729, -0.3604506850242615, 2.531865358352661, 9.767509460449219, -1.5375993251800537, 5.100564002990723, -0.1468839794397354, -1.3941662311553955, 2.8459346294403076, 5.12300443649292, 8.134354591369629, 3.552311897277832, 0.6257882118225098, 3.40067982673645, 8.169136047363281, 1.3856241703033447, 2.416015386581421, 6.983365058898926, 3.3677568435668945, 2.650381565093994, 8.568328857421875, 5.256993770599365, 6.492166042327881, 4.667540073394775, -0.5910971164703369, 0.5119333863258362, 5.090964317321777, 8.727802276611328, 9.87224292755127, -0.7261353731155396, 6.2103705406188965, 6.404481887817383, 10.185824394226074, 9.2788724899292, 7.09299373626709, -0.7658905982971191, 3.056014060974121, 2.6531081199645996, 6.905505657196045, 1.4330353736877441, 6.449716567993164, 9.680298805236816, 2.0856666564941406, 9.723872184753418, 3.112609386444092, 6.439695358276367, 8.33873462677002, 9.275423049926758, 2.2701165676116943, 2.3891701698303223, 3.6656339168548584, 0.8884581327438354, 7.063168525695801, 4.629517078399658, 5.078615665435791, 2.1733314990997314, 2.1520915031433105, 6.59065580368042, 9.30574893951416, 2.7010915279388428, 8.599847793579102, 9.206804275512695, 6.958850383758545, 7.134227275848389, 9.64069652557373, 10.263503074645996, -0.12514600157737732, 4.35603141784668, -0.6897029280662537, 9.103401184082031, 8.506425857543945, 2.3249258995056152, -0.006408545654267073, -2.4302027225494385, 2.314483404159546, -0.9024179577827454, 7.588252067565918, 3.5587680339813232, 9.032825469970703, 4.668553352355957, 5.990201473236084, 7.715633869171143, 6.370267391204834, 10.442819595336914, 5.654294013977051, 0.04484071582555771, 8.379170417785645, 3.943978786468506, 4.954422950744629, -1.2298974990844727, 4.973738670349121, -1.1356693506240845, 3.5714707374572754, 4.553280353546143, 6.351848602294922, 6.934852123260498, -1.989927887916565, 2.0605595111846924, 2.5307724475860596, 6.59492301940918, 5.230823516845703, 3.817678928375244, -2.6434218883514404, 6.014398097991943, 7.955183029174805, 7.296014785766602, 8.858260154724121, 10.27982234954834, 3.6789987087249756, 4.393641471862793, 3.1433029174804688]}],                        {\"height\": 800, \"legend\": {\"title\": {\"text\": \"Dominant_Topic\"}, \"tracegroupgap\": 0}, \"scene\": {\"domain\": {\"x\": [0.0, 1.0], \"y\": [0.0, 1.0]}, \"xaxis\": {\"title\": {\"text\": \"0\"}}, \"yaxis\": {\"title\": {\"text\": \"1\"}}, \"zaxis\": {\"title\": {\"text\": \"2\"}}}, \"template\": {\"data\": {\"bar\": [{\"error_x\": {\"color\": \"#2a3f5f\"}, \"error_y\": {\"color\": \"#2a3f5f\"}, \"marker\": {\"line\": {\"color\": \"#E5ECF6\", \"width\": 0.5}}, \"type\": \"bar\"}], \"barpolar\": [{\"marker\": {\"line\": {\"color\": \"#E5ECF6\", \"width\": 0.5}}, \"type\": \"barpolar\"}], \"carpet\": [{\"aaxis\": {\"endlinecolor\": \"#2a3f5f\", \"gridcolor\": \"white\", \"linecolor\": \"white\", \"minorgridcolor\": \"white\", \"startlinecolor\": \"#2a3f5f\"}, \"baxis\": {\"endlinecolor\": \"#2a3f5f\", \"gridcolor\": \"white\", \"linecolor\": \"white\", \"minorgridcolor\": \"white\", \"startlinecolor\": \"#2a3f5f\"}, \"type\": \"carpet\"}], \"choropleth\": [{\"colorbar\": {\"outlinewidth\": 0, \"ticks\": \"\"}, \"type\": \"choropleth\"}], \"contour\": [{\"colorbar\": {\"outlinewidth\": 0, \"ticks\": \"\"}, \"colorscale\": [[0.0, \"#0d0887\"], [0.1111111111111111, \"#46039f\"], [0.2222222222222222, \"#7201a8\"], [0.3333333333333333, \"#9c179e\"], [0.4444444444444444, \"#bd3786\"], [0.5555555555555556, \"#d8576b\"], [0.6666666666666666, \"#ed7953\"], [0.7777777777777778, \"#fb9f3a\"], [0.8888888888888888, \"#fdca26\"], [1.0, \"#f0f921\"]], \"type\": \"contour\"}], \"contourcarpet\": [{\"colorbar\": {\"outlinewidth\": 0, \"ticks\": \"\"}, \"type\": \"contourcarpet\"}], \"heatmap\": [{\"colorbar\": {\"outlinewidth\": 0, \"ticks\": \"\"}, \"colorscale\": [[0.0, \"#0d0887\"], [0.1111111111111111, \"#46039f\"], [0.2222222222222222, \"#7201a8\"], [0.3333333333333333, \"#9c179e\"], [0.4444444444444444, \"#bd3786\"], [0.5555555555555556, \"#d8576b\"], [0.6666666666666666, \"#ed7953\"], [0.7777777777777778, \"#fb9f3a\"], [0.8888888888888888, \"#fdca26\"], [1.0, \"#f0f921\"]], \"type\": \"heatmap\"}], \"heatmapgl\": [{\"colorbar\": {\"outlinewidth\": 0, \"ticks\": \"\"}, \"colorscale\": [[0.0, \"#0d0887\"], [0.1111111111111111, \"#46039f\"], [0.2222222222222222, \"#7201a8\"], [0.3333333333333333, \"#9c179e\"], [0.4444444444444444, \"#bd3786\"], [0.5555555555555556, \"#d8576b\"], [0.6666666666666666, \"#ed7953\"], [0.7777777777777778, \"#fb9f3a\"], [0.8888888888888888, \"#fdca26\"], [1.0, \"#f0f921\"]], \"type\": \"heatmapgl\"}], \"histogram\": [{\"marker\": {\"colorbar\": {\"outlinewidth\": 0, \"ticks\": \"\"}}, \"type\": \"histogram\"}], \"histogram2d\": [{\"colorbar\": {\"outlinewidth\": 0, \"ticks\": \"\"}, \"colorscale\": [[0.0, \"#0d0887\"], [0.1111111111111111, \"#46039f\"], [0.2222222222222222, \"#7201a8\"], [0.3333333333333333, \"#9c179e\"], [0.4444444444444444, \"#bd3786\"], [0.5555555555555556, \"#d8576b\"], [0.6666666666666666, \"#ed7953\"], [0.7777777777777778, \"#fb9f3a\"], [0.8888888888888888, \"#fdca26\"], [1.0, \"#f0f921\"]], \"type\": \"histogram2d\"}], \"histogram2dcontour\": [{\"colorbar\": {\"outlinewidth\": 0, \"ticks\": \"\"}, \"colorscale\": [[0.0, \"#0d0887\"], [0.1111111111111111, \"#46039f\"], [0.2222222222222222, \"#7201a8\"], [0.3333333333333333, \"#9c179e\"], [0.4444444444444444, \"#bd3786\"], [0.5555555555555556, \"#d8576b\"], [0.6666666666666666, \"#ed7953\"], [0.7777777777777778, \"#fb9f3a\"], [0.8888888888888888, \"#fdca26\"], [1.0, \"#f0f921\"]], \"type\": \"histogram2dcontour\"}], \"mesh3d\": [{\"colorbar\": {\"outlinewidth\": 0, \"ticks\": \"\"}, \"type\": \"mesh3d\"}], \"parcoords\": [{\"line\": {\"colorbar\": {\"outlinewidth\": 0, \"ticks\": \"\"}}, \"type\": \"parcoords\"}], \"pie\": [{\"automargin\": true, \"type\": \"pie\"}], \"scatter\": [{\"marker\": {\"colorbar\": {\"outlinewidth\": 0, \"ticks\": \"\"}}, \"type\": \"scatter\"}], \"scatter3d\": [{\"line\": {\"colorbar\": {\"outlinewidth\": 0, \"ticks\": \"\"}}, \"marker\": {\"colorbar\": {\"outlinewidth\": 0, \"ticks\": \"\"}}, \"type\": \"scatter3d\"}], \"scattercarpet\": [{\"marker\": {\"colorbar\": {\"outlinewidth\": 0, \"ticks\": \"\"}}, \"type\": \"scattercarpet\"}], \"scattergeo\": [{\"marker\": {\"colorbar\": {\"outlinewidth\": 0, \"ticks\": \"\"}}, \"type\": \"scattergeo\"}], \"scattergl\": [{\"marker\": {\"colorbar\": {\"outlinewidth\": 0, \"ticks\": \"\"}}, \"type\": \"scattergl\"}], \"scattermapbox\": [{\"marker\": {\"colorbar\": {\"outlinewidth\": 0, \"ticks\": \"\"}}, \"type\": \"scattermapbox\"}], \"scatterpolar\": [{\"marker\": {\"colorbar\": {\"outlinewidth\": 0, \"ticks\": \"\"}}, \"type\": \"scatterpolar\"}], \"scatterpolargl\": [{\"marker\": {\"colorbar\": {\"outlinewidth\": 0, \"ticks\": \"\"}}, \"type\": \"scatterpolargl\"}], \"scatterternary\": [{\"marker\": {\"colorbar\": {\"outlinewidth\": 0, \"ticks\": \"\"}}, \"type\": \"scatterternary\"}], \"surface\": [{\"colorbar\": {\"outlinewidth\": 0, \"ticks\": \"\"}, \"colorscale\": [[0.0, \"#0d0887\"], [0.1111111111111111, \"#46039f\"], [0.2222222222222222, \"#7201a8\"], [0.3333333333333333, \"#9c179e\"], [0.4444444444444444, \"#bd3786\"], [0.5555555555555556, \"#d8576b\"], [0.6666666666666666, \"#ed7953\"], [0.7777777777777778, \"#fb9f3a\"], [0.8888888888888888, \"#fdca26\"], [1.0, \"#f0f921\"]], \"type\": \"surface\"}], \"table\": [{\"cells\": {\"fill\": {\"color\": \"#EBF0F8\"}, \"line\": {\"color\": \"white\"}}, \"header\": {\"fill\": {\"color\": \"#C8D4E3\"}, \"line\": {\"color\": \"white\"}}, \"type\": \"table\"}]}, \"layout\": {\"annotationdefaults\": {\"arrowcolor\": \"#2a3f5f\", \"arrowhead\": 0, \"arrowwidth\": 1}, \"coloraxis\": {\"colorbar\": {\"outlinewidth\": 0, \"ticks\": \"\"}}, \"colorscale\": {\"diverging\": [[0, \"#8e0152\"], [0.1, \"#c51b7d\"], [0.2, \"#de77ae\"], [0.3, \"#f1b6da\"], [0.4, \"#fde0ef\"], [0.5, \"#f7f7f7\"], [0.6, \"#e6f5d0\"], [0.7, \"#b8e186\"], [0.8, \"#7fbc41\"], [0.9, \"#4d9221\"], [1, \"#276419\"]], \"sequential\": [[0.0, \"#0d0887\"], [0.1111111111111111, \"#46039f\"], [0.2222222222222222, \"#7201a8\"], [0.3333333333333333, \"#9c179e\"], [0.4444444444444444, \"#bd3786\"], [0.5555555555555556, \"#d8576b\"], [0.6666666666666666, \"#ed7953\"], [0.7777777777777778, \"#fb9f3a\"], [0.8888888888888888, \"#fdca26\"], [1.0, \"#f0f921\"]], \"sequentialminus\": [[0.0, \"#0d0887\"], [0.1111111111111111, \"#46039f\"], [0.2222222222222222, \"#7201a8\"], [0.3333333333333333, \"#9c179e\"], [0.4444444444444444, \"#bd3786\"], [0.5555555555555556, \"#d8576b\"], [0.6666666666666666, \"#ed7953\"], [0.7777777777777778, \"#fb9f3a\"], [0.8888888888888888, \"#fdca26\"], [1.0, \"#f0f921\"]]}, \"colorway\": [\"#636efa\", \"#EF553B\", \"#00cc96\", \"#ab63fa\", \"#FFA15A\", \"#19d3f3\", \"#FF6692\", \"#B6E880\", \"#FF97FF\", \"#FECB52\"], \"font\": {\"color\": \"#2a3f5f\"}, \"geo\": {\"bgcolor\": \"white\", \"lakecolor\": \"white\", \"landcolor\": \"#E5ECF6\", \"showlakes\": true, \"showland\": true, \"subunitcolor\": \"white\"}, \"hoverlabel\": {\"align\": \"left\"}, \"hovermode\": \"closest\", \"mapbox\": {\"style\": \"light\"}, \"paper_bgcolor\": \"white\", \"plot_bgcolor\": \"#E5ECF6\", \"polar\": {\"angularaxis\": {\"gridcolor\": \"white\", \"linecolor\": \"white\", \"ticks\": \"\"}, \"bgcolor\": \"#E5ECF6\", \"radialaxis\": {\"gridcolor\": \"white\", \"linecolor\": \"white\", \"ticks\": \"\"}}, \"scene\": {\"xaxis\": {\"backgroundcolor\": \"#E5ECF6\", \"gridcolor\": \"white\", \"gridwidth\": 2, \"linecolor\": \"white\", \"showbackground\": true, \"ticks\": \"\", \"zerolinecolor\": \"white\"}, \"yaxis\": {\"backgroundcolor\": \"#E5ECF6\", \"gridcolor\": \"white\", \"gridwidth\": 2, \"linecolor\": \"white\", \"showbackground\": true, \"ticks\": \"\", \"zerolinecolor\": \"white\"}, \"zaxis\": {\"backgroundcolor\": \"#E5ECF6\", \"gridcolor\": \"white\", \"gridwidth\": 2, \"linecolor\": \"white\", \"showbackground\": true, \"ticks\": \"\", \"zerolinecolor\": \"white\"}}, \"shapedefaults\": {\"line\": {\"color\": \"#2a3f5f\"}}, \"ternary\": {\"aaxis\": {\"gridcolor\": \"white\", \"linecolor\": \"white\", \"ticks\": \"\"}, \"baxis\": {\"gridcolor\": \"white\", \"linecolor\": \"white\", \"ticks\": \"\"}, \"bgcolor\": \"#E5ECF6\", \"caxis\": {\"gridcolor\": \"white\", \"linecolor\": \"white\", \"ticks\": \"\"}}, \"title\": {\"x\": 0.05}, \"xaxis\": {\"automargin\": true, \"gridcolor\": \"white\", \"linecolor\": \"white\", \"ticks\": \"\", \"title\": {\"standoff\": 15}, \"zerolinecolor\": \"white\", \"zerolinewidth\": 2}, \"yaxis\": {\"automargin\": true, \"gridcolor\": \"white\", \"linecolor\": \"white\", \"ticks\": \"\", \"title\": {\"standoff\": 15}, \"zerolinecolor\": \"white\", \"zerolinewidth\": 2}}}, \"title\": {\"text\": \"3d TSNE Plot for Topic Model\"}, \"width\": 900},                        {\"responsive\": true}                    ).then(function(){\n",
       "                            \n",
       "var gd = document.getElementById('5e60b8e7-b0fa-4124-b131-da2e7ca6eed4');\n",
       "var x = new MutationObserver(function (mutations, observer) {{\n",
       "        var display = window.getComputedStyle(gd).display;\n",
       "        if (!display || display === 'none') {{\n",
       "            console.log([gd, 'removed!']);\n",
       "            Plotly.purge(gd);\n",
       "            observer.disconnect();\n",
       "        }}\n",
       "}});\n",
       "\n",
       "// Listen for the removal of the full notebook cells\n",
       "var notebookContainer = gd.closest('#notebook-container');\n",
       "if (notebookContainer) {{\n",
       "    x.observe(notebookContainer, {childList: true});\n",
       "}}\n",
       "\n",
       "// Listen for the clearing of the current output cell\n",
       "var outputEl = gd.closest('.output');\n",
       "if (outputEl) {{\n",
       "    x.observe(outputEl, {childList: true});\n",
       "}}\n",
       "\n",
       "                        })                };                });            </script>        </div>"
      ]
     },
     "metadata": {},
     "output_type": "display_data"
    }
   ],
   "source": [
    "plot_model(lda, plot = 'tsne')"
   ]
  },
  {
   "cell_type": "markdown",
   "metadata": {},
   "source": [
    "T-distributed Stochastic Neighbor Embedding (t-SNE) is a nonlinear dimensionality reduction technique well-suited for embedding high-dimensional data for visualization in a low-dimensional space of two or three dimensions.\n",
    "\n",
    "## Uniform Manifold Approximation and Projection Plot"
   ]
  },
  {
   "cell_type": "code",
   "execution_count": 23,
   "metadata": {},
   "outputs": [
    {
     "data": {
      "text/html": [
       "        <script type=\"text/javascript\">\n",
       "        window.PlotlyConfig = {MathJaxConfig: 'local'};\n",
       "        if (window.MathJax) {MathJax.Hub.Config({SVG: {font: \"STIX-Web\"}});}\n",
       "        if (typeof require !== 'undefined') {\n",
       "        require.undef(\"plotly\");\n",
       "        requirejs.config({\n",
       "            paths: {\n",
       "                'plotly': ['https://cdn.plot.ly/plotly-latest.min']\n",
       "            }\n",
       "        });\n",
       "        require(['plotly'], function(Plotly) {\n",
       "            window._Plotly = Plotly;\n",
       "        });\n",
       "        }\n",
       "        </script>\n",
       "        "
      ]
     },
     "metadata": {},
     "output_type": "display_data"
    },
    {
     "data": {
      "image/png": "[encoded data removed]",
      "text/plain": [
       "<Figure size 720x432 with 1 Axes>"
      ]
     },
     "metadata": {},
     "output_type": "display_data"
    }
   ],
   "source": [
    "plot_model(lda, plot = 'umap')"
   ]
  },
  {
   "cell_type": "code",
   "execution_count": null,
   "metadata": {},
   "outputs": [],
   "source": []
  }
 ],
 "metadata": {
  "kernelspec": {
   "display_name": "Python 3",
   "language": "python",
   "name": "python3"
  },
  "language_info": {
   "codemirror_mode": {
    "name": "ipython",
    "version": 3
   },
   "file_extension": ".py",
   "mimetype": "text/x-python",
   "name": "python",
   "nbconvert_exporter": "python",
   "pygments_lexer": "ipython3",
   "version": "3.8.3"
  }
 },
 "nbformat": 4,
 "nbformat_minor": 4
}
